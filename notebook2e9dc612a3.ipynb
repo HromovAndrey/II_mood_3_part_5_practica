{
  "metadata": {
    "kernelspec": {
      "language": "python",
      "display_name": "Python 3",
      "name": "python3"
    },
    "language_info": {
      "name": "python",
      "version": "3.10.13",
      "mimetype": "text/x-python",
      "codemirror_mode": {
        "name": "ipython",
        "version": 3
      },
      "pygments_lexer": "ipython3",
      "nbconvert_exporter": "python",
      "file_extension": ".py"
    },
    "kaggle": {
      "accelerator": "none",
      "dataSources": [
        {
          "sourceId": 10038,
          "databundleVersionId": 180088,
          "sourceType": "competition"
        }
      ],
      "dockerImageVersionId": 30746,
      "isInternetEnabled": true,
      "language": "python",
      "sourceType": "notebook",
      "isGpuEnabled": false
    },
    "colab": {
      "name": "notebook2e9dc612a3",
      "provenance": [],
      "include_colab_link": true
    }
  },
  "nbformat_minor": 0,
  "nbformat": 4,
  "cells": [
    {
      "cell_type": "markdown",
      "metadata": {
        "id": "view-in-github",
        "colab_type": "text"
      },
      "source": [
        "<a href=\"https://colab.research.google.com/github/HromovAndrey/II_mood_3_part_5_practica/blob/main/notebook2e9dc612a3.ipynb\" target=\"_parent\"><img src=\"https://colab.research.google.com/assets/colab-badge.svg\" alt=\"Open In Colab\"/></a>"
      ]
    },
    {
      "source": [
        "\n",
        "# IMPORTANT: RUN THIS CELL IN ORDER TO IMPORT YOUR KAGGLE DATA SOURCES\n",
        "# TO THE CORRECT LOCATION (/kaggle/input) IN YOUR NOTEBOOK,\n",
        "# THEN FEEL FREE TO DELETE THIS CELL.\n",
        "# NOTE: THIS NOTEBOOK ENVIRONMENT DIFFERS FROM KAGGLE'S PYTHON\n",
        "# ENVIRONMENT SO THERE MAY BE MISSING LIBRARIES USED BY YOUR\n",
        "# NOTEBOOK.\n",
        "\n",
        "import os\n",
        "import sys\n",
        "from tempfile import NamedTemporaryFile\n",
        "from urllib.request import urlopen\n",
        "from urllib.parse import unquote, urlparse\n",
        "from urllib.error import HTTPError\n",
        "from zipfile import ZipFile\n",
        "import tarfile\n",
        "import shutil\n",
        "\n",
        "CHUNK_SIZE = 40960\n",
        "DATA_SOURCE_MAPPING = 'ga-customer-revenue-prediction:https%3A%2F%2Fstorage.googleapis.com%2Fkaggle-competitions-data%2Fkaggle-v2%2F10038%2F180088%2Fbundle%2Farchive.zip%3FX-Goog-Algorithm%3DGOOG4-RSA-SHA256%26X-Goog-Credential%3Dgcp-kaggle-com%2540kaggle-161607.iam.gserviceaccount.com%252F20240721%252Fauto%252Fstorage%252Fgoog4_request%26X-Goog-Date%3D20240721T192731Z%26X-Goog-Expires%3D259200%26X-Goog-SignedHeaders%3Dhost%26X-Goog-Signature%3Db8a60f3edace73234b089d71497eee645bf1c503112b3026d7a3c12f2e6ca5253971795c3542e80d37a057923b2e46bb5c6bf31a55135d0cdec9280a14d519360317e1a1aa539ecbf9a892f0e4f1386ef8d6d5a4a791c780ccdb5116f55fcc84af2fc8e6d445e9140a74cbdd08b0438defeaadbf790859a999dd812e19e2cbc9e505114db19a38922027fff3380d39c67ba5406c5d140c514c848bc678eabf08004aadee96ac9b3fbf381bf5b57237c8608237706a51199384fe2921dd4c24310838a587b0c0bb480da0ca10f841c920b2a081e702e09a96729082b58900e9b2a24aae450177b6199e794369ee7334ce20627a2d818951236db8d6b5e7dc21ef'\n",
        "\n",
        "KAGGLE_INPUT_PATH='/kaggle/input'\n",
        "KAGGLE_WORKING_PATH='/kaggle/working'\n",
        "KAGGLE_SYMLINK='kaggle'\n",
        "\n",
        "!umount /kaggle/input/ 2> /dev/null\n",
        "shutil.rmtree('/kaggle/input', ignore_errors=True)\n",
        "os.makedirs(KAGGLE_INPUT_PATH, 0o777, exist_ok=True)\n",
        "os.makedirs(KAGGLE_WORKING_PATH, 0o777, exist_ok=True)\n",
        "\n",
        "try:\n",
        "  os.symlink(KAGGLE_INPUT_PATH, os.path.join(\"..\", 'input'), target_is_directory=True)\n",
        "except FileExistsError:\n",
        "  pass\n",
        "try:\n",
        "  os.symlink(KAGGLE_WORKING_PATH, os.path.join(\"..\", 'working'), target_is_directory=True)\n",
        "except FileExistsError:\n",
        "  pass\n",
        "\n",
        "for data_source_mapping in DATA_SOURCE_MAPPING.split(','):\n",
        "    directory, download_url_encoded = data_source_mapping.split(':')\n",
        "    download_url = unquote(download_url_encoded)\n",
        "    filename = urlparse(download_url).path\n",
        "    destination_path = os.path.join(KAGGLE_INPUT_PATH, directory)\n",
        "    try:\n",
        "        with urlopen(download_url) as fileres, NamedTemporaryFile() as tfile:\n",
        "            total_length = fileres.headers['content-length']\n",
        "            print(f'Downloading {directory}, {total_length} bytes compressed')\n",
        "            dl = 0\n",
        "            data = fileres.read(CHUNK_SIZE)\n",
        "            while len(data) > 0:\n",
        "                dl += len(data)\n",
        "                tfile.write(data)\n",
        "                done = int(50 * dl / int(total_length))\n",
        "                sys.stdout.write(f\"\\r[{'=' * done}{' ' * (50-done)}] {dl} bytes downloaded\")\n",
        "                sys.stdout.flush()\n",
        "                data = fileres.read(CHUNK_SIZE)\n",
        "            if filename.endswith('.zip'):\n",
        "              with ZipFile(tfile) as zfile:\n",
        "                zfile.extractall(destination_path)\n",
        "            else:\n",
        "              with tarfile.open(tfile.name) as tarfile:\n",
        "                tarfile.extractall(destination_path)\n",
        "            print(f'\\nDownloaded and uncompressed: {directory}')\n",
        "    except HTTPError as e:\n",
        "        print(f'Failed to load (likely expired) {download_url} to path {destination_path}')\n",
        "        continue\n",
        "    except OSError as e:\n",
        "        print(f'Failed to load {download_url} to path {destination_path}')\n",
        "        continue\n",
        "\n",
        "print('Data source import complete.')\n"
      ],
      "metadata": {
        "id": "eXlM5LkClaJ6"
      },
      "cell_type": "code",
      "outputs": [],
      "execution_count": null
    },
    {
      "cell_type": "code",
      "source": [
        "# This Python 3 environment comes with many helpful analytics libraries installed\n",
        "# It is defined by the kaggle/python Docker image: https://github.com/kaggle/docker-python\n",
        "# For example, here's several helpful packages to load\n",
        "\n",
        "import numpy as np # linear algebra\n",
        "import pandas as pd # data processing, CSV file I/O (e.g. pd.read_csv)\n",
        "\n",
        "# Input data files are available in the read-only \"../input/\" directory\n",
        "# For example, running this (by clicking run or pressing Shift+Enter) will list all files under the input directory\n",
        "\n",
        "import os\n",
        "for dirname, _, filenames in os.walk('/kaggle/input'):\n",
        "    for filename in filenames:\n",
        "        print(os.path.join(dirname, filename))\n",
        "\n",
        "# You can write up to 20GB to the current directory (/kaggle/working/) that gets preserved as output when you create a version using \"Save & Run All\"\n",
        "# You can also write temporary files to /kaggle/temp/, but they won't be saved outside of the current session"
      ],
      "metadata": {
        "_uuid": "8f2839f25d086af736a60e9eeb907d3b93b6e0e5",
        "_cell_guid": "b1076dfc-b9ad-4769-8c92-a6c4dae69d19",
        "execution": {
          "iopub.status.busy": "2024-07-21T18:11:45.937493Z",
          "iopub.execute_input": "2024-07-21T18:11:45.938589Z",
          "iopub.status.idle": "2024-07-21T18:11:45.950545Z",
          "shell.execute_reply.started": "2024-07-21T18:11:45.938543Z",
          "shell.execute_reply": "2024-07-21T18:11:45.949065Z"
        },
        "trusted": true,
        "id": "Ycg4tVIGlaJ-"
      },
      "execution_count": null,
      "outputs": []
    },
    {
      "cell_type": "code",
      "source": [
        "import json\n",
        "import pandas as pd\n",
        "from sklearn.model_selection import train_test_split, GridSearchCV\n",
        "from sklearn.pipeline import Pipeline\n",
        "from sklearn.impute import SimpleImputer\n",
        "from sklearn.preprocessing import OneHotEncoder\n",
        "from sklearn.compose import ColumnTransformer\n",
        "from sklearn.metrics import mean_squared_error, r2_score\n",
        "import lightgbm as lgb\n",
        "import matplotlib.pyplot as plt\n",
        "import numpy as np\n",
        "import joblib\n",
        "\n",
        "\n",
        "def load_df(csv_path='/kaggle/input/ga-customer-revenue-prediction/train_v2.csv', nrows=None):\n",
        "    JSON_COLUMNS = ['device', 'geoNetwork', 'totals', 'trafficSource']\n",
        "\n",
        "    df = pd.read_csv(csv_path,\n",
        "                     converters={column: json.loads for column in JSON_COLUMNS},\n",
        "                     dtype={'fullVisitorId': 'str'},\n",
        "                     nrows=nrows)\n",
        "\n",
        "    for column in JSON_COLUMNS:\n",
        "        column_as_df = pd.json_normalize(df[column])\n",
        "        column_as_df.columns = [f\"{column}_{subcolumn}\" for subcolumn in column_as_df.columns]\n",
        "        df = df.drop(column, axis=1).merge(column_as_df, right_index=True, left_index=True)\n",
        "\n",
        "    df.drop(columns=['customDimensions', 'hits'], inplace=True)\n",
        "\n",
        "    df = df.fillna({'totals_pageviews':0,\n",
        "                    'totals_transactionRevenue':0,\n",
        "                    'totals_pageviews':0})\n",
        "\n",
        "    df['device_isMobile'] = df['device_isMobile'].astype(int)\n",
        "    df['totals_transactionRevenue'] = df['totals_transactionRevenue'].astype(int)\n",
        "\n",
        "    cat_col = df.select_dtypes(include='object').columns\n",
        "\n",
        "    df[cat_col] = df[cat_col].astype(str)\n",
        "\n",
        "    return df\n",
        "\n",
        "\n",
        "df = load_df('/kaggle/input/ga-customer-revenue-prediction/train_v2.csv', nrows=100_000)"
      ],
      "metadata": {
        "execution": {
          "iopub.status.busy": "2024-07-21T18:11:45.953198Z",
          "iopub.execute_input": "2024-07-21T18:11:45.953684Z",
          "iopub.status.idle": "2024-07-21T18:12:13.267417Z",
          "shell.execute_reply.started": "2024-07-21T18:11:45.953643Z",
          "shell.execute_reply": "2024-07-21T18:12:13.265876Z"
        },
        "trusted": true,
        "id": "11ZLrM5ZlaJ_"
      },
      "execution_count": null,
      "outputs": []
    },
    {
      "cell_type": "code",
      "source": [
        "y = df['totals_transactionRevenue']\n",
        "X = df.drop(columns='totals_transactionRevenue')"
      ],
      "metadata": {
        "execution": {
          "iopub.status.busy": "2024-07-21T18:12:13.268963Z",
          "iopub.execute_input": "2024-07-21T18:12:13.269354Z",
          "iopub.status.idle": "2024-07-21T18:12:13.528421Z",
          "shell.execute_reply.started": "2024-07-21T18:12:13.269308Z",
          "shell.execute_reply": "2024-07-21T18:12:13.526603Z"
        },
        "trusted": true,
        "id": "2_U9wQ-llaJ_"
      },
      "execution_count": null,
      "outputs": []
    },
    {
      "cell_type": "code",
      "source": [
        "X_train, X_test, y_train, y_test = train_test_split(X, y, test_size=0.2,\n",
        "                                                    random_state=42)"
      ],
      "metadata": {
        "execution": {
          "iopub.status.busy": "2024-07-21T18:12:13.532388Z",
          "iopub.execute_input": "2024-07-21T18:12:13.532889Z",
          "iopub.status.idle": "2024-07-21T18:12:14.285083Z",
          "shell.execute_reply.started": "2024-07-21T18:12:13.532855Z",
          "shell.execute_reply": "2024-07-21T18:12:14.283791Z"
        },
        "trusted": true,
        "id": "GmI6dme1laKA"
      },
      "execution_count": null,
      "outputs": []
    },
    {
      "cell_type": "code",
      "source": [
        "numeric_features = X.select_dtypes(include=['int64', 'float64']).columns\n",
        "categorical_features = X.select_dtypes(include=['object']).columns"
      ],
      "metadata": {
        "execution": {
          "iopub.status.busy": "2024-07-21T18:12:14.286552Z",
          "iopub.execute_input": "2024-07-21T18:12:14.286934Z",
          "iopub.status.idle": "2024-07-21T18:12:14.792651Z",
          "shell.execute_reply.started": "2024-07-21T18:12:14.286903Z",
          "shell.execute_reply": "2024-07-21T18:12:14.79141Z"
        },
        "trusted": true,
        "id": "2Qk-BWUrlaKC"
      },
      "execution_count": null,
      "outputs": []
    },
    {
      "cell_type": "code",
      "source": [
        "numeric_transformer = Pipeline(steps=[\n",
        "    ('imputer', SimpleImputer(strategy='median'))\n",
        "])"
      ],
      "metadata": {
        "execution": {
          "iopub.status.busy": "2024-07-21T18:12:14.794743Z",
          "iopub.execute_input": "2024-07-21T18:12:14.795202Z",
          "iopub.status.idle": "2024-07-21T18:12:14.802657Z",
          "shell.execute_reply.started": "2024-07-21T18:12:14.795171Z",
          "shell.execute_reply": "2024-07-21T18:12:14.800999Z"
        },
        "trusted": true,
        "id": "n5w95VUKlaKC"
      },
      "execution_count": null,
      "outputs": []
    },
    {
      "cell_type": "code",
      "source": [
        "categorical_transformer = Pipeline(steps=[\n",
        "    ('imputer', SimpleImputer(strategy='most_frequent')),\n",
        "    ('onehot', OneHotEncoder(handle_unknown='ignore'))\n",
        "])"
      ],
      "metadata": {
        "execution": {
          "iopub.status.busy": "2024-07-21T18:12:14.804838Z",
          "iopub.execute_input": "2024-07-21T18:12:14.805341Z",
          "iopub.status.idle": "2024-07-21T18:12:14.826192Z",
          "shell.execute_reply.started": "2024-07-21T18:12:14.805301Z",
          "shell.execute_reply": "2024-07-21T18:12:14.82415Z"
        },
        "trusted": true,
        "id": "-BLCZpr2laKD"
      },
      "execution_count": null,
      "outputs": []
    },
    {
      "cell_type": "code",
      "source": [
        "preprocessor = ColumnTransformer(\n",
        "    transformers=[\n",
        "        ('num', numeric_transformer, numeric_features),\n",
        "        ('cat', categorical_transformer, categorical_features)\n",
        "    ])"
      ],
      "metadata": {
        "execution": {
          "iopub.status.busy": "2024-07-21T18:12:14.827721Z",
          "iopub.execute_input": "2024-07-21T18:12:14.828224Z",
          "iopub.status.idle": "2024-07-21T18:12:14.85243Z",
          "shell.execute_reply.started": "2024-07-21T18:12:14.828176Z",
          "shell.execute_reply": "2024-07-21T18:12:14.850953Z"
        },
        "trusted": true,
        "id": "jz0gqwkSlaKD"
      },
      "execution_count": null,
      "outputs": []
    },
    {
      "cell_type": "code",
      "source": [
        "X_train_preprocessed = preprocessor.fit_transform(X_train)\n",
        "X_test_preprocessed = preprocessor.transform(X_test)"
      ],
      "metadata": {
        "execution": {
          "iopub.status.busy": "2024-07-21T18:12:14.857183Z",
          "iopub.execute_input": "2024-07-21T18:12:14.857598Z",
          "iopub.status.idle": "2024-07-21T18:12:23.609674Z",
          "shell.execute_reply.started": "2024-07-21T18:12:14.857565Z",
          "shell.execute_reply": "2024-07-21T18:12:23.608259Z"
        },
        "trusted": true,
        "id": "Z44ndFfYlaKE"
      },
      "execution_count": null,
      "outputs": []
    },
    {
      "cell_type": "code",
      "source": [
        "param_grid = {\n",
        "    'num_leaves': [31, 50],\n",
        "    'learning_rate': [0.01, 0.05, 0.1],\n",
        "    'n_estimators': [100, 200]\n",
        "}\n",
        "\n",
        "lgb_model = lgb.LGBMRegressor()\n",
        "\n",
        "grid_search = GridSearchCV(estimator=lgb_model, param_grid=param_grid, cv=3, scoring='neg_mean_squared_error')\n",
        "grid_search.fit(X_train_preprocessed, y_train)"
      ],
      "metadata": {
        "execution": {
          "iopub.status.busy": "2024-07-21T18:12:23.6109Z",
          "iopub.execute_input": "2024-07-21T18:12:23.611235Z",
          "iopub.status.idle": "2024-07-21T18:14:22.076657Z",
          "shell.execute_reply.started": "2024-07-21T18:12:23.611208Z",
          "shell.execute_reply": "2024-07-21T18:14:22.074776Z"
        },
        "trusted": true,
        "id": "Dx2lAzsIlaKE"
      },
      "execution_count": null,
      "outputs": []
    },
    {
      "cell_type": "code",
      "source": [
        "best_model = grid_search.best_estimator_"
      ],
      "metadata": {
        "execution": {
          "iopub.status.busy": "2024-07-21T18:14:22.079826Z",
          "iopub.execute_input": "2024-07-21T18:14:22.080296Z",
          "iopub.status.idle": "2024-07-21T18:14:22.087244Z",
          "shell.execute_reply.started": "2024-07-21T18:14:22.080251Z",
          "shell.execute_reply": "2024-07-21T18:14:22.0853Z"
        },
        "trusted": true,
        "id": "q8EDy3m0laKF"
      },
      "execution_count": null,
      "outputs": []
    },
    {
      "cell_type": "code",
      "source": [
        "y_train_pred = best_model.predict(X_train_preprocessed)\n",
        "y_test_pred = best_model.predict(X_test_preprocessed)"
      ],
      "metadata": {
        "execution": {
          "iopub.status.busy": "2024-07-21T18:14:22.089688Z",
          "iopub.execute_input": "2024-07-21T18:14:22.090226Z",
          "iopub.status.idle": "2024-07-21T18:14:22.587548Z",
          "shell.execute_reply.started": "2024-07-21T18:14:22.090179Z",
          "shell.execute_reply": "2024-07-21T18:14:22.58591Z"
        },
        "trusted": true,
        "id": "XMZhd-QflaKH"
      },
      "execution_count": null,
      "outputs": []
    },
    {
      "cell_type": "code",
      "source": [
        "def get_metrics(y_true, y_pred):\n",
        "    return {\n",
        "        \"MSE\": mean_squared_error(y_true, y_pred),\n",
        "        \"R2\": r2_score(y_true, y_pred)\n",
        "    }"
      ],
      "metadata": {
        "execution": {
          "iopub.status.busy": "2024-07-21T18:14:22.589305Z",
          "iopub.execute_input": "2024-07-21T18:14:22.589861Z",
          "iopub.status.idle": "2024-07-21T18:14:22.598424Z",
          "shell.execute_reply.started": "2024-07-21T18:14:22.589804Z",
          "shell.execute_reply": "2024-07-21T18:14:22.596371Z"
        },
        "trusted": true,
        "id": "afpdhY8KlaKI"
      },
      "execution_count": null,
      "outputs": []
    },
    {
      "cell_type": "code",
      "source": [
        "train_metrics = get_metrics(y_train, y_train_pred)\n",
        "test_metrics = get_metrics(y_test, y_test_pred)\n",
        "print(\"Train metrics:\", train_metrics)\n",
        "print(\"Test metrics:\", test_metrics)"
      ],
      "metadata": {
        "execution": {
          "iopub.status.busy": "2024-07-21T18:14:22.600459Z",
          "iopub.execute_input": "2024-07-21T18:14:22.600905Z",
          "iopub.status.idle": "2024-07-21T18:14:22.626609Z",
          "shell.execute_reply.started": "2024-07-21T18:14:22.600872Z",
          "shell.execute_reply": "2024-07-21T18:14:22.625078Z"
        },
        "trusted": true,
        "id": "X-4248IOlaKI"
      },
      "execution_count": null,
      "outputs": []
    },
    {
      "cell_type": "code",
      "source": [
        "metrics_df = pd.DataFrame({'Train': list(train_metrics.values()), 'Test': list(test_metrics.values())}, index=train_metrics.keys())\n",
        "metrics_df.plot(kind='bar')\n",
        "plt.title(\"Metrics on Train and Test Data\")\n",
        "plt.ylabel(\"Metric Value\")\n",
        "plt.show()"
      ],
      "metadata": {
        "execution": {
          "iopub.status.busy": "2024-07-21T18:14:22.628183Z",
          "iopub.execute_input": "2024-07-21T18:14:22.629202Z",
          "iopub.status.idle": "2024-07-21T18:14:22.977987Z",
          "shell.execute_reply.started": "2024-07-21T18:14:22.629133Z",
          "shell.execute_reply": "2024-07-21T18:14:22.976688Z"
        },
        "trusted": true,
        "id": "gesDz-3SlaKJ"
      },
      "execution_count": null,
      "outputs": []
    },
    {
      "cell_type": "code",
      "source": [
        "feature_importance = best_model.feature_importances_\n",
        "feature_names = numeric_features.tolist() + preprocessor.named_transformers_['cat']['onehot'].get_feature_names_out(categorical_features).tolist()\n",
        "\n",
        "importance_df = pd.DataFrame({'Feature': feature_names, 'Importance': feature_importance})\n",
        "importance_df = importance_df.sort_values(by='Importance', ascending=False)\n",
        "\n",
        "print(importance_df.head(10))"
      ],
      "metadata": {
        "execution": {
          "iopub.status.busy": "2024-07-21T18:14:22.979966Z",
          "iopub.execute_input": "2024-07-21T18:14:22.980408Z",
          "iopub.status.idle": "2024-07-21T18:14:23.084711Z",
          "shell.execute_reply.started": "2024-07-21T18:14:22.980375Z",
          "shell.execute_reply": "2024-07-21T18:14:23.082909Z"
        },
        "trusted": true,
        "id": "-DR0tDWElaKK"
      },
      "execution_count": null,
      "outputs": []
    },
    {
      "cell_type": "code",
      "source": [
        "plt.figure(figsize=(10, 8))\n",
        "plt.barh(importance_df['Feature'], importance_df['Importance'])\n",
        "plt.xlabel(\"Feature Importance\")\n",
        "plt.title(\"Feature Importance for GStore Revenue Prediction\")\n",
        "plt.gca().invert_yaxis()\n",
        "plt.show()"
      ],
      "metadata": {
        "execution": {
          "iopub.status.busy": "2024-07-21T18:14:23.086288Z",
          "iopub.execute_input": "2024-07-21T18:14:23.086691Z",
          "iopub.status.idle": "2024-07-21T18:36:00.411998Z",
          "shell.execute_reply.started": "2024-07-21T18:14:23.086656Z",
          "shell.execute_reply": "2024-07-21T18:36:00.408607Z"
        },
        "trusted": true,
        "id": "U6uD-NXJlaKK"
      },
      "execution_count": null,
      "outputs": []
    },
    {
      "cell_type": "code",
      "source": [
        "final_model = Pipeline(steps=[('preprocessor', preprocessor),\n",
        "                              ('regressor', best_model)])\n",
        "\n",
        "joblib.dump(final_model, 'gstore_revenue_model.pkl')"
      ],
      "metadata": {
        "execution": {
          "iopub.status.busy": "2024-07-21T18:36:00.413967Z",
          "iopub.status.idle": "2024-07-21T18:36:00.414573Z",
          "shell.execute_reply.started": "2024-07-21T18:36:00.414323Z",
          "shell.execute_reply": "2024-07-21T18:36:00.414344Z"
        },
        "trusted": true,
        "id": "TePymJ_klaKK"
      },
      "execution_count": null,
      "outputs": []
    },
    {
      "cell_type": "code",
      "source": [
        "loaded_model = joblib.load('gstore_revenue_model.pkl')"
      ],
      "metadata": {
        "execution": {
          "iopub.status.busy": "2024-07-21T18:36:00.417501Z",
          "iopub.status.idle": "2024-07-21T18:36:00.417978Z",
          "shell.execute_reply.started": "2024-07-21T18:36:00.417768Z",
          "shell.execute_reply": "2024-07-21T18:36:00.417785Z"
        },
        "trusted": true,
        "id": "439JnoPllaKL"
      },
      "execution_count": null,
      "outputs": []
    },
    {
      "cell_type": "code",
      "source": [
        "example_data = X_test.iloc[:5, :]\n",
        "example_pred = loaded_model.predict(example_data)\n",
        "\n",
        "print(\"Predictions:\", example_pred)\n",
        "print(\"Actual revenues:\", y_test.iloc[:5].values)"
      ],
      "metadata": {
        "id": "_G2ivZoLlaKL"
      },
      "execution_count": null,
      "outputs": []
    }
  ]
}