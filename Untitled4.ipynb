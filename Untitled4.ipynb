{
  "nbformat": 4,
  "nbformat_minor": 0,
  "metadata": {
    "colab": {
      "provenance": [],
      "authorship_tag": "ABX9TyMjIpLixVuRTlih6DJ0fPoT",
      "include_colab_link": true
    },
    "kernelspec": {
      "name": "python3",
      "display_name": "Python 3"
    },
    "language_info": {
      "name": "python"
    }
  },
  "cells": [
    {
      "cell_type": "markdown",
      "metadata": {
        "id": "view-in-github",
        "colab_type": "text"
      },
      "source": [
        "<a href=\"https://colab.research.google.com/github/HromovAndrey/II_mood_3_part_5_practica/blob/Practika/Untitled4.ipynb\" target=\"_parent\"><img src=\"https://colab.research.google.com/assets/colab-badge.svg\" alt=\"Open In Colab\"/></a>"
      ]
    },
    {
      "cell_type": "code",
      "execution_count": 32,
      "metadata": {
        "id": "eTAB_NyvoNND"
      },
      "outputs": [],
      "source": [
        "!pip install -q optuna"
      ]
    },
    {
      "cell_type": "code",
      "source": [
        "import pandas as pd\n",
        "import numpy as np\n",
        "import matplotlib.pyplot as plt\n",
        "from sklearn import model_selection, metrics\n",
        "import lightgbm as lgb\n",
        "import optuna\n"
      ],
      "metadata": {
        "id": "2eLrSzjP2PFS"
      },
      "execution_count": 33,
      "outputs": []
    },
    {
      "cell_type": "code",
      "source": [
        "df = pd.read_csv(\"https://raw.githubusercontent.com/HalyshAnton/IT-Step-Pyton-AI/main/module3/data/diamonds2.csv\",\n",
        "                 index_col=0\n",
        "                 )"
      ],
      "metadata": {
        "id": "WZjuAQ2z9f8u"
      },
      "execution_count": 34,
      "outputs": []
    },
    {
      "cell_type": "code",
      "source": [
        "df.head()\n"
      ],
      "metadata": {
        "colab": {
          "base_uri": "https://localhost:8080/",
          "height": 206
        },
        "id": "_Nxg1uef_2XO",
        "outputId": "e296a731-560f-4b36-d0b6-cce6dc542ca9"
      },
      "execution_count": 35,
      "outputs": [
        {
          "output_type": "execute_result",
          "data": {
            "text/plain": [
              "   carat      cut color clarity  depth  table  price     x     y     z\n",
              "1   0.23    Ideal     E     SI2   61.5   55.0    326  3.95  3.98  2.43\n",
              "2   0.21  Premium     E     SI1   59.8   61.0    326  3.89  3.84  2.31\n",
              "3   0.23     Good     E     VS1   56.9   65.0    327  4.05  4.07  2.31\n",
              "4   0.29  Premium     I     VS2   62.4   58.0    334  4.20  4.23  2.63\n",
              "5   0.31     Good     J     SI2   63.3   58.0    335  4.34  4.35  2.75"
            ],
            "text/html": [
              "\n",
              "  <div id=\"df-29c5f5bd-96f5-4a64-8a98-40df67246f0e\" class=\"colab-df-container\">\n",
              "    <div>\n",
              "<style scoped>\n",
              "    .dataframe tbody tr th:only-of-type {\n",
              "        vertical-align: middle;\n",
              "    }\n",
              "\n",
              "    .dataframe tbody tr th {\n",
              "        vertical-align: top;\n",
              "    }\n",
              "\n",
              "    .dataframe thead th {\n",
              "        text-align: right;\n",
              "    }\n",
              "</style>\n",
              "<table border=\"1\" class=\"dataframe\">\n",
              "  <thead>\n",
              "    <tr style=\"text-align: right;\">\n",
              "      <th></th>\n",
              "      <th>carat</th>\n",
              "      <th>cut</th>\n",
              "      <th>color</th>\n",
              "      <th>clarity</th>\n",
              "      <th>depth</th>\n",
              "      <th>table</th>\n",
              "      <th>price</th>\n",
              "      <th>x</th>\n",
              "      <th>y</th>\n",
              "      <th>z</th>\n",
              "    </tr>\n",
              "  </thead>\n",
              "  <tbody>\n",
              "    <tr>\n",
              "      <th>1</th>\n",
              "      <td>0.23</td>\n",
              "      <td>Ideal</td>\n",
              "      <td>E</td>\n",
              "      <td>SI2</td>\n",
              "      <td>61.5</td>\n",
              "      <td>55.0</td>\n",
              "      <td>326</td>\n",
              "      <td>3.95</td>\n",
              "      <td>3.98</td>\n",
              "      <td>2.43</td>\n",
              "    </tr>\n",
              "    <tr>\n",
              "      <th>2</th>\n",
              "      <td>0.21</td>\n",
              "      <td>Premium</td>\n",
              "      <td>E</td>\n",
              "      <td>SI1</td>\n",
              "      <td>59.8</td>\n",
              "      <td>61.0</td>\n",
              "      <td>326</td>\n",
              "      <td>3.89</td>\n",
              "      <td>3.84</td>\n",
              "      <td>2.31</td>\n",
              "    </tr>\n",
              "    <tr>\n",
              "      <th>3</th>\n",
              "      <td>0.23</td>\n",
              "      <td>Good</td>\n",
              "      <td>E</td>\n",
              "      <td>VS1</td>\n",
              "      <td>56.9</td>\n",
              "      <td>65.0</td>\n",
              "      <td>327</td>\n",
              "      <td>4.05</td>\n",
              "      <td>4.07</td>\n",
              "      <td>2.31</td>\n",
              "    </tr>\n",
              "    <tr>\n",
              "      <th>4</th>\n",
              "      <td>0.29</td>\n",
              "      <td>Premium</td>\n",
              "      <td>I</td>\n",
              "      <td>VS2</td>\n",
              "      <td>62.4</td>\n",
              "      <td>58.0</td>\n",
              "      <td>334</td>\n",
              "      <td>4.20</td>\n",
              "      <td>4.23</td>\n",
              "      <td>2.63</td>\n",
              "    </tr>\n",
              "    <tr>\n",
              "      <th>5</th>\n",
              "      <td>0.31</td>\n",
              "      <td>Good</td>\n",
              "      <td>J</td>\n",
              "      <td>SI2</td>\n",
              "      <td>63.3</td>\n",
              "      <td>58.0</td>\n",
              "      <td>335</td>\n",
              "      <td>4.34</td>\n",
              "      <td>4.35</td>\n",
              "      <td>2.75</td>\n",
              "    </tr>\n",
              "  </tbody>\n",
              "</table>\n",
              "</div>\n",
              "    <div class=\"colab-df-buttons\">\n",
              "\n",
              "  <div class=\"colab-df-container\">\n",
              "    <button class=\"colab-df-convert\" onclick=\"convertToInteractive('df-29c5f5bd-96f5-4a64-8a98-40df67246f0e')\"\n",
              "            title=\"Convert this dataframe to an interactive table.\"\n",
              "            style=\"display:none;\">\n",
              "\n",
              "  <svg xmlns=\"http://www.w3.org/2000/svg\" height=\"24px\" viewBox=\"0 -960 960 960\">\n",
              "    <path d=\"M120-120v-720h720v720H120Zm60-500h600v-160H180v160Zm220 220h160v-160H400v160Zm0 220h160v-160H400v160ZM180-400h160v-160H180v160Zm440 0h160v-160H620v160ZM180-180h160v-160H180v160Zm440 0h160v-160H620v160Z\"/>\n",
              "  </svg>\n",
              "    </button>\n",
              "\n",
              "  <style>\n",
              "    .colab-df-container {\n",
              "      display:flex;\n",
              "      gap: 12px;\n",
              "    }\n",
              "\n",
              "    .colab-df-convert {\n",
              "      background-color: #E8F0FE;\n",
              "      border: none;\n",
              "      border-radius: 50%;\n",
              "      cursor: pointer;\n",
              "      display: none;\n",
              "      fill: #1967D2;\n",
              "      height: 32px;\n",
              "      padding: 0 0 0 0;\n",
              "      width: 32px;\n",
              "    }\n",
              "\n",
              "    .colab-df-convert:hover {\n",
              "      background-color: #E2EBFA;\n",
              "      box-shadow: 0px 1px 2px rgba(60, 64, 67, 0.3), 0px 1px 3px 1px rgba(60, 64, 67, 0.15);\n",
              "      fill: #174EA6;\n",
              "    }\n",
              "\n",
              "    .colab-df-buttons div {\n",
              "      margin-bottom: 4px;\n",
              "    }\n",
              "\n",
              "    [theme=dark] .colab-df-convert {\n",
              "      background-color: #3B4455;\n",
              "      fill: #D2E3FC;\n",
              "    }\n",
              "\n",
              "    [theme=dark] .colab-df-convert:hover {\n",
              "      background-color: #434B5C;\n",
              "      box-shadow: 0px 1px 3px 1px rgba(0, 0, 0, 0.15);\n",
              "      filter: drop-shadow(0px 1px 2px rgba(0, 0, 0, 0.3));\n",
              "      fill: #FFFFFF;\n",
              "    }\n",
              "  </style>\n",
              "\n",
              "    <script>\n",
              "      const buttonEl =\n",
              "        document.querySelector('#df-29c5f5bd-96f5-4a64-8a98-40df67246f0e button.colab-df-convert');\n",
              "      buttonEl.style.display =\n",
              "        google.colab.kernel.accessAllowed ? 'block' : 'none';\n",
              "\n",
              "      async function convertToInteractive(key) {\n",
              "        const element = document.querySelector('#df-29c5f5bd-96f5-4a64-8a98-40df67246f0e');\n",
              "        const dataTable =\n",
              "          await google.colab.kernel.invokeFunction('convertToInteractive',\n",
              "                                                    [key], {});\n",
              "        if (!dataTable) return;\n",
              "\n",
              "        const docLinkHtml = 'Like what you see? Visit the ' +\n",
              "          '<a target=\"_blank\" href=https://colab.research.google.com/notebooks/data_table.ipynb>data table notebook</a>'\n",
              "          + ' to learn more about interactive tables.';\n",
              "        element.innerHTML = '';\n",
              "        dataTable['output_type'] = 'display_data';\n",
              "        await google.colab.output.renderOutput(dataTable, element);\n",
              "        const docLink = document.createElement('div');\n",
              "        docLink.innerHTML = docLinkHtml;\n",
              "        element.appendChild(docLink);\n",
              "      }\n",
              "    </script>\n",
              "  </div>\n",
              "\n",
              "\n",
              "<div id=\"df-ddf15efe-81e6-4047-97d9-87245ac52ccc\">\n",
              "  <button class=\"colab-df-quickchart\" onclick=\"quickchart('df-ddf15efe-81e6-4047-97d9-87245ac52ccc')\"\n",
              "            title=\"Suggest charts\"\n",
              "            style=\"display:none;\">\n",
              "\n",
              "<svg xmlns=\"http://www.w3.org/2000/svg\" height=\"24px\"viewBox=\"0 0 24 24\"\n",
              "     width=\"24px\">\n",
              "    <g>\n",
              "        <path d=\"M19 3H5c-1.1 0-2 .9-2 2v14c0 1.1.9 2 2 2h14c1.1 0 2-.9 2-2V5c0-1.1-.9-2-2-2zM9 17H7v-7h2v7zm4 0h-2V7h2v10zm4 0h-2v-4h2v4z\"/>\n",
              "    </g>\n",
              "</svg>\n",
              "  </button>\n",
              "\n",
              "<style>\n",
              "  .colab-df-quickchart {\n",
              "      --bg-color: #E8F0FE;\n",
              "      --fill-color: #1967D2;\n",
              "      --hover-bg-color: #E2EBFA;\n",
              "      --hover-fill-color: #174EA6;\n",
              "      --disabled-fill-color: #AAA;\n",
              "      --disabled-bg-color: #DDD;\n",
              "  }\n",
              "\n",
              "  [theme=dark] .colab-df-quickchart {\n",
              "      --bg-color: #3B4455;\n",
              "      --fill-color: #D2E3FC;\n",
              "      --hover-bg-color: #434B5C;\n",
              "      --hover-fill-color: #FFFFFF;\n",
              "      --disabled-bg-color: #3B4455;\n",
              "      --disabled-fill-color: #666;\n",
              "  }\n",
              "\n",
              "  .colab-df-quickchart {\n",
              "    background-color: var(--bg-color);\n",
              "    border: none;\n",
              "    border-radius: 50%;\n",
              "    cursor: pointer;\n",
              "    display: none;\n",
              "    fill: var(--fill-color);\n",
              "    height: 32px;\n",
              "    padding: 0;\n",
              "    width: 32px;\n",
              "  }\n",
              "\n",
              "  .colab-df-quickchart:hover {\n",
              "    background-color: var(--hover-bg-color);\n",
              "    box-shadow: 0 1px 2px rgba(60, 64, 67, 0.3), 0 1px 3px 1px rgba(60, 64, 67, 0.15);\n",
              "    fill: var(--button-hover-fill-color);\n",
              "  }\n",
              "\n",
              "  .colab-df-quickchart-complete:disabled,\n",
              "  .colab-df-quickchart-complete:disabled:hover {\n",
              "    background-color: var(--disabled-bg-color);\n",
              "    fill: var(--disabled-fill-color);\n",
              "    box-shadow: none;\n",
              "  }\n",
              "\n",
              "  .colab-df-spinner {\n",
              "    border: 2px solid var(--fill-color);\n",
              "    border-color: transparent;\n",
              "    border-bottom-color: var(--fill-color);\n",
              "    animation:\n",
              "      spin 1s steps(1) infinite;\n",
              "  }\n",
              "\n",
              "  @keyframes spin {\n",
              "    0% {\n",
              "      border-color: transparent;\n",
              "      border-bottom-color: var(--fill-color);\n",
              "      border-left-color: var(--fill-color);\n",
              "    }\n",
              "    20% {\n",
              "      border-color: transparent;\n",
              "      border-left-color: var(--fill-color);\n",
              "      border-top-color: var(--fill-color);\n",
              "    }\n",
              "    30% {\n",
              "      border-color: transparent;\n",
              "      border-left-color: var(--fill-color);\n",
              "      border-top-color: var(--fill-color);\n",
              "      border-right-color: var(--fill-color);\n",
              "    }\n",
              "    40% {\n",
              "      border-color: transparent;\n",
              "      border-right-color: var(--fill-color);\n",
              "      border-top-color: var(--fill-color);\n",
              "    }\n",
              "    60% {\n",
              "      border-color: transparent;\n",
              "      border-right-color: var(--fill-color);\n",
              "    }\n",
              "    80% {\n",
              "      border-color: transparent;\n",
              "      border-right-color: var(--fill-color);\n",
              "      border-bottom-color: var(--fill-color);\n",
              "    }\n",
              "    90% {\n",
              "      border-color: transparent;\n",
              "      border-bottom-color: var(--fill-color);\n",
              "    }\n",
              "  }\n",
              "</style>\n",
              "\n",
              "  <script>\n",
              "    async function quickchart(key) {\n",
              "      const quickchartButtonEl =\n",
              "        document.querySelector('#' + key + ' button');\n",
              "      quickchartButtonEl.disabled = true;  // To prevent multiple clicks.\n",
              "      quickchartButtonEl.classList.add('colab-df-spinner');\n",
              "      try {\n",
              "        const charts = await google.colab.kernel.invokeFunction(\n",
              "            'suggestCharts', [key], {});\n",
              "      } catch (error) {\n",
              "        console.error('Error during call to suggestCharts:', error);\n",
              "      }\n",
              "      quickchartButtonEl.classList.remove('colab-df-spinner');\n",
              "      quickchartButtonEl.classList.add('colab-df-quickchart-complete');\n",
              "    }\n",
              "    (() => {\n",
              "      let quickchartButtonEl =\n",
              "        document.querySelector('#df-ddf15efe-81e6-4047-97d9-87245ac52ccc button');\n",
              "      quickchartButtonEl.style.display =\n",
              "        google.colab.kernel.accessAllowed ? 'block' : 'none';\n",
              "    })();\n",
              "  </script>\n",
              "</div>\n",
              "    </div>\n",
              "  </div>\n"
            ],
            "application/vnd.google.colaboratory.intrinsic+json": {
              "type": "dataframe",
              "variable_name": "df",
              "summary": "{\n  \"name\": \"df\",\n  \"rows\": 53943,\n  \"fields\": [\n    {\n      \"column\": \"carat\",\n      \"properties\": {\n        \"dtype\": \"number\",\n        \"std\": 0.4739985530964582,\n        \"min\": 0.2,\n        \"max\": 5.01,\n        \"num_unique_values\": 273,\n        \"samples\": [\n          0.77,\n          1.58,\n          0.65\n        ],\n        \"semantic_type\": \"\",\n        \"description\": \"\"\n      }\n    },\n    {\n      \"column\": \"cut\",\n      \"properties\": {\n        \"dtype\": \"category\",\n        \"num_unique_values\": 5,\n        \"samples\": [\n          \"Premium\",\n          \"Fair\",\n          \"Good\"\n        ],\n        \"semantic_type\": \"\",\n        \"description\": \"\"\n      }\n    },\n    {\n      \"column\": \"color\",\n      \"properties\": {\n        \"dtype\": \"category\",\n        \"num_unique_values\": 7,\n        \"samples\": [\n          \"E\",\n          \"I\",\n          \"G\"\n        ],\n        \"semantic_type\": \"\",\n        \"description\": \"\"\n      }\n    },\n    {\n      \"column\": \"clarity\",\n      \"properties\": {\n        \"dtype\": \"category\",\n        \"num_unique_values\": 8,\n        \"samples\": [\n          \"SI1\",\n          \"VVS1\",\n          \"SI2\"\n        ],\n        \"semantic_type\": \"\",\n        \"description\": \"\"\n      }\n    },\n    {\n      \"column\": \"depth\",\n      \"properties\": {\n        \"dtype\": \"number\",\n        \"std\": 1.4326262660399998,\n        \"min\": 43.0,\n        \"max\": 79.0,\n        \"num_unique_values\": 184,\n        \"samples\": [\n          61.0,\n          62.9,\n          70.2\n        ],\n        \"semantic_type\": \"\",\n        \"description\": \"\"\n      }\n    },\n    {\n      \"column\": \"table\",\n      \"properties\": {\n        \"dtype\": \"number\",\n        \"std\": 2.234548953274335,\n        \"min\": 43.0,\n        \"max\": 95.0,\n        \"num_unique_values\": 127,\n        \"samples\": [\n          54.8,\n          61.5,\n          57.6\n        ],\n        \"semantic_type\": \"\",\n        \"description\": \"\"\n      }\n    },\n    {\n      \"column\": \"price\",\n      \"properties\": {\n        \"dtype\": \"number\",\n        \"std\": 3989,\n        \"min\": 326,\n        \"max\": 18823,\n        \"num_unique_values\": 11602,\n        \"samples\": [\n          16368,\n          895,\n          748\n        ],\n        \"semantic_type\": \"\",\n        \"description\": \"\"\n      }\n    },\n    {\n      \"column\": \"x\",\n      \"properties\": {\n        \"dtype\": \"number\",\n        \"std\": 1.1217295857901242,\n        \"min\": 0.0,\n        \"max\": 10.74,\n        \"num_unique_values\": 554,\n        \"samples\": [\n          5.88,\n          5.69,\n          4.61\n        ],\n        \"semantic_type\": \"\",\n        \"description\": \"\"\n      }\n    },\n    {\n      \"column\": \"y\",\n      \"properties\": {\n        \"dtype\": \"number\",\n        \"std\": 1.14210291928209,\n        \"min\": 0.0,\n        \"max\": 58.9,\n        \"num_unique_values\": 552,\n        \"samples\": [\n          5.33,\n          5.61,\n          5.25\n        ],\n        \"semantic_type\": \"\",\n        \"description\": \"\"\n      }\n    },\n    {\n      \"column\": \"z\",\n      \"properties\": {\n        \"dtype\": \"number\",\n        \"std\": 0.7056794713896667,\n        \"min\": 0.0,\n        \"max\": 31.8,\n        \"num_unique_values\": 375,\n        \"samples\": [\n          3.36,\n          2.45,\n          2.7\n        ],\n        \"semantic_type\": \"\",\n        \"description\": \"\"\n      }\n    }\n  ]\n}"
            }
          },
          "metadata": {},
          "execution_count": 35
        }
      ]
    },
    {
      "cell_type": "code",
      "source": [
        "df['price'].describe()"
      ],
      "metadata": {
        "colab": {
          "base_uri": "https://localhost:8080/"
        },
        "id": "dO6TBU3u_6Cl",
        "outputId": "3708af34-d440-426f-bd97-6e3fd4afcdc5"
      },
      "execution_count": 36,
      "outputs": [
        {
          "output_type": "execute_result",
          "data": {
            "text/plain": [
              "count    53943.000000\n",
              "mean      3932.734294\n",
              "std       3989.338447\n",
              "min        326.000000\n",
              "25%        950.000000\n",
              "50%       2401.000000\n",
              "75%       5324.000000\n",
              "max      18823.000000\n",
              "Name: price, dtype: float64"
            ]
          },
          "metadata": {},
          "execution_count": 36
        }
      ]
    },
    {
      "cell_type": "code",
      "source": [
        "y = df['price']\n",
        "X = df.drop(columns='price')"
      ],
      "metadata": {
        "id": "VBKEtqhzAG80"
      },
      "execution_count": 37,
      "outputs": []
    },
    {
      "cell_type": "code",
      "source": [
        "from sklearn.model_selection import train_test_split\n",
        "X_train, X_test, y_train, y_test = train_test_split(X, y,\n",
        "                                                    train_size=0.8,\n",
        "                                                    random_state=42)\n",
        "X_train, X_val, y_train, y_val = train_test_split(X_train, y_train,\n",
        "                                                  train_size=0.75,\n",
        "                                                  random_state=24)\n",
        "print(f'Train: {X_train.shape[0]} samples \\t {round(X_train.shape[0] / X.shape[0] * 100)}%')\n",
        "print(f'Test:  {X_test.shape[0]} samples \\t {round(X_test.shape[0] / X.shape[0] * 100)}%')\n",
        "print(f'Val:   {X_val.shape[0]} samples \\t {round(X_val.shape[0] / X.shape[0] * 100)}%')\n"
      ],
      "metadata": {
        "colab": {
          "base_uri": "https://localhost:8080/"
        },
        "id": "w__7kqpFARMM",
        "outputId": "d76afe4f-6021-4552-fa3f-ca6ecbdfd3c1"
      },
      "execution_count": 38,
      "outputs": [
        {
          "output_type": "stream",
          "name": "stdout",
          "text": [
            "Train: 32365 samples \t 60%\n",
            "Test:  10789 samples \t 20%\n",
            "Val:   10789 samples \t 20%\n"
          ]
        }
      ]
    },
    {
      "cell_type": "code",
      "source": [
        "from sklearn.compose import ColumnTransformer\n",
        "from sklearn.pipeline import Pipeline\n",
        "from sklearn.impute import SimpleImputer\n",
        "from sklearn.preprocessing import OneHotEncoder"
      ],
      "metadata": {
        "id": "JaZDbomKBgrB"
      },
      "execution_count": 39,
      "outputs": []
    },
    {
      "cell_type": "code",
      "source": [
        "num_columns = X.select_dtypes(include=\"number\").columns\n",
        "cat_columns = X.select_dtypes(include=\"object\").columns\n",
        "\n",
        "# числові ознаки\n",
        "num_transformer = Pipeline(\n",
        "    steps=[(\"imputer\", SimpleImputer(strategy=\"median\"))]\n",
        "    )\n",
        "\n",
        "# категоріальні ознаки\n",
        "cat_transformer = Pipeline(\n",
        "    steps=[(\"imputer\", SimpleImputer(strategy=\"most_frequent\")),\n",
        "           (\"encoder\", OneHotEncoder(sparse_output=False))])\n",
        "\n",
        "# об'єднання двох pipeline\n",
        "preprocessor = ColumnTransformer(\n",
        "    transformers=[\n",
        "        (\"num\", num_transformer, num_columns),\n",
        "        (\"cat\", cat_transformer, cat_columns),\n",
        "    ]\n",
        ")\n",
        "\n",
        "preprocessor.set_output(transform='pandas')\n",
        "preprocessor"
      ],
      "metadata": {
        "colab": {
          "base_uri": "https://localhost:8080/",
          "height": 153
        },
        "id": "Y7jTiX9OCFf3",
        "outputId": "8e28c2af-ea5f-4886-f498-2ff144380e8a"
      },
      "execution_count": 40,
      "outputs": [
        {
          "output_type": "execute_result",
          "data": {
            "text/plain": [
              "ColumnTransformer(transformers=[('num',\n",
              "                                 Pipeline(steps=[('imputer',\n",
              "                                                  SimpleImputer(strategy='median'))]),\n",
              "                                 Index(['carat', 'depth', 'table', 'x', 'y', 'z'], dtype='object')),\n",
              "                                ('cat',\n",
              "                                 Pipeline(steps=[('imputer',\n",
              "                                                  SimpleImputer(strategy='most_frequent')),\n",
              "                                                 ('encoder',\n",
              "                                                  OneHotEncoder(sparse_output=False))]),\n",
              "                                 Index(['cut', 'color', 'clarity'], dtype='object'))])"
            ],
            "text/html": [
              "<style>#sk-container-id-4 {color: black;background-color: white;}#sk-container-id-4 pre{padding: 0;}#sk-container-id-4 div.sk-toggleable {background-color: white;}#sk-container-id-4 label.sk-toggleable__label {cursor: pointer;display: block;width: 100%;margin-bottom: 0;padding: 0.3em;box-sizing: border-box;text-align: center;}#sk-container-id-4 label.sk-toggleable__label-arrow:before {content: \"▸\";float: left;margin-right: 0.25em;color: #696969;}#sk-container-id-4 label.sk-toggleable__label-arrow:hover:before {color: black;}#sk-container-id-4 div.sk-estimator:hover label.sk-toggleable__label-arrow:before {color: black;}#sk-container-id-4 div.sk-toggleable__content {max-height: 0;max-width: 0;overflow: hidden;text-align: left;background-color: #f0f8ff;}#sk-container-id-4 div.sk-toggleable__content pre {margin: 0.2em;color: black;border-radius: 0.25em;background-color: #f0f8ff;}#sk-container-id-4 input.sk-toggleable__control:checked~div.sk-toggleable__content {max-height: 200px;max-width: 100%;overflow: auto;}#sk-container-id-4 input.sk-toggleable__control:checked~label.sk-toggleable__label-arrow:before {content: \"▾\";}#sk-container-id-4 div.sk-estimator input.sk-toggleable__control:checked~label.sk-toggleable__label {background-color: #d4ebff;}#sk-container-id-4 div.sk-label input.sk-toggleable__control:checked~label.sk-toggleable__label {background-color: #d4ebff;}#sk-container-id-4 input.sk-hidden--visually {border: 0;clip: rect(1px 1px 1px 1px);clip: rect(1px, 1px, 1px, 1px);height: 1px;margin: -1px;overflow: hidden;padding: 0;position: absolute;width: 1px;}#sk-container-id-4 div.sk-estimator {font-family: monospace;background-color: #f0f8ff;border: 1px dotted black;border-radius: 0.25em;box-sizing: border-box;margin-bottom: 0.5em;}#sk-container-id-4 div.sk-estimator:hover {background-color: #d4ebff;}#sk-container-id-4 div.sk-parallel-item::after {content: \"\";width: 100%;border-bottom: 1px solid gray;flex-grow: 1;}#sk-container-id-4 div.sk-label:hover label.sk-toggleable__label {background-color: #d4ebff;}#sk-container-id-4 div.sk-serial::before {content: \"\";position: absolute;border-left: 1px solid gray;box-sizing: border-box;top: 0;bottom: 0;left: 50%;z-index: 0;}#sk-container-id-4 div.sk-serial {display: flex;flex-direction: column;align-items: center;background-color: white;padding-right: 0.2em;padding-left: 0.2em;position: relative;}#sk-container-id-4 div.sk-item {position: relative;z-index: 1;}#sk-container-id-4 div.sk-parallel {display: flex;align-items: stretch;justify-content: center;background-color: white;position: relative;}#sk-container-id-4 div.sk-item::before, #sk-container-id-4 div.sk-parallel-item::before {content: \"\";position: absolute;border-left: 1px solid gray;box-sizing: border-box;top: 0;bottom: 0;left: 50%;z-index: -1;}#sk-container-id-4 div.sk-parallel-item {display: flex;flex-direction: column;z-index: 1;position: relative;background-color: white;}#sk-container-id-4 div.sk-parallel-item:first-child::after {align-self: flex-end;width: 50%;}#sk-container-id-4 div.sk-parallel-item:last-child::after {align-self: flex-start;width: 50%;}#sk-container-id-4 div.sk-parallel-item:only-child::after {width: 0;}#sk-container-id-4 div.sk-dashed-wrapped {border: 1px dashed gray;margin: 0 0.4em 0.5em 0.4em;box-sizing: border-box;padding-bottom: 0.4em;background-color: white;}#sk-container-id-4 div.sk-label label {font-family: monospace;font-weight: bold;display: inline-block;line-height: 1.2em;}#sk-container-id-4 div.sk-label-container {text-align: center;}#sk-container-id-4 div.sk-container {/* jupyter's `normalize.less` sets `[hidden] { display: none; }` but bootstrap.min.css set `[hidden] { display: none !important; }` so we also need the `!important` here to be able to override the default hidden behavior on the sphinx rendered scikit-learn.org. See: https://github.com/scikit-learn/scikit-learn/issues/21755 */display: inline-block !important;position: relative;}#sk-container-id-4 div.sk-text-repr-fallback {display: none;}</style><div id=\"sk-container-id-4\" class=\"sk-top-container\"><div class=\"sk-text-repr-fallback\"><pre>ColumnTransformer(transformers=[(&#x27;num&#x27;,\n",
              "                                 Pipeline(steps=[(&#x27;imputer&#x27;,\n",
              "                                                  SimpleImputer(strategy=&#x27;median&#x27;))]),\n",
              "                                 Index([&#x27;carat&#x27;, &#x27;depth&#x27;, &#x27;table&#x27;, &#x27;x&#x27;, &#x27;y&#x27;, &#x27;z&#x27;], dtype=&#x27;object&#x27;)),\n",
              "                                (&#x27;cat&#x27;,\n",
              "                                 Pipeline(steps=[(&#x27;imputer&#x27;,\n",
              "                                                  SimpleImputer(strategy=&#x27;most_frequent&#x27;)),\n",
              "                                                 (&#x27;encoder&#x27;,\n",
              "                                                  OneHotEncoder(sparse_output=False))]),\n",
              "                                 Index([&#x27;cut&#x27;, &#x27;color&#x27;, &#x27;clarity&#x27;], dtype=&#x27;object&#x27;))])</pre><b>In a Jupyter environment, please rerun this cell to show the HTML representation or trust the notebook. <br />On GitHub, the HTML representation is unable to render, please try loading this page with nbviewer.org.</b></div><div class=\"sk-container\" hidden><div class=\"sk-item sk-dashed-wrapped\"><div class=\"sk-label-container\"><div class=\"sk-label sk-toggleable\"><input class=\"sk-toggleable__control sk-hidden--visually\" id=\"sk-estimator-id-16\" type=\"checkbox\" ><label for=\"sk-estimator-id-16\" class=\"sk-toggleable__label sk-toggleable__label-arrow\">ColumnTransformer</label><div class=\"sk-toggleable__content\"><pre>ColumnTransformer(transformers=[(&#x27;num&#x27;,\n",
              "                                 Pipeline(steps=[(&#x27;imputer&#x27;,\n",
              "                                                  SimpleImputer(strategy=&#x27;median&#x27;))]),\n",
              "                                 Index([&#x27;carat&#x27;, &#x27;depth&#x27;, &#x27;table&#x27;, &#x27;x&#x27;, &#x27;y&#x27;, &#x27;z&#x27;], dtype=&#x27;object&#x27;)),\n",
              "                                (&#x27;cat&#x27;,\n",
              "                                 Pipeline(steps=[(&#x27;imputer&#x27;,\n",
              "                                                  SimpleImputer(strategy=&#x27;most_frequent&#x27;)),\n",
              "                                                 (&#x27;encoder&#x27;,\n",
              "                                                  OneHotEncoder(sparse_output=False))]),\n",
              "                                 Index([&#x27;cut&#x27;, &#x27;color&#x27;, &#x27;clarity&#x27;], dtype=&#x27;object&#x27;))])</pre></div></div></div><div class=\"sk-parallel\"><div class=\"sk-parallel-item\"><div class=\"sk-item\"><div class=\"sk-label-container\"><div class=\"sk-label sk-toggleable\"><input class=\"sk-toggleable__control sk-hidden--visually\" id=\"sk-estimator-id-17\" type=\"checkbox\" ><label for=\"sk-estimator-id-17\" class=\"sk-toggleable__label sk-toggleable__label-arrow\">num</label><div class=\"sk-toggleable__content\"><pre>Index([&#x27;carat&#x27;, &#x27;depth&#x27;, &#x27;table&#x27;, &#x27;x&#x27;, &#x27;y&#x27;, &#x27;z&#x27;], dtype=&#x27;object&#x27;)</pre></div></div></div><div class=\"sk-serial\"><div class=\"sk-item\"><div class=\"sk-serial\"><div class=\"sk-item\"><div class=\"sk-estimator sk-toggleable\"><input class=\"sk-toggleable__control sk-hidden--visually\" id=\"sk-estimator-id-18\" type=\"checkbox\" ><label for=\"sk-estimator-id-18\" class=\"sk-toggleable__label sk-toggleable__label-arrow\">SimpleImputer</label><div class=\"sk-toggleable__content\"><pre>SimpleImputer(strategy=&#x27;median&#x27;)</pre></div></div></div></div></div></div></div></div><div class=\"sk-parallel-item\"><div class=\"sk-item\"><div class=\"sk-label-container\"><div class=\"sk-label sk-toggleable\"><input class=\"sk-toggleable__control sk-hidden--visually\" id=\"sk-estimator-id-19\" type=\"checkbox\" ><label for=\"sk-estimator-id-19\" class=\"sk-toggleable__label sk-toggleable__label-arrow\">cat</label><div class=\"sk-toggleable__content\"><pre>Index([&#x27;cut&#x27;, &#x27;color&#x27;, &#x27;clarity&#x27;], dtype=&#x27;object&#x27;)</pre></div></div></div><div class=\"sk-serial\"><div class=\"sk-item\"><div class=\"sk-serial\"><div class=\"sk-item\"><div class=\"sk-estimator sk-toggleable\"><input class=\"sk-toggleable__control sk-hidden--visually\" id=\"sk-estimator-id-20\" type=\"checkbox\" ><label for=\"sk-estimator-id-20\" class=\"sk-toggleable__label sk-toggleable__label-arrow\">SimpleImputer</label><div class=\"sk-toggleable__content\"><pre>SimpleImputer(strategy=&#x27;most_frequent&#x27;)</pre></div></div></div><div class=\"sk-item\"><div class=\"sk-estimator sk-toggleable\"><input class=\"sk-toggleable__control sk-hidden--visually\" id=\"sk-estimator-id-21\" type=\"checkbox\" ><label for=\"sk-estimator-id-21\" class=\"sk-toggleable__label sk-toggleable__label-arrow\">OneHotEncoder</label><div class=\"sk-toggleable__content\"><pre>OneHotEncoder(sparse_output=False)</pre></div></div></div></div></div></div></div></div></div></div></div></div>"
            ]
          },
          "metadata": {},
          "execution_count": 40
        }
      ]
    },
    {
      "cell_type": "code",
      "source": [
        "# навчання препроцесора\n",
        "X_train = preprocessor.fit_transform(X_train)\n",
        "\n",
        "# обробка даних\n",
        "X_val = preprocessor.transform(X_val)\n",
        "X_test = preprocessor.transform(X_test)"
      ],
      "metadata": {
        "id": "jcqSxFJnFZoX"
      },
      "execution_count": 41,
      "outputs": []
    },
    {
      "cell_type": "code",
      "source": [
        "from sklearn import metrics\n",
        "def  objective(trial):\n",
        "  # Визначення гіперпараметрів\n",
        "  params = {\n",
        "      'objective': 'mse',\n",
        "      'n_estimator': 30,\n",
        "      'verbose': -1,\n",
        "      'boosting_type': trial.suggest_categorical('boosting_type',['gbdt', 'dart']),\n",
        "      'lambda_l1': trial.suggest_float('lambda_l1', 1e-8, 10.0, log=True),\n",
        "      'lambda_l2': trial.suggest_float('lambda_l2', 1e-8, 10.0, log=True),\n",
        "      'num_leaves': trial.suggest_int('num_leaves', 2, 256),\n",
        "      'feature_fraction': trial.suggest_float('feature_fraction', 0.4, 1.0),\n",
        "      'bagging_fraction': trial.suggest_float('bagging_fraction', 0.4, 1.0),\n",
        "      'bagging_freq':trial.suggest_int('bagging_freq', 1, 7),\n",
        "      'main_child_sample': trial.suggest_int('min_child_sample', 5, 100),\n",
        "  }\n",
        "  #Створення моделі LightGBMRegressor\n",
        "  model = lgb.LGBMRegressor(**params)\n",
        "\n",
        "  #Навчання моделі на тренувальному наборі данних\n",
        "  model.fit(X_train, y_train)\n",
        "\n",
        "  #Оцінка моделі на  тестовому наборі данних\n",
        "  y_pred = model.predict(X_val)\n",
        "  r2 = metrics.r2_score(y_val, y_pred)\n",
        "\n",
        "  # повернення значення метрики\n",
        "  return r2"
      ],
      "metadata": {
        "id": "G60jArd8GgCE"
      },
      "execution_count": 42,
      "outputs": []
    },
    {
      "cell_type": "code",
      "source": [
        "study = optuna.create_study(direction='maximize')\n",
        "study.optimize(objective, n_trials=10)"
      ],
      "metadata": {
        "colab": {
          "base_uri": "https://localhost:8080/"
        },
        "id": "Rp4j9_TzGsf7",
        "outputId": "ea692bac-16b6-459c-9a7a-a728d371801b"
      },
      "execution_count": 43,
      "outputs": [
        {
          "output_type": "stream",
          "name": "stderr",
          "text": [
            "[I 2024-07-24 16:10:00,813] A new study created in memory with name: no-name-b4002953-8182-4cec-b2f2-8d13b73691f9\n",
            "[I 2024-07-24 16:10:02,365] Trial 0 finished with value: 0.9395635202384278 and parameters: {'boosting_type': 'dart', 'lambda_l1': 5.345609335527362, 'lambda_l2': 1.7183477498856824e-07, 'num_leaves': 19, 'feature_fraction': 0.4241140104438362, 'bagging_fraction': 0.471943734252713, 'bagging_freq': 3, 'min_child_sample': 20}. Best is trial 0 with value: 0.9395635202384278.\n",
            "[I 2024-07-24 16:10:05,133] Trial 1 finished with value: 0.9776596711530381 and parameters: {'boosting_type': 'gbdt', 'lambda_l1': 5.208521324913349, 'lambda_l2': 0.0035363390482977645, 'num_leaves': 244, 'feature_fraction': 0.4600888019080698, 'bagging_fraction': 0.6993558829805702, 'bagging_freq': 7, 'min_child_sample': 27}. Best is trial 1 with value: 0.9776596711530381.\n",
            "[I 2024-07-24 16:10:09,394] Trial 2 finished with value: 0.9460686047677386 and parameters: {'boosting_type': 'dart', 'lambda_l1': 0.04277935826302889, 'lambda_l2': 2.0376274096042724e-06, 'num_leaves': 44, 'feature_fraction': 0.41627483865419934, 'bagging_fraction': 0.7535822802722731, 'bagging_freq': 2, 'min_child_sample': 43}. Best is trial 1 with value: 0.9776596711530381.\n",
            "[I 2024-07-24 16:10:11,894] Trial 3 finished with value: 0.9769169229872264 and parameters: {'boosting_type': 'gbdt', 'lambda_l1': 5.357617631848989e-08, 'lambda_l2': 1.4850331437489396e-06, 'num_leaves': 229, 'feature_fraction': 0.41316492073157446, 'bagging_fraction': 0.7684210311969467, 'bagging_freq': 5, 'min_child_sample': 85}. Best is trial 1 with value: 0.9776596711530381.\n",
            "[I 2024-07-24 16:10:18,133] Trial 4 finished with value: 0.952840044620179 and parameters: {'boosting_type': 'dart', 'lambda_l1': 4.583872013141067e-05, 'lambda_l2': 1.0239217015488912e-05, 'num_leaves': 164, 'feature_fraction': 0.568396011937574, 'bagging_fraction': 0.5137543608199586, 'bagging_freq': 2, 'min_child_sample': 10}. Best is trial 1 with value: 0.9776596711530381.\n",
            "[I 2024-07-24 16:10:18,919] Trial 5 finished with value: 0.9613604088498706 and parameters: {'boosting_type': 'gbdt', 'lambda_l1': 0.5557981809676751, 'lambda_l2': 5.975889421235248e-07, 'num_leaves': 5, 'feature_fraction': 0.811362814496912, 'bagging_fraction': 0.40927821164992456, 'bagging_freq': 3, 'min_child_sample': 46}. Best is trial 1 with value: 0.9776596711530381.\n",
            "[I 2024-07-24 16:10:26,336] Trial 6 finished with value: 0.9588230316852131 and parameters: {'boosting_type': 'dart', 'lambda_l1': 4.809177857589143, 'lambda_l2': 0.000753163090995996, 'num_leaves': 144, 'feature_fraction': 0.8099520297983802, 'bagging_fraction': 0.9729114605795508, 'bagging_freq': 7, 'min_child_sample': 67}. Best is trial 1 with value: 0.9776596711530381.\n",
            "[I 2024-07-24 16:10:29,595] Trial 7 finished with value: 0.9452867710586655 and parameters: {'boosting_type': 'dart', 'lambda_l1': 0.027666044132661903, 'lambda_l2': 0.06539196604669148, 'num_leaves': 214, 'feature_fraction': 0.4163370208555, 'bagging_fraction': 0.5164925303101339, 'bagging_freq': 6, 'min_child_sample': 42}. Best is trial 1 with value: 0.9776596711530381.\n",
            "[I 2024-07-24 16:10:30,540] Trial 8 finished with value: 0.9784104287319636 and parameters: {'boosting_type': 'gbdt', 'lambda_l1': 0.00028239939955155375, 'lambda_l2': 0.00020633461571155476, 'num_leaves': 98, 'feature_fraction': 0.778254910524975, 'bagging_fraction': 0.49141526084984305, 'bagging_freq': 5, 'min_child_sample': 98}. Best is trial 8 with value: 0.9784104287319636.\n",
            "[I 2024-07-24 16:10:31,299] Trial 9 finished with value: 0.9790432797970218 and parameters: {'boosting_type': 'gbdt', 'lambda_l1': 0.00013031312748601107, 'lambda_l2': 0.00028762854527465936, 'num_leaves': 70, 'feature_fraction': 0.8154989178398948, 'bagging_fraction': 0.5976178297327104, 'bagging_freq': 6, 'min_child_sample': 24}. Best is trial 9 with value: 0.9790432797970218.\n"
          ]
        }
      ]
    },
    {
      "cell_type": "code",
      "source": [
        "print(f\"найкраща метрика: {study.best_value}\")"
      ],
      "metadata": {
        "colab": {
          "base_uri": "https://localhost:8080/"
        },
        "id": "dUkq4VmvMi4u",
        "outputId": "8f992778-b973-4c81-ac92-2648c9e85ead"
      },
      "execution_count": 44,
      "outputs": [
        {
          "output_type": "stream",
          "name": "stdout",
          "text": [
            "найкраща метрика: 0.9790432797970218\n"
          ]
        }
      ]
    },
    {
      "cell_type": "code",
      "source": [
        "best_params = study.best_params\n",
        "model = lgb.LGBMRegressor(**best_params,\n",
        "                          n_estimator = 100,\n",
        "                          verbose=-1)\n",
        "model.fit(X_train, y_train,\n",
        "          eval_set=[(X_test, y_test), (X_train, y_train)],\n",
        "          eval_metric='mae')"
      ],
      "metadata": {
        "colab": {
          "base_uri": "https://localhost:8080/",
          "height": 144
        },
        "id": "b8tes_EHM1Vy",
        "outputId": "3e5a4591-3646-4ed4-d75b-7c3774843577"
      },
      "execution_count": 45,
      "outputs": [
        {
          "output_type": "execute_result",
          "data": {
            "text/plain": [
              "LGBMRegressor(bagging_fraction=0.5976178297327104, bagging_freq=6,\n",
              "              feature_fraction=0.8154989178398948,\n",
              "              lambda_l1=0.00013031312748601107,\n",
              "              lambda_l2=0.00028762854527465936, min_child_sample=24,\n",
              "              n_estimator=100, num_leaves=70, verbose=-1)"
            ],
            "text/html": [
              "<style>#sk-container-id-5 {color: black;background-color: white;}#sk-container-id-5 pre{padding: 0;}#sk-container-id-5 div.sk-toggleable {background-color: white;}#sk-container-id-5 label.sk-toggleable__label {cursor: pointer;display: block;width: 100%;margin-bottom: 0;padding: 0.3em;box-sizing: border-box;text-align: center;}#sk-container-id-5 label.sk-toggleable__label-arrow:before {content: \"▸\";float: left;margin-right: 0.25em;color: #696969;}#sk-container-id-5 label.sk-toggleable__label-arrow:hover:before {color: black;}#sk-container-id-5 div.sk-estimator:hover label.sk-toggleable__label-arrow:before {color: black;}#sk-container-id-5 div.sk-toggleable__content {max-height: 0;max-width: 0;overflow: hidden;text-align: left;background-color: #f0f8ff;}#sk-container-id-5 div.sk-toggleable__content pre {margin: 0.2em;color: black;border-radius: 0.25em;background-color: #f0f8ff;}#sk-container-id-5 input.sk-toggleable__control:checked~div.sk-toggleable__content {max-height: 200px;max-width: 100%;overflow: auto;}#sk-container-id-5 input.sk-toggleable__control:checked~label.sk-toggleable__label-arrow:before {content: \"▾\";}#sk-container-id-5 div.sk-estimator input.sk-toggleable__control:checked~label.sk-toggleable__label {background-color: #d4ebff;}#sk-container-id-5 div.sk-label input.sk-toggleable__control:checked~label.sk-toggleable__label {background-color: #d4ebff;}#sk-container-id-5 input.sk-hidden--visually {border: 0;clip: rect(1px 1px 1px 1px);clip: rect(1px, 1px, 1px, 1px);height: 1px;margin: -1px;overflow: hidden;padding: 0;position: absolute;width: 1px;}#sk-container-id-5 div.sk-estimator {font-family: monospace;background-color: #f0f8ff;border: 1px dotted black;border-radius: 0.25em;box-sizing: border-box;margin-bottom: 0.5em;}#sk-container-id-5 div.sk-estimator:hover {background-color: #d4ebff;}#sk-container-id-5 div.sk-parallel-item::after {content: \"\";width: 100%;border-bottom: 1px solid gray;flex-grow: 1;}#sk-container-id-5 div.sk-label:hover label.sk-toggleable__label {background-color: #d4ebff;}#sk-container-id-5 div.sk-serial::before {content: \"\";position: absolute;border-left: 1px solid gray;box-sizing: border-box;top: 0;bottom: 0;left: 50%;z-index: 0;}#sk-container-id-5 div.sk-serial {display: flex;flex-direction: column;align-items: center;background-color: white;padding-right: 0.2em;padding-left: 0.2em;position: relative;}#sk-container-id-5 div.sk-item {position: relative;z-index: 1;}#sk-container-id-5 div.sk-parallel {display: flex;align-items: stretch;justify-content: center;background-color: white;position: relative;}#sk-container-id-5 div.sk-item::before, #sk-container-id-5 div.sk-parallel-item::before {content: \"\";position: absolute;border-left: 1px solid gray;box-sizing: border-box;top: 0;bottom: 0;left: 50%;z-index: -1;}#sk-container-id-5 div.sk-parallel-item {display: flex;flex-direction: column;z-index: 1;position: relative;background-color: white;}#sk-container-id-5 div.sk-parallel-item:first-child::after {align-self: flex-end;width: 50%;}#sk-container-id-5 div.sk-parallel-item:last-child::after {align-self: flex-start;width: 50%;}#sk-container-id-5 div.sk-parallel-item:only-child::after {width: 0;}#sk-container-id-5 div.sk-dashed-wrapped {border: 1px dashed gray;margin: 0 0.4em 0.5em 0.4em;box-sizing: border-box;padding-bottom: 0.4em;background-color: white;}#sk-container-id-5 div.sk-label label {font-family: monospace;font-weight: bold;display: inline-block;line-height: 1.2em;}#sk-container-id-5 div.sk-label-container {text-align: center;}#sk-container-id-5 div.sk-container {/* jupyter's `normalize.less` sets `[hidden] { display: none; }` but bootstrap.min.css set `[hidden] { display: none !important; }` so we also need the `!important` here to be able to override the default hidden behavior on the sphinx rendered scikit-learn.org. See: https://github.com/scikit-learn/scikit-learn/issues/21755 */display: inline-block !important;position: relative;}#sk-container-id-5 div.sk-text-repr-fallback {display: none;}</style><div id=\"sk-container-id-5\" class=\"sk-top-container\"><div class=\"sk-text-repr-fallback\"><pre>LGBMRegressor(bagging_fraction=0.5976178297327104, bagging_freq=6,\n",
              "              feature_fraction=0.8154989178398948,\n",
              "              lambda_l1=0.00013031312748601107,\n",
              "              lambda_l2=0.00028762854527465936, min_child_sample=24,\n",
              "              n_estimator=100, num_leaves=70, verbose=-1)</pre><b>In a Jupyter environment, please rerun this cell to show the HTML representation or trust the notebook. <br />On GitHub, the HTML representation is unable to render, please try loading this page with nbviewer.org.</b></div><div class=\"sk-container\" hidden><div class=\"sk-item\"><div class=\"sk-estimator sk-toggleable\"><input class=\"sk-toggleable__control sk-hidden--visually\" id=\"sk-estimator-id-22\" type=\"checkbox\" checked><label for=\"sk-estimator-id-22\" class=\"sk-toggleable__label sk-toggleable__label-arrow\">LGBMRegressor</label><div class=\"sk-toggleable__content\"><pre>LGBMRegressor(bagging_fraction=0.5976178297327104, bagging_freq=6,\n",
              "              feature_fraction=0.8154989178398948,\n",
              "              lambda_l1=0.00013031312748601107,\n",
              "              lambda_l2=0.00028762854527465936, min_child_sample=24,\n",
              "              n_estimator=100, num_leaves=70, verbose=-1)</pre></div></div></div></div></div>"
            ]
          },
          "metadata": {},
          "execution_count": 45
        }
      ]
    },
    {
      "cell_type": "code",
      "source": [
        "def get_metrics(y_true, y_pred, name='model'):\n",
        "  df=pd.DataFrame()\n",
        "  df.loc[\"MAE\", name] = metrics.mean_absolute_error(y_true, y_pred)\n",
        "  df.loc[\"RMSE\", name] = metrics.mean_squared_error(y_true, y_pred) ** 0.5\n",
        "  df.loc[\"R2\", name] = metrics.r2_score(y_true, y_pred)\n",
        "  return df.round(2)"
      ],
      "metadata": {
        "id": "CHN_n2afN_wA"
      },
      "execution_count": 46,
      "outputs": []
    },
    {
      "cell_type": "code",
      "source": [
        "all_metrics = pd.DataFrame()\n",
        "all_metrics[\"train\"] = get_metrics(y_train, model.predict(X_train))\n",
        "all_metrics[\"test\"] = get_metrics(y_test, model.predict(X_test))\n",
        "all_metrics"
      ],
      "metadata": {
        "colab": {
          "base_uri": "https://localhost:8080/",
          "height": 143
        },
        "id": "Ix21CXH2PSd8",
        "outputId": "c292f417-45d2-4ae4-9682-d6a243caf3d7"
      },
      "execution_count": 47,
      "outputs": [
        {
          "output_type": "execute_result",
          "data": {
            "text/plain": [
              "       train    test\n",
              "MAE   249.98  285.49\n",
              "RMSE  447.02  557.11\n",
              "R2      0.99    0.98"
            ],
            "text/html": [
              "\n",
              "  <div id=\"df-49140d2e-bfaf-4afa-be6b-683a4944af45\" class=\"colab-df-container\">\n",
              "    <div>\n",
              "<style scoped>\n",
              "    .dataframe tbody tr th:only-of-type {\n",
              "        vertical-align: middle;\n",
              "    }\n",
              "\n",
              "    .dataframe tbody tr th {\n",
              "        vertical-align: top;\n",
              "    }\n",
              "\n",
              "    .dataframe thead th {\n",
              "        text-align: right;\n",
              "    }\n",
              "</style>\n",
              "<table border=\"1\" class=\"dataframe\">\n",
              "  <thead>\n",
              "    <tr style=\"text-align: right;\">\n",
              "      <th></th>\n",
              "      <th>train</th>\n",
              "      <th>test</th>\n",
              "    </tr>\n",
              "  </thead>\n",
              "  <tbody>\n",
              "    <tr>\n",
              "      <th>MAE</th>\n",
              "      <td>249.98</td>\n",
              "      <td>285.49</td>\n",
              "    </tr>\n",
              "    <tr>\n",
              "      <th>RMSE</th>\n",
              "      <td>447.02</td>\n",
              "      <td>557.11</td>\n",
              "    </tr>\n",
              "    <tr>\n",
              "      <th>R2</th>\n",
              "      <td>0.99</td>\n",
              "      <td>0.98</td>\n",
              "    </tr>\n",
              "  </tbody>\n",
              "</table>\n",
              "</div>\n",
              "    <div class=\"colab-df-buttons\">\n",
              "\n",
              "  <div class=\"colab-df-container\">\n",
              "    <button class=\"colab-df-convert\" onclick=\"convertToInteractive('df-49140d2e-bfaf-4afa-be6b-683a4944af45')\"\n",
              "            title=\"Convert this dataframe to an interactive table.\"\n",
              "            style=\"display:none;\">\n",
              "\n",
              "  <svg xmlns=\"http://www.w3.org/2000/svg\" height=\"24px\" viewBox=\"0 -960 960 960\">\n",
              "    <path d=\"M120-120v-720h720v720H120Zm60-500h600v-160H180v160Zm220 220h160v-160H400v160Zm0 220h160v-160H400v160ZM180-400h160v-160H180v160Zm440 0h160v-160H620v160ZM180-180h160v-160H180v160Zm440 0h160v-160H620v160Z\"/>\n",
              "  </svg>\n",
              "    </button>\n",
              "\n",
              "  <style>\n",
              "    .colab-df-container {\n",
              "      display:flex;\n",
              "      gap: 12px;\n",
              "    }\n",
              "\n",
              "    .colab-df-convert {\n",
              "      background-color: #E8F0FE;\n",
              "      border: none;\n",
              "      border-radius: 50%;\n",
              "      cursor: pointer;\n",
              "      display: none;\n",
              "      fill: #1967D2;\n",
              "      height: 32px;\n",
              "      padding: 0 0 0 0;\n",
              "      width: 32px;\n",
              "    }\n",
              "\n",
              "    .colab-df-convert:hover {\n",
              "      background-color: #E2EBFA;\n",
              "      box-shadow: 0px 1px 2px rgba(60, 64, 67, 0.3), 0px 1px 3px 1px rgba(60, 64, 67, 0.15);\n",
              "      fill: #174EA6;\n",
              "    }\n",
              "\n",
              "    .colab-df-buttons div {\n",
              "      margin-bottom: 4px;\n",
              "    }\n",
              "\n",
              "    [theme=dark] .colab-df-convert {\n",
              "      background-color: #3B4455;\n",
              "      fill: #D2E3FC;\n",
              "    }\n",
              "\n",
              "    [theme=dark] .colab-df-convert:hover {\n",
              "      background-color: #434B5C;\n",
              "      box-shadow: 0px 1px 3px 1px rgba(0, 0, 0, 0.15);\n",
              "      filter: drop-shadow(0px 1px 2px rgba(0, 0, 0, 0.3));\n",
              "      fill: #FFFFFF;\n",
              "    }\n",
              "  </style>\n",
              "\n",
              "    <script>\n",
              "      const buttonEl =\n",
              "        document.querySelector('#df-49140d2e-bfaf-4afa-be6b-683a4944af45 button.colab-df-convert');\n",
              "      buttonEl.style.display =\n",
              "        google.colab.kernel.accessAllowed ? 'block' : 'none';\n",
              "\n",
              "      async function convertToInteractive(key) {\n",
              "        const element = document.querySelector('#df-49140d2e-bfaf-4afa-be6b-683a4944af45');\n",
              "        const dataTable =\n",
              "          await google.colab.kernel.invokeFunction('convertToInteractive',\n",
              "                                                    [key], {});\n",
              "        if (!dataTable) return;\n",
              "\n",
              "        const docLinkHtml = 'Like what you see? Visit the ' +\n",
              "          '<a target=\"_blank\" href=https://colab.research.google.com/notebooks/data_table.ipynb>data table notebook</a>'\n",
              "          + ' to learn more about interactive tables.';\n",
              "        element.innerHTML = '';\n",
              "        dataTable['output_type'] = 'display_data';\n",
              "        await google.colab.output.renderOutput(dataTable, element);\n",
              "        const docLink = document.createElement('div');\n",
              "        docLink.innerHTML = docLinkHtml;\n",
              "        element.appendChild(docLink);\n",
              "      }\n",
              "    </script>\n",
              "  </div>\n",
              "\n",
              "\n",
              "<div id=\"df-d56d2b06-e1c4-4418-9648-e1b3680fadf0\">\n",
              "  <button class=\"colab-df-quickchart\" onclick=\"quickchart('df-d56d2b06-e1c4-4418-9648-e1b3680fadf0')\"\n",
              "            title=\"Suggest charts\"\n",
              "            style=\"display:none;\">\n",
              "\n",
              "<svg xmlns=\"http://www.w3.org/2000/svg\" height=\"24px\"viewBox=\"0 0 24 24\"\n",
              "     width=\"24px\">\n",
              "    <g>\n",
              "        <path d=\"M19 3H5c-1.1 0-2 .9-2 2v14c0 1.1.9 2 2 2h14c1.1 0 2-.9 2-2V5c0-1.1-.9-2-2-2zM9 17H7v-7h2v7zm4 0h-2V7h2v10zm4 0h-2v-4h2v4z\"/>\n",
              "    </g>\n",
              "</svg>\n",
              "  </button>\n",
              "\n",
              "<style>\n",
              "  .colab-df-quickchart {\n",
              "      --bg-color: #E8F0FE;\n",
              "      --fill-color: #1967D2;\n",
              "      --hover-bg-color: #E2EBFA;\n",
              "      --hover-fill-color: #174EA6;\n",
              "      --disabled-fill-color: #AAA;\n",
              "      --disabled-bg-color: #DDD;\n",
              "  }\n",
              "\n",
              "  [theme=dark] .colab-df-quickchart {\n",
              "      --bg-color: #3B4455;\n",
              "      --fill-color: #D2E3FC;\n",
              "      --hover-bg-color: #434B5C;\n",
              "      --hover-fill-color: #FFFFFF;\n",
              "      --disabled-bg-color: #3B4455;\n",
              "      --disabled-fill-color: #666;\n",
              "  }\n",
              "\n",
              "  .colab-df-quickchart {\n",
              "    background-color: var(--bg-color);\n",
              "    border: none;\n",
              "    border-radius: 50%;\n",
              "    cursor: pointer;\n",
              "    display: none;\n",
              "    fill: var(--fill-color);\n",
              "    height: 32px;\n",
              "    padding: 0;\n",
              "    width: 32px;\n",
              "  }\n",
              "\n",
              "  .colab-df-quickchart:hover {\n",
              "    background-color: var(--hover-bg-color);\n",
              "    box-shadow: 0 1px 2px rgba(60, 64, 67, 0.3), 0 1px 3px 1px rgba(60, 64, 67, 0.15);\n",
              "    fill: var(--button-hover-fill-color);\n",
              "  }\n",
              "\n",
              "  .colab-df-quickchart-complete:disabled,\n",
              "  .colab-df-quickchart-complete:disabled:hover {\n",
              "    background-color: var(--disabled-bg-color);\n",
              "    fill: var(--disabled-fill-color);\n",
              "    box-shadow: none;\n",
              "  }\n",
              "\n",
              "  .colab-df-spinner {\n",
              "    border: 2px solid var(--fill-color);\n",
              "    border-color: transparent;\n",
              "    border-bottom-color: var(--fill-color);\n",
              "    animation:\n",
              "      spin 1s steps(1) infinite;\n",
              "  }\n",
              "\n",
              "  @keyframes spin {\n",
              "    0% {\n",
              "      border-color: transparent;\n",
              "      border-bottom-color: var(--fill-color);\n",
              "      border-left-color: var(--fill-color);\n",
              "    }\n",
              "    20% {\n",
              "      border-color: transparent;\n",
              "      border-left-color: var(--fill-color);\n",
              "      border-top-color: var(--fill-color);\n",
              "    }\n",
              "    30% {\n",
              "      border-color: transparent;\n",
              "      border-left-color: var(--fill-color);\n",
              "      border-top-color: var(--fill-color);\n",
              "      border-right-color: var(--fill-color);\n",
              "    }\n",
              "    40% {\n",
              "      border-color: transparent;\n",
              "      border-right-color: var(--fill-color);\n",
              "      border-top-color: var(--fill-color);\n",
              "    }\n",
              "    60% {\n",
              "      border-color: transparent;\n",
              "      border-right-color: var(--fill-color);\n",
              "    }\n",
              "    80% {\n",
              "      border-color: transparent;\n",
              "      border-right-color: var(--fill-color);\n",
              "      border-bottom-color: var(--fill-color);\n",
              "    }\n",
              "    90% {\n",
              "      border-color: transparent;\n",
              "      border-bottom-color: var(--fill-color);\n",
              "    }\n",
              "  }\n",
              "</style>\n",
              "\n",
              "  <script>\n",
              "    async function quickchart(key) {\n",
              "      const quickchartButtonEl =\n",
              "        document.querySelector('#' + key + ' button');\n",
              "      quickchartButtonEl.disabled = true;  // To prevent multiple clicks.\n",
              "      quickchartButtonEl.classList.add('colab-df-spinner');\n",
              "      try {\n",
              "        const charts = await google.colab.kernel.invokeFunction(\n",
              "            'suggestCharts', [key], {});\n",
              "      } catch (error) {\n",
              "        console.error('Error during call to suggestCharts:', error);\n",
              "      }\n",
              "      quickchartButtonEl.classList.remove('colab-df-spinner');\n",
              "      quickchartButtonEl.classList.add('colab-df-quickchart-complete');\n",
              "    }\n",
              "    (() => {\n",
              "      let quickchartButtonEl =\n",
              "        document.querySelector('#df-d56d2b06-e1c4-4418-9648-e1b3680fadf0 button');\n",
              "      quickchartButtonEl.style.display =\n",
              "        google.colab.kernel.accessAllowed ? 'block' : 'none';\n",
              "    })();\n",
              "  </script>\n",
              "</div>\n",
              "    </div>\n",
              "  </div>\n"
            ],
            "application/vnd.google.colaboratory.intrinsic+json": {
              "type": "dataframe",
              "variable_name": "all_metrics",
              "summary": "{\n  \"name\": \"all_metrics\",\n  \"rows\": 3,\n  \"fields\": [\n    {\n      \"column\": \"train\",\n      \"properties\": {\n        \"dtype\": \"number\",\n        \"std\": 223.5186579087601,\n        \"min\": 0.99,\n        \"max\": 447.02,\n        \"num_unique_values\": 3,\n        \"samples\": [\n          249.98,\n          447.02,\n          0.99\n        ],\n        \"semantic_type\": \"\",\n        \"description\": \"\"\n      }\n    },\n    {\n      \"column\": \"test\",\n      \"properties\": {\n        \"dtype\": \"number\",\n        \"std\": 278.0898959569249,\n        \"min\": 0.98,\n        \"max\": 557.11,\n        \"num_unique_values\": 3,\n        \"samples\": [\n          285.49,\n          557.11,\n          0.98\n        ],\n        \"semantic_type\": \"\",\n        \"description\": \"\"\n      }\n    }\n  ]\n}"
            }
          },
          "metadata": {},
          "execution_count": 47
        }
      ]
    },
    {
      "cell_type": "code",
      "source": [
        "optuna.visualization.plot_param_importances(study)"
      ],
      "metadata": {
        "colab": {
          "base_uri": "https://localhost:8080/",
          "height": 542
        },
        "id": "vsAkGQ3mb06w",
        "outputId": "24fc9dfb-9fe1-40fc-8154-ea4b8507bafb"
      },
      "execution_count": 48,
      "outputs": [
        {
          "output_type": "display_data",
          "data": {
            "text/html": [
              "<html>\n",
              "<head><meta charset=\"utf-8\" /></head>\n",
              "<body>\n",
              "    <div>            <script src=\"https://cdnjs.cloudflare.com/ajax/libs/mathjax/2.7.5/MathJax.js?config=TeX-AMS-MML_SVG\"></script><script type=\"text/javascript\">if (window.MathJax && window.MathJax.Hub && window.MathJax.Hub.Config) {window.MathJax.Hub.Config({SVG: {font: \"STIX-Web\"}});}</script>                <script type=\"text/javascript\">window.PlotlyConfig = {MathJaxConfig: 'local'};</script>\n",
              "        <script charset=\"utf-8\" src=\"https://cdn.plot.ly/plotly-2.24.1.min.js\"></script>                <div id=\"c69214a3-5afd-4c4f-a569-1cadb912a583\" class=\"plotly-graph-div\" style=\"height:525px; width:100%;\"></div>            <script type=\"text/javascript\">                                    window.PLOTLYENV=window.PLOTLYENV || {};                                    if (document.getElementById(\"c69214a3-5afd-4c4f-a569-1cadb912a583\")) {                    Plotly.newPlot(                        \"c69214a3-5afd-4c4f-a569-1cadb912a583\",                        [{\"cliponaxis\":false,\"hovertemplate\":[\"lambda_l2 (FloatDistribution): 1.645983929039259e-05\\u003cextra\\u003e\\u003c\\u002fextra\\u003e\",\"bagging_fraction (FloatDistribution): 0.010951884037282636\\u003cextra\\u003e\\u003c\\u002fextra\\u003e\",\"lambda_l1 (FloatDistribution): 0.020417093998315025\\u003cextra\\u003e\\u003c\\u002fextra\\u003e\",\"num_leaves (IntDistribution): 0.026005657399472897\\u003cextra\\u003e\\u003c\\u002fextra\\u003e\",\"bagging_freq (IntDistribution): 0.06084354517497164\\u003cextra\\u003e\\u003c\\u002fextra\\u003e\",\"min_child_sample (IntDistribution): 0.07027851380780402\\u003cextra\\u003e\\u003c\\u002fextra\\u003e\",\"feature_fraction (FloatDistribution): 0.0881924564469856\\u003cextra\\u003e\\u003c\\u002fextra\\u003e\",\"boosting_type (CategoricalDistribution): 0.7232943892958777\\u003cextra\\u003e\\u003c\\u002fextra\\u003e\"],\"name\":\"Objective Value\",\"orientation\":\"h\",\"text\":[\"\\u003c0.01\",\"0.01\",\"0.02\",\"0.03\",\"0.06\",\"0.07\",\"0.09\",\"0.72\"],\"textposition\":\"outside\",\"x\":[1.645983929039259e-05,0.010951884037282636,0.020417093998315025,0.026005657399472897,0.06084354517497164,0.07027851380780402,0.0881924564469856,0.7232943892958777],\"y\":[\"lambda_l2\",\"bagging_fraction\",\"lambda_l1\",\"num_leaves\",\"bagging_freq\",\"min_child_sample\",\"feature_fraction\",\"boosting_type\"],\"type\":\"bar\"}],                        {\"title\":{\"text\":\"Hyperparameter Importances\"},\"xaxis\":{\"title\":{\"text\":\"Hyperparameter Importance\"}},\"yaxis\":{\"title\":{\"text\":\"Hyperparameter\"}},\"template\":{\"data\":{\"histogram2dcontour\":[{\"type\":\"histogram2dcontour\",\"colorbar\":{\"outlinewidth\":0,\"ticks\":\"\"},\"colorscale\":[[0.0,\"#0d0887\"],[0.1111111111111111,\"#46039f\"],[0.2222222222222222,\"#7201a8\"],[0.3333333333333333,\"#9c179e\"],[0.4444444444444444,\"#bd3786\"],[0.5555555555555556,\"#d8576b\"],[0.6666666666666666,\"#ed7953\"],[0.7777777777777778,\"#fb9f3a\"],[0.8888888888888888,\"#fdca26\"],[1.0,\"#f0f921\"]]}],\"choropleth\":[{\"type\":\"choropleth\",\"colorbar\":{\"outlinewidth\":0,\"ticks\":\"\"}}],\"histogram2d\":[{\"type\":\"histogram2d\",\"colorbar\":{\"outlinewidth\":0,\"ticks\":\"\"},\"colorscale\":[[0.0,\"#0d0887\"],[0.1111111111111111,\"#46039f\"],[0.2222222222222222,\"#7201a8\"],[0.3333333333333333,\"#9c179e\"],[0.4444444444444444,\"#bd3786\"],[0.5555555555555556,\"#d8576b\"],[0.6666666666666666,\"#ed7953\"],[0.7777777777777778,\"#fb9f3a\"],[0.8888888888888888,\"#fdca26\"],[1.0,\"#f0f921\"]]}],\"heatmap\":[{\"type\":\"heatmap\",\"colorbar\":{\"outlinewidth\":0,\"ticks\":\"\"},\"colorscale\":[[0.0,\"#0d0887\"],[0.1111111111111111,\"#46039f\"],[0.2222222222222222,\"#7201a8\"],[0.3333333333333333,\"#9c179e\"],[0.4444444444444444,\"#bd3786\"],[0.5555555555555556,\"#d8576b\"],[0.6666666666666666,\"#ed7953\"],[0.7777777777777778,\"#fb9f3a\"],[0.8888888888888888,\"#fdca26\"],[1.0,\"#f0f921\"]]}],\"heatmapgl\":[{\"type\":\"heatmapgl\",\"colorbar\":{\"outlinewidth\":0,\"ticks\":\"\"},\"colorscale\":[[0.0,\"#0d0887\"],[0.1111111111111111,\"#46039f\"],[0.2222222222222222,\"#7201a8\"],[0.3333333333333333,\"#9c179e\"],[0.4444444444444444,\"#bd3786\"],[0.5555555555555556,\"#d8576b\"],[0.6666666666666666,\"#ed7953\"],[0.7777777777777778,\"#fb9f3a\"],[0.8888888888888888,\"#fdca26\"],[1.0,\"#f0f921\"]]}],\"contourcarpet\":[{\"type\":\"contourcarpet\",\"colorbar\":{\"outlinewidth\":0,\"ticks\":\"\"}}],\"contour\":[{\"type\":\"contour\",\"colorbar\":{\"outlinewidth\":0,\"ticks\":\"\"},\"colorscale\":[[0.0,\"#0d0887\"],[0.1111111111111111,\"#46039f\"],[0.2222222222222222,\"#7201a8\"],[0.3333333333333333,\"#9c179e\"],[0.4444444444444444,\"#bd3786\"],[0.5555555555555556,\"#d8576b\"],[0.6666666666666666,\"#ed7953\"],[0.7777777777777778,\"#fb9f3a\"],[0.8888888888888888,\"#fdca26\"],[1.0,\"#f0f921\"]]}],\"surface\":[{\"type\":\"surface\",\"colorbar\":{\"outlinewidth\":0,\"ticks\":\"\"},\"colorscale\":[[0.0,\"#0d0887\"],[0.1111111111111111,\"#46039f\"],[0.2222222222222222,\"#7201a8\"],[0.3333333333333333,\"#9c179e\"],[0.4444444444444444,\"#bd3786\"],[0.5555555555555556,\"#d8576b\"],[0.6666666666666666,\"#ed7953\"],[0.7777777777777778,\"#fb9f3a\"],[0.8888888888888888,\"#fdca26\"],[1.0,\"#f0f921\"]]}],\"mesh3d\":[{\"type\":\"mesh3d\",\"colorbar\":{\"outlinewidth\":0,\"ticks\":\"\"}}],\"scatter\":[{\"fillpattern\":{\"fillmode\":\"overlay\",\"size\":10,\"solidity\":0.2},\"type\":\"scatter\"}],\"parcoords\":[{\"type\":\"parcoords\",\"line\":{\"colorbar\":{\"outlinewidth\":0,\"ticks\":\"\"}}}],\"scatterpolargl\":[{\"type\":\"scatterpolargl\",\"marker\":{\"colorbar\":{\"outlinewidth\":0,\"ticks\":\"\"}}}],\"bar\":[{\"error_x\":{\"color\":\"#2a3f5f\"},\"error_y\":{\"color\":\"#2a3f5f\"},\"marker\":{\"line\":{\"color\":\"#E5ECF6\",\"width\":0.5},\"pattern\":{\"fillmode\":\"overlay\",\"size\":10,\"solidity\":0.2}},\"type\":\"bar\"}],\"scattergeo\":[{\"type\":\"scattergeo\",\"marker\":{\"colorbar\":{\"outlinewidth\":0,\"ticks\":\"\"}}}],\"scatterpolar\":[{\"type\":\"scatterpolar\",\"marker\":{\"colorbar\":{\"outlinewidth\":0,\"ticks\":\"\"}}}],\"histogram\":[{\"marker\":{\"pattern\":{\"fillmode\":\"overlay\",\"size\":10,\"solidity\":0.2}},\"type\":\"histogram\"}],\"scattergl\":[{\"type\":\"scattergl\",\"marker\":{\"colorbar\":{\"outlinewidth\":0,\"ticks\":\"\"}}}],\"scatter3d\":[{\"type\":\"scatter3d\",\"line\":{\"colorbar\":{\"outlinewidth\":0,\"ticks\":\"\"}},\"marker\":{\"colorbar\":{\"outlinewidth\":0,\"ticks\":\"\"}}}],\"scattermapbox\":[{\"type\":\"scattermapbox\",\"marker\":{\"colorbar\":{\"outlinewidth\":0,\"ticks\":\"\"}}}],\"scatterternary\":[{\"type\":\"scatterternary\",\"marker\":{\"colorbar\":{\"outlinewidth\":0,\"ticks\":\"\"}}}],\"scattercarpet\":[{\"type\":\"scattercarpet\",\"marker\":{\"colorbar\":{\"outlinewidth\":0,\"ticks\":\"\"}}}],\"carpet\":[{\"aaxis\":{\"endlinecolor\":\"#2a3f5f\",\"gridcolor\":\"white\",\"linecolor\":\"white\",\"minorgridcolor\":\"white\",\"startlinecolor\":\"#2a3f5f\"},\"baxis\":{\"endlinecolor\":\"#2a3f5f\",\"gridcolor\":\"white\",\"linecolor\":\"white\",\"minorgridcolor\":\"white\",\"startlinecolor\":\"#2a3f5f\"},\"type\":\"carpet\"}],\"table\":[{\"cells\":{\"fill\":{\"color\":\"#EBF0F8\"},\"line\":{\"color\":\"white\"}},\"header\":{\"fill\":{\"color\":\"#C8D4E3\"},\"line\":{\"color\":\"white\"}},\"type\":\"table\"}],\"barpolar\":[{\"marker\":{\"line\":{\"color\":\"#E5ECF6\",\"width\":0.5},\"pattern\":{\"fillmode\":\"overlay\",\"size\":10,\"solidity\":0.2}},\"type\":\"barpolar\"}],\"pie\":[{\"automargin\":true,\"type\":\"pie\"}]},\"layout\":{\"autotypenumbers\":\"strict\",\"colorway\":[\"#636efa\",\"#EF553B\",\"#00cc96\",\"#ab63fa\",\"#FFA15A\",\"#19d3f3\",\"#FF6692\",\"#B6E880\",\"#FF97FF\",\"#FECB52\"],\"font\":{\"color\":\"#2a3f5f\"},\"hovermode\":\"closest\",\"hoverlabel\":{\"align\":\"left\"},\"paper_bgcolor\":\"white\",\"plot_bgcolor\":\"#E5ECF6\",\"polar\":{\"bgcolor\":\"#E5ECF6\",\"angularaxis\":{\"gridcolor\":\"white\",\"linecolor\":\"white\",\"ticks\":\"\"},\"radialaxis\":{\"gridcolor\":\"white\",\"linecolor\":\"white\",\"ticks\":\"\"}},\"ternary\":{\"bgcolor\":\"#E5ECF6\",\"aaxis\":{\"gridcolor\":\"white\",\"linecolor\":\"white\",\"ticks\":\"\"},\"baxis\":{\"gridcolor\":\"white\",\"linecolor\":\"white\",\"ticks\":\"\"},\"caxis\":{\"gridcolor\":\"white\",\"linecolor\":\"white\",\"ticks\":\"\"}},\"coloraxis\":{\"colorbar\":{\"outlinewidth\":0,\"ticks\":\"\"}},\"colorscale\":{\"sequential\":[[0.0,\"#0d0887\"],[0.1111111111111111,\"#46039f\"],[0.2222222222222222,\"#7201a8\"],[0.3333333333333333,\"#9c179e\"],[0.4444444444444444,\"#bd3786\"],[0.5555555555555556,\"#d8576b\"],[0.6666666666666666,\"#ed7953\"],[0.7777777777777778,\"#fb9f3a\"],[0.8888888888888888,\"#fdca26\"],[1.0,\"#f0f921\"]],\"sequentialminus\":[[0.0,\"#0d0887\"],[0.1111111111111111,\"#46039f\"],[0.2222222222222222,\"#7201a8\"],[0.3333333333333333,\"#9c179e\"],[0.4444444444444444,\"#bd3786\"],[0.5555555555555556,\"#d8576b\"],[0.6666666666666666,\"#ed7953\"],[0.7777777777777778,\"#fb9f3a\"],[0.8888888888888888,\"#fdca26\"],[1.0,\"#f0f921\"]],\"diverging\":[[0,\"#8e0152\"],[0.1,\"#c51b7d\"],[0.2,\"#de77ae\"],[0.3,\"#f1b6da\"],[0.4,\"#fde0ef\"],[0.5,\"#f7f7f7\"],[0.6,\"#e6f5d0\"],[0.7,\"#b8e186\"],[0.8,\"#7fbc41\"],[0.9,\"#4d9221\"],[1,\"#276419\"]]},\"xaxis\":{\"gridcolor\":\"white\",\"linecolor\":\"white\",\"ticks\":\"\",\"title\":{\"standoff\":15},\"zerolinecolor\":\"white\",\"automargin\":true,\"zerolinewidth\":2},\"yaxis\":{\"gridcolor\":\"white\",\"linecolor\":\"white\",\"ticks\":\"\",\"title\":{\"standoff\":15},\"zerolinecolor\":\"white\",\"automargin\":true,\"zerolinewidth\":2},\"scene\":{\"xaxis\":{\"backgroundcolor\":\"#E5ECF6\",\"gridcolor\":\"white\",\"linecolor\":\"white\",\"showbackground\":true,\"ticks\":\"\",\"zerolinecolor\":\"white\",\"gridwidth\":2},\"yaxis\":{\"backgroundcolor\":\"#E5ECF6\",\"gridcolor\":\"white\",\"linecolor\":\"white\",\"showbackground\":true,\"ticks\":\"\",\"zerolinecolor\":\"white\",\"gridwidth\":2},\"zaxis\":{\"backgroundcolor\":\"#E5ECF6\",\"gridcolor\":\"white\",\"linecolor\":\"white\",\"showbackground\":true,\"ticks\":\"\",\"zerolinecolor\":\"white\",\"gridwidth\":2}},\"shapedefaults\":{\"line\":{\"color\":\"#2a3f5f\"}},\"annotationdefaults\":{\"arrowcolor\":\"#2a3f5f\",\"arrowhead\":0,\"arrowwidth\":1},\"geo\":{\"bgcolor\":\"white\",\"landcolor\":\"#E5ECF6\",\"subunitcolor\":\"white\",\"showland\":true,\"showlakes\":true,\"lakecolor\":\"white\"},\"title\":{\"x\":0.05},\"mapbox\":{\"style\":\"light\"}}}},                        {\"responsive\": true}                    ).then(function(){\n",
              "                            \n",
              "var gd = document.getElementById('c69214a3-5afd-4c4f-a569-1cadb912a583');\n",
              "var x = new MutationObserver(function (mutations, observer) {{\n",
              "        var display = window.getComputedStyle(gd).display;\n",
              "        if (!display || display === 'none') {{\n",
              "            console.log([gd, 'removed!']);\n",
              "            Plotly.purge(gd);\n",
              "            observer.disconnect();\n",
              "        }}\n",
              "}});\n",
              "\n",
              "// Listen for the removal of the full notebook cells\n",
              "var notebookContainer = gd.closest('#notebook-container');\n",
              "if (notebookContainer) {{\n",
              "    x.observe(notebookContainer, {childList: true});\n",
              "}}\n",
              "\n",
              "// Listen for the clearing of the current output cell\n",
              "var outputEl = gd.closest('.output');\n",
              "if (outputEl) {{\n",
              "    x.observe(outputEl, {childList: true});\n",
              "}}\n",
              "\n",
              "                        })                };                            </script>        </div>\n",
              "</body>\n",
              "</html>"
            ]
          },
          "metadata": {}
        }
      ]
    },
    {
      "cell_type": "code",
      "source": [
        "lgb.plot_importance(model)"
      ],
      "metadata": {
        "colab": {
          "base_uri": "https://localhost:8080/",
          "height": 490
        },
        "id": "DUn1vuntcHgH",
        "outputId": "09ae2139-396e-46eb-b312-a683944684e4"
      },
      "execution_count": 49,
      "outputs": [
        {
          "output_type": "execute_result",
          "data": {
            "text/plain": [
              "<Axes: title={'center': 'Feature importance'}, xlabel='Feature importance', ylabel='Features'>"
            ]
          },
          "metadata": {},
          "execution_count": 49
        },
        {
          "output_type": "display_data",
          "data": {
            "text/plain": [
              "<Figure size 640x480 with 1 Axes>"
            ],
            "image/png": "[encoded data removed]"
          },
          "metadata": {}
        }
      ]
    },
    {
      "cell_type": "code",
      "source": [
        "lgb.plot_metric(model,\n",
        "                metric='l1')"
      ],
      "metadata": {
        "colab": {
          "base_uri": "https://localhost:8080/",
          "height": 490
        },
        "id": "9bDQkn1ycTAc",
        "outputId": "8474e9d3-2f7e-48cd-ad47-8cd138cc643e"
      },
      "execution_count": 50,
      "outputs": [
        {
          "output_type": "execute_result",
          "data": {
            "text/plain": [
              "<Axes: title={'center': 'Metric during training'}, xlabel='Iterations', ylabel='l1'>"
            ]
          },
          "metadata": {},
          "execution_count": 50
        },
        {
          "output_type": "display_data",
          "data": {
            "text/plain": [
              "<Figure size 640x480 with 1 Axes>"
            ],
            "image/png": "[encoded data removed]"
          },
          "metadata": {}
        }
      ]
    },
    {
      "cell_type": "code",
      "source": [
        "model = Pipeline(\n",
        "    [(\"prep\", preprocessor),\n",
        "     (\"model\", model)\n",
        "     ]\n",
        ")\n",
        "model"
      ],
      "metadata": {
        "colab": {
          "base_uri": "https://localhost:8080/",
          "height": 228
        },
        "id": "RnSlK4vLch-V",
        "outputId": "10b62b8a-7a0a-4cf0-c728-7f581505cd66"
      },
      "execution_count": 51,
      "outputs": [
        {
          "output_type": "execute_result",
          "data": {
            "text/plain": [
              "Pipeline(steps=[('prep',\n",
              "                 ColumnTransformer(transformers=[('num',\n",
              "                                                  Pipeline(steps=[('imputer',\n",
              "                                                                   SimpleImputer(strategy='median'))]),\n",
              "                                                  Index(['carat', 'depth', 'table', 'x', 'y', 'z'], dtype='object')),\n",
              "                                                 ('cat',\n",
              "                                                  Pipeline(steps=[('imputer',\n",
              "                                                                   SimpleImputer(strategy='most_frequent')),\n",
              "                                                                  ('encoder',\n",
              "                                                                   OneHotEncoder(sparse_output=False))]),\n",
              "                                                  Index(['cut', 'color', 'clarity'], dtype='object'))])),\n",
              "                ('model',\n",
              "                 LGBMRegressor(bagging_fraction=0.5976178297327104,\n",
              "                               bagging_freq=6,\n",
              "                               feature_fraction=0.8154989178398948,\n",
              "                               lambda_l1=0.00013031312748601107,\n",
              "                               lambda_l2=0.00028762854527465936,\n",
              "                               min_child_sample=24, n_estimator=100,\n",
              "                               num_leaves=70, verbose=-1))])"
            ],
            "text/html": [
              "<style>#sk-container-id-6 {color: black;background-color: white;}#sk-container-id-6 pre{padding: 0;}#sk-container-id-6 div.sk-toggleable {background-color: white;}#sk-container-id-6 label.sk-toggleable__label {cursor: pointer;display: block;width: 100%;margin-bottom: 0;padding: 0.3em;box-sizing: border-box;text-align: center;}#sk-container-id-6 label.sk-toggleable__label-arrow:before {content: \"▸\";float: left;margin-right: 0.25em;color: #696969;}#sk-container-id-6 label.sk-toggleable__label-arrow:hover:before {color: black;}#sk-container-id-6 div.sk-estimator:hover label.sk-toggleable__label-arrow:before {color: black;}#sk-container-id-6 div.sk-toggleable__content {max-height: 0;max-width: 0;overflow: hidden;text-align: left;background-color: #f0f8ff;}#sk-container-id-6 div.sk-toggleable__content pre {margin: 0.2em;color: black;border-radius: 0.25em;background-color: #f0f8ff;}#sk-container-id-6 input.sk-toggleable__control:checked~div.sk-toggleable__content {max-height: 200px;max-width: 100%;overflow: auto;}#sk-container-id-6 input.sk-toggleable__control:checked~label.sk-toggleable__label-arrow:before {content: \"▾\";}#sk-container-id-6 div.sk-estimator input.sk-toggleable__control:checked~label.sk-toggleable__label {background-color: #d4ebff;}#sk-container-id-6 div.sk-label input.sk-toggleable__control:checked~label.sk-toggleable__label {background-color: #d4ebff;}#sk-container-id-6 input.sk-hidden--visually {border: 0;clip: rect(1px 1px 1px 1px);clip: rect(1px, 1px, 1px, 1px);height: 1px;margin: -1px;overflow: hidden;padding: 0;position: absolute;width: 1px;}#sk-container-id-6 div.sk-estimator {font-family: monospace;background-color: #f0f8ff;border: 1px dotted black;border-radius: 0.25em;box-sizing: border-box;margin-bottom: 0.5em;}#sk-container-id-6 div.sk-estimator:hover {background-color: #d4ebff;}#sk-container-id-6 div.sk-parallel-item::after {content: \"\";width: 100%;border-bottom: 1px solid gray;flex-grow: 1;}#sk-container-id-6 div.sk-label:hover label.sk-toggleable__label {background-color: #d4ebff;}#sk-container-id-6 div.sk-serial::before {content: \"\";position: absolute;border-left: 1px solid gray;box-sizing: border-box;top: 0;bottom: 0;left: 50%;z-index: 0;}#sk-container-id-6 div.sk-serial {display: flex;flex-direction: column;align-items: center;background-color: white;padding-right: 0.2em;padding-left: 0.2em;position: relative;}#sk-container-id-6 div.sk-item {position: relative;z-index: 1;}#sk-container-id-6 div.sk-parallel {display: flex;align-items: stretch;justify-content: center;background-color: white;position: relative;}#sk-container-id-6 div.sk-item::before, #sk-container-id-6 div.sk-parallel-item::before {content: \"\";position: absolute;border-left: 1px solid gray;box-sizing: border-box;top: 0;bottom: 0;left: 50%;z-index: -1;}#sk-container-id-6 div.sk-parallel-item {display: flex;flex-direction: column;z-index: 1;position: relative;background-color: white;}#sk-container-id-6 div.sk-parallel-item:first-child::after {align-self: flex-end;width: 50%;}#sk-container-id-6 div.sk-parallel-item:last-child::after {align-self: flex-start;width: 50%;}#sk-container-id-6 div.sk-parallel-item:only-child::after {width: 0;}#sk-container-id-6 div.sk-dashed-wrapped {border: 1px dashed gray;margin: 0 0.4em 0.5em 0.4em;box-sizing: border-box;padding-bottom: 0.4em;background-color: white;}#sk-container-id-6 div.sk-label label {font-family: monospace;font-weight: bold;display: inline-block;line-height: 1.2em;}#sk-container-id-6 div.sk-label-container {text-align: center;}#sk-container-id-6 div.sk-container {/* jupyter's `normalize.less` sets `[hidden] { display: none; }` but bootstrap.min.css set `[hidden] { display: none !important; }` so we also need the `!important` here to be able to override the default hidden behavior on the sphinx rendered scikit-learn.org. See: https://github.com/scikit-learn/scikit-learn/issues/21755 */display: inline-block !important;position: relative;}#sk-container-id-6 div.sk-text-repr-fallback {display: none;}</style><div id=\"sk-container-id-6\" class=\"sk-top-container\"><div class=\"sk-text-repr-fallback\"><pre>Pipeline(steps=[(&#x27;prep&#x27;,\n",
              "                 ColumnTransformer(transformers=[(&#x27;num&#x27;,\n",
              "                                                  Pipeline(steps=[(&#x27;imputer&#x27;,\n",
              "                                                                   SimpleImputer(strategy=&#x27;median&#x27;))]),\n",
              "                                                  Index([&#x27;carat&#x27;, &#x27;depth&#x27;, &#x27;table&#x27;, &#x27;x&#x27;, &#x27;y&#x27;, &#x27;z&#x27;], dtype=&#x27;object&#x27;)),\n",
              "                                                 (&#x27;cat&#x27;,\n",
              "                                                  Pipeline(steps=[(&#x27;imputer&#x27;,\n",
              "                                                                   SimpleImputer(strategy=&#x27;most_frequent&#x27;)),\n",
              "                                                                  (&#x27;encoder&#x27;,\n",
              "                                                                   OneHotEncoder(sparse_output=False))]),\n",
              "                                                  Index([&#x27;cut&#x27;, &#x27;color&#x27;, &#x27;clarity&#x27;], dtype=&#x27;object&#x27;))])),\n",
              "                (&#x27;model&#x27;,\n",
              "                 LGBMRegressor(bagging_fraction=0.5976178297327104,\n",
              "                               bagging_freq=6,\n",
              "                               feature_fraction=0.8154989178398948,\n",
              "                               lambda_l1=0.00013031312748601107,\n",
              "                               lambda_l2=0.00028762854527465936,\n",
              "                               min_child_sample=24, n_estimator=100,\n",
              "                               num_leaves=70, verbose=-1))])</pre><b>In a Jupyter environment, please rerun this cell to show the HTML representation or trust the notebook. <br />On GitHub, the HTML representation is unable to render, please try loading this page with nbviewer.org.</b></div><div class=\"sk-container\" hidden><div class=\"sk-item sk-dashed-wrapped\"><div class=\"sk-label-container\"><div class=\"sk-label sk-toggleable\"><input class=\"sk-toggleable__control sk-hidden--visually\" id=\"sk-estimator-id-23\" type=\"checkbox\" ><label for=\"sk-estimator-id-23\" class=\"sk-toggleable__label sk-toggleable__label-arrow\">Pipeline</label><div class=\"sk-toggleable__content\"><pre>Pipeline(steps=[(&#x27;prep&#x27;,\n",
              "                 ColumnTransformer(transformers=[(&#x27;num&#x27;,\n",
              "                                                  Pipeline(steps=[(&#x27;imputer&#x27;,\n",
              "                                                                   SimpleImputer(strategy=&#x27;median&#x27;))]),\n",
              "                                                  Index([&#x27;carat&#x27;, &#x27;depth&#x27;, &#x27;table&#x27;, &#x27;x&#x27;, &#x27;y&#x27;, &#x27;z&#x27;], dtype=&#x27;object&#x27;)),\n",
              "                                                 (&#x27;cat&#x27;,\n",
              "                                                  Pipeline(steps=[(&#x27;imputer&#x27;,\n",
              "                                                                   SimpleImputer(strategy=&#x27;most_frequent&#x27;)),\n",
              "                                                                  (&#x27;encoder&#x27;,\n",
              "                                                                   OneHotEncoder(sparse_output=False))]),\n",
              "                                                  Index([&#x27;cut&#x27;, &#x27;color&#x27;, &#x27;clarity&#x27;], dtype=&#x27;object&#x27;))])),\n",
              "                (&#x27;model&#x27;,\n",
              "                 LGBMRegressor(bagging_fraction=0.5976178297327104,\n",
              "                               bagging_freq=6,\n",
              "                               feature_fraction=0.8154989178398948,\n",
              "                               lambda_l1=0.00013031312748601107,\n",
              "                               lambda_l2=0.00028762854527465936,\n",
              "                               min_child_sample=24, n_estimator=100,\n",
              "                               num_leaves=70, verbose=-1))])</pre></div></div></div><div class=\"sk-serial\"><div class=\"sk-item sk-dashed-wrapped\"><div class=\"sk-label-container\"><div class=\"sk-label sk-toggleable\"><input class=\"sk-toggleable__control sk-hidden--visually\" id=\"sk-estimator-id-24\" type=\"checkbox\" ><label for=\"sk-estimator-id-24\" class=\"sk-toggleable__label sk-toggleable__label-arrow\">prep: ColumnTransformer</label><div class=\"sk-toggleable__content\"><pre>ColumnTransformer(transformers=[(&#x27;num&#x27;,\n",
              "                                 Pipeline(steps=[(&#x27;imputer&#x27;,\n",
              "                                                  SimpleImputer(strategy=&#x27;median&#x27;))]),\n",
              "                                 Index([&#x27;carat&#x27;, &#x27;depth&#x27;, &#x27;table&#x27;, &#x27;x&#x27;, &#x27;y&#x27;, &#x27;z&#x27;], dtype=&#x27;object&#x27;)),\n",
              "                                (&#x27;cat&#x27;,\n",
              "                                 Pipeline(steps=[(&#x27;imputer&#x27;,\n",
              "                                                  SimpleImputer(strategy=&#x27;most_frequent&#x27;)),\n",
              "                                                 (&#x27;encoder&#x27;,\n",
              "                                                  OneHotEncoder(sparse_output=False))]),\n",
              "                                 Index([&#x27;cut&#x27;, &#x27;color&#x27;, &#x27;clarity&#x27;], dtype=&#x27;object&#x27;))])</pre></div></div></div><div class=\"sk-parallel\"><div class=\"sk-parallel-item\"><div class=\"sk-item\"><div class=\"sk-label-container\"><div class=\"sk-label sk-toggleable\"><input class=\"sk-toggleable__control sk-hidden--visually\" id=\"sk-estimator-id-25\" type=\"checkbox\" ><label for=\"sk-estimator-id-25\" class=\"sk-toggleable__label sk-toggleable__label-arrow\">num</label><div class=\"sk-toggleable__content\"><pre>Index([&#x27;carat&#x27;, &#x27;depth&#x27;, &#x27;table&#x27;, &#x27;x&#x27;, &#x27;y&#x27;, &#x27;z&#x27;], dtype=&#x27;object&#x27;)</pre></div></div></div><div class=\"sk-serial\"><div class=\"sk-item\"><div class=\"sk-serial\"><div class=\"sk-item\"><div class=\"sk-estimator sk-toggleable\"><input class=\"sk-toggleable__control sk-hidden--visually\" id=\"sk-estimator-id-26\" type=\"checkbox\" ><label for=\"sk-estimator-id-26\" class=\"sk-toggleable__label sk-toggleable__label-arrow\">SimpleImputer</label><div class=\"sk-toggleable__content\"><pre>SimpleImputer(strategy=&#x27;median&#x27;)</pre></div></div></div></div></div></div></div></div><div class=\"sk-parallel-item\"><div class=\"sk-item\"><div class=\"sk-label-container\"><div class=\"sk-label sk-toggleable\"><input class=\"sk-toggleable__control sk-hidden--visually\" id=\"sk-estimator-id-27\" type=\"checkbox\" ><label for=\"sk-estimator-id-27\" class=\"sk-toggleable__label sk-toggleable__label-arrow\">cat</label><div class=\"sk-toggleable__content\"><pre>Index([&#x27;cut&#x27;, &#x27;color&#x27;, &#x27;clarity&#x27;], dtype=&#x27;object&#x27;)</pre></div></div></div><div class=\"sk-serial\"><div class=\"sk-item\"><div class=\"sk-serial\"><div class=\"sk-item\"><div class=\"sk-estimator sk-toggleable\"><input class=\"sk-toggleable__control sk-hidden--visually\" id=\"sk-estimator-id-28\" type=\"checkbox\" ><label for=\"sk-estimator-id-28\" class=\"sk-toggleable__label sk-toggleable__label-arrow\">SimpleImputer</label><div class=\"sk-toggleable__content\"><pre>SimpleImputer(strategy=&#x27;most_frequent&#x27;)</pre></div></div></div><div class=\"sk-item\"><div class=\"sk-estimator sk-toggleable\"><input class=\"sk-toggleable__control sk-hidden--visually\" id=\"sk-estimator-id-29\" type=\"checkbox\" ><label for=\"sk-estimator-id-29\" class=\"sk-toggleable__label sk-toggleable__label-arrow\">OneHotEncoder</label><div class=\"sk-toggleable__content\"><pre>OneHotEncoder(sparse_output=False)</pre></div></div></div></div></div></div></div></div></div></div><div class=\"sk-item\"><div class=\"sk-estimator sk-toggleable\"><input class=\"sk-toggleable__control sk-hidden--visually\" id=\"sk-estimator-id-30\" type=\"checkbox\" ><label for=\"sk-estimator-id-30\" class=\"sk-toggleable__label sk-toggleable__label-arrow\">LGBMRegressor</label><div class=\"sk-toggleable__content\"><pre>LGBMRegressor(bagging_fraction=0.5976178297327104, bagging_freq=6,\n",
              "              feature_fraction=0.8154989178398948,\n",
              "              lambda_l1=0.00013031312748601107,\n",
              "              lambda_l2=0.00028762854527465936, min_child_sample=24,\n",
              "              n_estimator=100, num_leaves=70, verbose=-1)</pre></div></div></div></div></div></div></div>"
            ]
          },
          "metadata": {},
          "execution_count": 51
        }
      ]
    },
    {
      "cell_type": "code",
      "source": [],
      "metadata": {
        "id": "_PB9qtAVjA6N"
      },
      "execution_count": 51,
      "outputs": []
    },
    {
      "cell_type": "code",
      "source": [
        "from sklearn.linear_model import LinearRegression\n",
        "from sklearn.tree import DecisionTreeRegressor\n",
        "\n",
        "\n",
        "def objective(trial):\n",
        "\n",
        "\n",
        "  model_type = trial.suggest_categorical(\"model_type\", ['LinReg', 'DT', 'LGBM'])\n",
        "\n",
        "  if model_type == 'LinReg':\n",
        "    model = LinearRegression()\n",
        "\n",
        "  elif model_type == 'DT':\n",
        "    model = DecisionTreeRegressor(\n",
        "        max_depth = trial.suggest_int('max_depth', 2, 12),\n",
        "        min_samples_leaf = trial.suggest_int('min_samples_leaf', 5, 100)\n",
        "    )\n",
        "\n",
        "  elif model_type == 'LGBM':\n",
        "    model = lgb.LGBMRegressor(\n",
        "        objective = 'mse',\n",
        "        verbose=-1,\n",
        "        boosting_type=trial.suggest_categorical('boosting_type', ['gbdt', 'dart']),\n",
        "        lambda_l1 = trial.suggest_float('lambda_l1', 1e-8, 10.0, log=True),\n",
        "        lambda_l2 = trial.suggest_float('lambda_l2', 1e-8, 10.0, log=True),\n",
        "        num_leaves = trial.suggest_int('num_leaves', 2, 256),\n",
        "        feature_fraction = trial.suggest_float('feature_fraction', 0.4, 1.0),\n",
        "        bagging_fraction = trial.suggest_float('bagging_fraction', 0.4, 1.0),\n",
        "        bagging_freq = trial.suggest_int('bagging_freq', 1, 7),\n",
        "        min_child_samples = trial.suggest_int('min_child_samples', 5, 100),\n",
        "\n",
        "\n",
        "    )\n",
        "\n",
        "  # Навчання моделі на тренувальному наборі даних:\n",
        "\n",
        "  model.fit(X_train, y_train)\n",
        "\n",
        "  # Оцінка моделі на тестовому наборі даних:\n",
        "\n",
        "  y_pred = model.predict(X_val)\n",
        "  r2 = metrics.r2_score(y_val, y_pred)\n",
        "\n",
        "  # Повернення значення метрики:\n",
        "  return r2"
      ],
      "metadata": {
        "id": "AamlugkNKMzl"
      },
      "execution_count": 52,
      "outputs": []
    },
    {
      "cell_type": "code",
      "source": [
        "study = optuna.create_study(direction='maximize')\n",
        "study.optimize(objective, n_trials=100)"
      ],
      "metadata": {
        "colab": {
          "base_uri": "https://localhost:8080/"
        },
        "id": "Do6DpfuHlWCE",
        "outputId": "7c09c9ce-f0ee-41d7-ace4-e83a1d896bd9"
      },
      "execution_count": 53,
      "outputs": [
        {
          "output_type": "stream",
          "name": "stderr",
          "text": [
            "[I 2024-07-24 16:10:34,708] A new study created in memory with name: no-name-9f375c51-223f-4425-aabf-fd43d7b143e9\n",
            "[I 2024-07-24 16:10:34,885] Trial 0 finished with value: 0.9379766936571837 and parameters: {'model_type': 'DT', 'max_depth': 9, 'min_samples_leaf': 93}. Best is trial 0 with value: 0.9379766936571837.\n",
            "[I 2024-07-24 16:10:36,257] Trial 1 finished with value: 0.9784728094314791 and parameters: {'model_type': 'LGBM', 'boosting_type': 'gbdt', 'lambda_l1': 2.8186418306546585e-05, 'lambda_l2': 0.020602959363560866, 'num_leaves': 136, 'feature_fraction': 0.44269806883405344, 'bagging_fraction': 0.9355522695813535, 'bagging_freq': 6, 'min_child_samples': 37}. Best is trial 1 with value: 0.9784728094314791.\n",
            "[I 2024-07-24 16:10:36,307] Trial 2 finished with value: 0.9197154378234808 and parameters: {'model_type': 'LinReg'}. Best is trial 1 with value: 0.9784728094314791.\n",
            "[I 2024-07-24 16:10:36,404] Trial 3 finished with value: 0.9197154378234808 and parameters: {'model_type': 'LinReg'}. Best is trial 1 with value: 0.9784728094314791.\n",
            "[I 2024-07-24 16:10:36,497] Trial 4 finished with value: 0.9197154378234808 and parameters: {'model_type': 'LinReg'}. Best is trial 1 with value: 0.9784728094314791.\n",
            "[I 2024-07-24 16:10:37,224] Trial 5 finished with value: 0.9786048336281741 and parameters: {'model_type': 'LGBM', 'boosting_type': 'gbdt', 'lambda_l1': 0.2439908856805926, 'lambda_l2': 0.0790316742608213, 'num_leaves': 30, 'feature_fraction': 0.8378989954879588, 'bagging_fraction': 0.9733636578401824, 'bagging_freq': 6, 'min_child_samples': 57}. Best is trial 5 with value: 0.9786048336281741.\n",
            "[I 2024-07-24 16:10:37,392] Trial 6 finished with value: 0.9674391405661547 and parameters: {'model_type': 'DT', 'max_depth': 12, 'min_samples_leaf': 25}. Best is trial 5 with value: 0.9786048336281741.\n",
            "[I 2024-07-24 16:10:40,408] Trial 7 finished with value: 0.9458807306197109 and parameters: {'model_type': 'LGBM', 'boosting_type': 'dart', 'lambda_l1': 3.363647373503139e-08, 'lambda_l2': 0.023222185306214976, 'num_leaves': 174, 'feature_fraction': 0.44651037048837133, 'bagging_fraction': 0.9123130314528538, 'bagging_freq': 7, 'min_child_samples': 63}. Best is trial 5 with value: 0.9786048336281741.\n",
            "[I 2024-07-24 16:10:40,482] Trial 8 finished with value: 0.9197154378234808 and parameters: {'model_type': 'LinReg'}. Best is trial 5 with value: 0.9786048336281741.\n",
            "[I 2024-07-24 16:10:40,589] Trial 9 finished with value: 0.8725425396547468 and parameters: {'model_type': 'DT', 'max_depth': 3, 'min_samples_leaf': 33}. Best is trial 5 with value: 0.9786048336281741.\n",
            "[I 2024-07-24 16:10:41,211] Trial 10 finished with value: 0.9760104882030168 and parameters: {'model_type': 'LGBM', 'boosting_type': 'gbdt', 'lambda_l1': 3.3696813363489233, 'lambda_l2': 1.9578355261557506e-08, 'num_leaves': 23, 'feature_fraction': 0.9707506249913895, 'bagging_fraction': 0.4918161790427896, 'bagging_freq': 1, 'min_child_samples': 98}. Best is trial 5 with value: 0.9786048336281741.\n",
            "[I 2024-07-24 16:10:42,158] Trial 11 finished with value: 0.9797608520472942 and parameters: {'model_type': 'LGBM', 'boosting_type': 'gbdt', 'lambda_l1': 0.0020080754389927807, 'lambda_l2': 2.5748713515234676, 'num_leaves': 75, 'feature_fraction': 0.8151196752112085, 'bagging_fraction': 0.9968008233720511, 'bagging_freq': 6, 'min_child_samples': 28}. Best is trial 11 with value: 0.9797608520472942.\n",
            "[I 2024-07-24 16:10:42,783] Trial 12 finished with value: 0.9797717269691293 and parameters: {'model_type': 'LGBM', 'boosting_type': 'gbdt', 'lambda_l1': 0.15377324384532987, 'lambda_l2': 0.715548814856539, 'num_leaves': 27, 'feature_fraction': 0.8364605293845065, 'bagging_fraction': 0.9749035505984077, 'bagging_freq': 5, 'min_child_samples': 9}. Best is trial 12 with value: 0.9797717269691293.\n",
            "[I 2024-07-24 16:10:43,568] Trial 13 finished with value: 0.9800425771408745 and parameters: {'model_type': 'LGBM', 'boosting_type': 'gbdt', 'lambda_l1': 0.004955616475549856, 'lambda_l2': 8.398219768540871, 'num_leaves': 72, 'feature_fraction': 0.744050972656434, 'bagging_fraction': 0.7344641220593408, 'bagging_freq': 4, 'min_child_samples': 7}. Best is trial 13 with value: 0.9800425771408745.\n",
            "[I 2024-07-24 16:10:44,852] Trial 14 finished with value: 0.9802349156831329 and parameters: {'model_type': 'LGBM', 'boosting_type': 'gbdt', 'lambda_l1': 0.005428063375065576, 'lambda_l2': 6.855567209656003, 'num_leaves': 245, 'feature_fraction': 0.6640311781322785, 'bagging_fraction': 0.6922943627077635, 'bagging_freq': 3, 'min_child_samples': 6}. Best is trial 14 with value: 0.9802349156831329.\n",
            "[I 2024-07-24 16:10:48,638] Trial 15 finished with value: 0.956260583329507 and parameters: {'model_type': 'LGBM', 'boosting_type': 'dart', 'lambda_l1': 0.0005122234987089538, 'lambda_l2': 8.97049621280313e-06, 'num_leaves': 256, 'feature_fraction': 0.6164928847891664, 'bagging_fraction': 0.7264846477304449, 'bagging_freq': 3, 'min_child_samples': 6}. Best is trial 14 with value: 0.9802349156831329.\n",
            "[I 2024-07-24 16:10:50,219] Trial 16 finished with value: 0.9792488635838652 and parameters: {'model_type': 'LGBM', 'boosting_type': 'gbdt', 'lambda_l1': 0.006414236933121797, 'lambda_l2': 8.380903600931369, 'num_leaves': 246, 'feature_fraction': 0.6429179239220781, 'bagging_fraction': 0.6850034305085618, 'bagging_freq': 3, 'min_child_samples': 25}. Best is trial 14 with value: 0.9802349156831329.\n",
            "[I 2024-07-24 16:10:51,011] Trial 17 finished with value: 0.979993868212668 and parameters: {'model_type': 'LGBM', 'boosting_type': 'gbdt', 'lambda_l1': 7.930791105098456e-06, 'lambda_l2': 0.0002598518069423444, 'num_leaves': 89, 'feature_fraction': 0.7110685141805901, 'bagging_fraction': 0.7243024660706483, 'bagging_freq': 3, 'min_child_samples': 5}. Best is trial 14 with value: 0.9802349156831329.\n",
            "[I 2024-07-24 16:10:53,950] Trial 18 finished with value: 0.9510170688245347 and parameters: {'model_type': 'LGBM', 'boosting_type': 'dart', 'lambda_l1': 0.03523829806907426, 'lambda_l2': 0.0002949708232342511, 'num_leaves': 197, 'feature_fraction': 0.5610674173065734, 'bagging_fraction': 0.6119182097548251, 'bagging_freq': 1, 'min_child_samples': 42}. Best is trial 14 with value: 0.9802349156831329.\n",
            "[I 2024-07-24 16:10:54,002] Trial 19 finished with value: 0.8281538862858147 and parameters: {'model_type': 'DT', 'max_depth': 2, 'min_samples_leaf': 81}. Best is trial 14 with value: 0.9802349156831329.\n",
            "[I 2024-07-24 16:10:55,035] Trial 20 finished with value: 0.9782459593831536 and parameters: {'model_type': 'LGBM', 'boosting_type': 'gbdt', 'lambda_l1': 1.1846686643041921e-05, 'lambda_l2': 8.513522369642454, 'num_leaves': 90, 'feature_fraction': 0.7321505273796192, 'bagging_fraction': 0.8163490481277973, 'bagging_freq': 4, 'min_child_samples': 74}. Best is trial 14 with value: 0.9802349156831329.\n",
            "[I 2024-07-24 16:10:55,902] Trial 21 finished with value: 0.9797170429719702 and parameters: {'model_type': 'LGBM', 'boosting_type': 'gbdt', 'lambda_l1': 4.554158789142142e-06, 'lambda_l2': 0.00017803787150600699, 'num_leaves': 90, 'feature_fraction': 0.7333298672381113, 'bagging_fraction': 0.7506938292556748, 'bagging_freq': 3, 'min_child_samples': 15}. Best is trial 14 with value: 0.9802349156831329.\n",
            "[I 2024-07-24 16:10:56,973] Trial 22 finished with value: 0.9786899280342356 and parameters: {'model_type': 'LGBM', 'boosting_type': 'gbdt', 'lambda_l1': 0.00011494173678179705, 'lambda_l2': 3.6436220017636174e-06, 'num_leaves': 137, 'feature_fraction': 0.6885693975561046, 'bagging_fraction': 0.6118962934547424, 'bagging_freq': 4, 'min_child_samples': 20}. Best is trial 14 with value: 0.9802349156831329.\n",
            "[I 2024-07-24 16:10:57,735] Trial 23 finished with value: 0.9808072219654195 and parameters: {'model_type': 'LGBM', 'boosting_type': 'gbdt', 'lambda_l1': 4.963341744894659e-07, 'lambda_l2': 0.0035784956053394297, 'num_leaves': 73, 'feature_fraction': 0.5669235255359895, 'bagging_fraction': 0.8211893227455556, 'bagging_freq': 2, 'min_child_samples': 6}. Best is trial 23 with value: 0.9808072219654195.\n",
            "[I 2024-07-24 16:10:58,496] Trial 24 finished with value: 0.979401452830211 and parameters: {'model_type': 'LGBM', 'boosting_type': 'gbdt', 'lambda_l1': 1.804008938244653e-07, 'lambda_l2': 0.263894663247578, 'num_leaves': 56, 'feature_fraction': 0.5318700553152427, 'bagging_fraction': 0.8379956389838854, 'bagging_freq': 2, 'min_child_samples': 18}. Best is trial 23 with value: 0.9808072219654195.\n",
            "[I 2024-07-24 16:10:59,767] Trial 25 finished with value: 0.9789678733713001 and parameters: {'model_type': 'LGBM', 'boosting_type': 'gbdt', 'lambda_l1': 4.5127790161317526e-07, 'lambda_l2': 0.0038615943993359353, 'num_leaves': 119, 'feature_fraction': 0.5406576572032714, 'bagging_fraction': 0.8230135965650126, 'bagging_freq': 2, 'min_child_samples': 35}. Best is trial 23 with value: 0.9808072219654195.\n",
            "[I 2024-07-24 16:11:02,345] Trial 26 finished with value: 0.9514833760949611 and parameters: {'model_type': 'LGBM', 'boosting_type': 'dart', 'lambda_l1': 0.009877692633404317, 'lambda_l2': 1.0717316144342526, 'num_leaves': 56, 'feature_fraction': 0.6111178140284466, 'bagging_fraction': 0.6258574387571829, 'bagging_freq': 2, 'min_child_samples': 16}. Best is trial 23 with value: 0.9808072219654195.\n",
            "[I 2024-07-24 16:11:03,574] Trial 27 finished with value: 0.9796105982561139 and parameters: {'model_type': 'LGBM', 'boosting_type': 'gbdt', 'lambda_l1': 0.0007148235586281983, 'lambda_l2': 7.899080140947482e-06, 'num_leaves': 203, 'feature_fraction': 0.7999409317251193, 'bagging_fraction': 0.5399987105922153, 'bagging_freq': 4, 'min_child_samples': 6}. Best is trial 23 with value: 0.9808072219654195.\n",
            "[I 2024-07-24 16:11:03,625] Trial 28 finished with value: 0.9197154378234808 and parameters: {'model_type': 'LinReg'}. Best is trial 23 with value: 0.9808072219654195.\n",
            "[I 2024-07-24 16:11:03,781] Trial 29 finished with value: 0.9257826064426257 and parameters: {'model_type': 'DT', 'max_depth': 6, 'min_samples_leaf': 5}. Best is trial 23 with value: 0.9808072219654195.\n",
            "[I 2024-07-24 16:11:03,897] Trial 30 finished with value: 0.9298982988372956 and parameters: {'model_type': 'DT', 'max_depth': 7, 'min_samples_leaf': 63}. Best is trial 23 with value: 0.9808072219654195.\n",
            "[I 2024-07-24 16:11:04,763] Trial 31 finished with value: 0.980361339764288 and parameters: {'model_type': 'LGBM', 'boosting_type': 'gbdt', 'lambda_l1': 1.803379974213209e-06, 'lambda_l2': 0.001116952098096314, 'num_leaves': 111, 'feature_fraction': 0.6813366639038043, 'bagging_fraction': 0.7641808470062833, 'bagging_freq': 3, 'min_child_samples': 5}. Best is trial 23 with value: 0.9808072219654195.\n",
            "[I 2024-07-24 16:11:05,775] Trial 32 finished with value: 0.979902935906294 and parameters: {'model_type': 'LGBM', 'boosting_type': 'gbdt', 'lambda_l1': 9.181422121755936e-07, 'lambda_l2': 0.002441877268677857, 'num_leaves': 123, 'feature_fraction': 0.6538404261087483, 'bagging_fraction': 0.7824214526959238, 'bagging_freq': 4, 'min_child_samples': 14}. Best is trial 23 with value: 0.9808072219654195.\n",
            "[I 2024-07-24 16:11:06,515] Trial 33 finished with value: 0.9808131015022864 and parameters: {'model_type': 'LGBM', 'boosting_type': 'gbdt', 'lambda_l1': 1.1523689035676195e-08, 'lambda_l2': 0.162068609943908, 'num_leaves': 57, 'feature_fraction': 0.7723875689803059, 'bagging_fraction': 0.873529570975118, 'bagging_freq': 2, 'min_child_samples': 5}. Best is trial 33 with value: 0.9808131015022864.\n",
            "[I 2024-07-24 16:11:07,682] Trial 34 finished with value: 0.9802082461399299 and parameters: {'model_type': 'LGBM', 'boosting_type': 'gbdt', 'lambda_l1': 2.7821065581416543e-08, 'lambda_l2': 0.001625813720726975, 'num_leaves': 110, 'feature_fraction': 0.9019690779569748, 'bagging_fraction': 0.862252899293592, 'bagging_freq': 2, 'min_child_samples': 27}. Best is trial 33 with value: 0.9808131015022864.\n",
            "[I 2024-07-24 16:11:07,728] Trial 35 finished with value: 0.9197154378234808 and parameters: {'model_type': 'LinReg'}. Best is trial 33 with value: 0.9808131015022864.\n",
            "[I 2024-07-24 16:11:08,885] Trial 36 finished with value: 0.9797236104279174 and parameters: {'model_type': 'LGBM', 'boosting_type': 'gbdt', 'lambda_l1': 1.1412577636921627e-08, 'lambda_l2': 0.056693722971006215, 'num_leaves': 150, 'feature_fraction': 0.5738787911504677, 'bagging_fraction': 0.8837537538888778, 'bagging_freq': 2, 'min_child_samples': 14}. Best is trial 33 with value: 0.9808131015022864.\n",
            "[I 2024-07-24 16:11:09,472] Trial 37 finished with value: 0.9792609963494623 and parameters: {'model_type': 'LGBM', 'boosting_type': 'gbdt', 'lambda_l1': 1.4260034679594837e-07, 'lambda_l2': 0.12719838016774435, 'num_leaves': 48, 'feature_fraction': 0.7745102541925138, 'bagging_fraction': 0.658965641485655, 'bagging_freq': 1, 'min_child_samples': 24}. Best is trial 33 with value: 0.9808131015022864.\n",
            "[I 2024-07-24 16:11:09,519] Trial 38 finished with value: 0.9197154378234808 and parameters: {'model_type': 'LinReg'}. Best is trial 33 with value: 0.9808131015022864.\n",
            "[I 2024-07-24 16:11:10,655] Trial 39 finished with value: 0.9787422045448656 and parameters: {'model_type': 'LGBM', 'boosting_type': 'gbdt', 'lambda_l1': 1.616230101543786e-06, 'lambda_l2': 4.400112504425202e-05, 'num_leaves': 162, 'feature_fraction': 0.496948712685387, 'bagging_fraction': 0.7745947450334782, 'bagging_freq': 3, 'min_child_samples': 11}. Best is trial 33 with value: 0.9808131015022864.\n",
            "[I 2024-07-24 16:11:11,062] Trial 40 finished with value: 0.8360873746077675 and parameters: {'model_type': 'LGBM', 'boosting_type': 'dart', 'lambda_l1': 7.199881748281035e-05, 'lambda_l2': 0.00874448099772819, 'num_leaves': 2, 'feature_fraction': 0.6598139363501334, 'bagging_fraction': 0.7961793655963728, 'bagging_freq': 2, 'min_child_samples': 75}. Best is trial 33 with value: 0.9808131015022864.\n",
            "[I 2024-07-24 16:11:12,213] Trial 41 finished with value: 0.9802901950518184 and parameters: {'model_type': 'LGBM', 'boosting_type': 'gbdt', 'lambda_l1': 3.458850598578905e-08, 'lambda_l2': 0.0017299510109624538, 'num_leaves': 113, 'feature_fraction': 0.9181836978111503, 'bagging_fraction': 0.874404836300802, 'bagging_freq': 2, 'min_child_samples': 31}. Best is trial 33 with value: 0.9808131015022864.\n",
            "[I 2024-07-24 16:11:13,474] Trial 42 finished with value: 0.9811567481719484 and parameters: {'model_type': 'LGBM', 'boosting_type': 'gbdt', 'lambda_l1': 1.3478784471618824e-07, 'lambda_l2': 0.002112933696071532, 'num_leaves': 108, 'feature_fraction': 0.8912449133791219, 'bagging_fraction': 0.8820872723039076, 'bagging_freq': 3, 'min_child_samples': 5}. Best is trial 42 with value: 0.9811567481719484.\n",
            "[I 2024-07-24 16:11:15,215] Trial 43 finished with value: 0.979874061864082 and parameters: {'model_type': 'LGBM', 'boosting_type': 'gbdt', 'lambda_l1': 8.5534479497798e-08, 'lambda_l2': 0.0013625044881800039, 'num_leaves': 104, 'feature_fraction': 0.9007191399222124, 'bagging_fraction': 0.8935959267366305, 'bagging_freq': 2, 'min_child_samples': 44}. Best is trial 42 with value: 0.9811567481719484.\n",
            "[I 2024-07-24 16:11:16,225] Trial 44 finished with value: 0.9803663837486581 and parameters: {'model_type': 'LGBM', 'boosting_type': 'gbdt', 'lambda_l1': 3.5686387647665113e-07, 'lambda_l2': 0.011274583643267349, 'num_leaves': 137, 'feature_fraction': 0.9804424178580669, 'bagging_fraction': 0.9256585319989612, 'bagging_freq': 1, 'min_child_samples': 20}. Best is trial 42 with value: 0.9811567481719484.\n",
            "[I 2024-07-24 16:11:16,372] Trial 45 finished with value: 0.9519767732127669 and parameters: {'model_type': 'DT', 'max_depth': 11, 'min_samples_leaf': 58}. Best is trial 42 with value: 0.9811567481719484.\n",
            "[I 2024-07-24 16:11:17,267] Trial 46 finished with value: 0.9801989522275283 and parameters: {'model_type': 'LGBM', 'boosting_type': 'gbdt', 'lambda_l1': 3.3727241061494233e-07, 'lambda_l2': 0.015602545905991139, 'num_leaves': 142, 'feature_fraction': 0.9789446023527446, 'bagging_fraction': 0.9337447278242132, 'bagging_freq': 1, 'min_child_samples': 20}. Best is trial 42 with value: 0.9811567481719484.\n",
            "[I 2024-07-24 16:11:17,318] Trial 47 finished with value: 0.9197154378234808 and parameters: {'model_type': 'LinReg'}. Best is trial 42 with value: 0.9811567481719484.\n",
            "[I 2024-07-24 16:11:18,015] Trial 48 finished with value: 0.9805541310660063 and parameters: {'model_type': 'LGBM', 'boosting_type': 'gbdt', 'lambda_l1': 2.051830828370304e-06, 'lambda_l2': 0.026683107909366663, 'num_leaves': 68, 'feature_fraction': 0.8622773951847753, 'bagging_fraction': 0.9409369859978004, 'bagging_freq': 1, 'min_child_samples': 12}. Best is trial 42 with value: 0.9811567481719484.\n",
            "[I 2024-07-24 16:11:18,647] Trial 49 finished with value: 0.9807021558451855 and parameters: {'model_type': 'LGBM', 'boosting_type': 'gbdt', 'lambda_l1': 1.089151108078999e-08, 'lambda_l2': 0.034450864199310996, 'num_leaves': 71, 'feature_fraction': 0.8678850311484313, 'bagging_fraction': 0.9359738743735104, 'bagging_freq': 1, 'min_child_samples': 12}. Best is trial 42 with value: 0.9811567481719484.\n",
            "[I 2024-07-24 16:11:19,181] Trial 50 finished with value: 0.9805325911425657 and parameters: {'model_type': 'LGBM', 'boosting_type': 'gbdt', 'lambda_l1': 1.817314979037562e-08, 'lambda_l2': 0.05633320451997374, 'num_leaves': 43, 'feature_fraction': 0.8614702533173181, 'bagging_fraction': 0.9475401501227112, 'bagging_freq': 1, 'min_child_samples': 12}. Best is trial 42 with value: 0.9811567481719484.\n",
            "[I 2024-07-24 16:11:19,717] Trial 51 finished with value: 0.980376756683477 and parameters: {'model_type': 'LGBM', 'boosting_type': 'gbdt', 'lambda_l1': 1.0994374002230335e-08, 'lambda_l2': 0.04436454886959832, 'num_leaves': 41, 'feature_fraction': 0.8663162439319878, 'bagging_fraction': 0.9501745472677625, 'bagging_freq': 1, 'min_child_samples': 11}. Best is trial 42 with value: 0.9811567481719484.\n",
            "[I 2024-07-24 16:11:20,357] Trial 52 finished with value: 0.9807338367201215 and parameters: {'model_type': 'LGBM', 'boosting_type': 'gbdt', 'lambda_l1': 5.98003657616403e-08, 'lambda_l2': 0.25139309047597796, 'num_leaves': 69, 'feature_fraction': 0.8683826246823937, 'bagging_fraction': 0.9625024251672107, 'bagging_freq': 1, 'min_child_samples': 11}. Best is trial 42 with value: 0.9811567481719484.\n",
            "[I 2024-07-24 16:11:20,986] Trial 53 finished with value: 0.9807743019632866 and parameters: {'model_type': 'LGBM', 'boosting_type': 'gbdt', 'lambda_l1': 6.296790531745218e-08, 'lambda_l2': 0.2896131759653951, 'num_leaves': 71, 'feature_fraction': 0.9455133102980151, 'bagging_fraction': 0.9977631895095197, 'bagging_freq': 1, 'min_child_samples': 13}. Best is trial 42 with value: 0.9811567481719484.\n",
            "[I 2024-07-24 16:11:21,650] Trial 54 finished with value: 0.9803271116853647 and parameters: {'model_type': 'LGBM', 'boosting_type': 'gbdt', 'lambda_l1': 8.754779573342736e-08, 'lambda_l2': 0.30989720869872517, 'num_leaves': 76, 'feature_fraction': 0.9407067492520934, 'bagging_fraction': 0.9959663270305759, 'bagging_freq': 1, 'min_child_samples': 22}. Best is trial 42 with value: 0.9811567481719484.\n",
            "[I 2024-07-24 16:11:22,589] Trial 55 finished with value: 0.9794568963962981 and parameters: {'model_type': 'LGBM', 'boosting_type': 'gbdt', 'lambda_l1': 5.359640272674414e-08, 'lambda_l2': 1.0265635940487328, 'num_leaves': 64, 'feature_fraction': 0.9365615855348335, 'bagging_fraction': 0.9088977072309886, 'bagging_freq': 7, 'min_child_samples': 59}. Best is trial 42 with value: 0.9811567481719484.\n",
            "[I 2024-07-24 16:11:23,269] Trial 56 finished with value: 0.9805514709629509 and parameters: {'model_type': 'LGBM', 'boosting_type': 'gbdt', 'lambda_l1': 6.177019082699443e-08, 'lambda_l2': 0.11378343240683103, 'num_leaves': 85, 'feature_fraction': 0.8213554001797618, 'bagging_fraction': 0.9673566868065506, 'bagging_freq': 1, 'min_child_samples': 10}. Best is trial 42 with value: 0.9811567481719484.\n",
            "[I 2024-07-24 16:11:24,371] Trial 57 finished with value: 0.9450545851318342 and parameters: {'model_type': 'LGBM', 'boosting_type': 'dart', 'lambda_l1': 1.074831946478762e-08, 'lambda_l2': 0.26665020495501673, 'num_leaves': 16, 'feature_fraction': 0.7786414863882025, 'bagging_fraction': 0.8513037365529261, 'bagging_freq': 2, 'min_child_samples': 92}. Best is trial 42 with value: 0.9811567481719484.\n",
            "[I 2024-07-24 16:11:24,451] Trial 58 finished with value: 0.8941339455688748 and parameters: {'model_type': 'DT', 'max_depth': 4, 'min_samples_leaf': 40}. Best is trial 42 with value: 0.9811567481719484.\n",
            "[I 2024-07-24 16:11:25,180] Trial 59 finished with value: 0.9805537367460462 and parameters: {'model_type': 'LGBM', 'boosting_type': 'gbdt', 'lambda_l1': 4.302480977928859, 'lambda_l2': 2.1937189887370687, 'num_leaves': 102, 'feature_fraction': 0.8773678589442133, 'bagging_fraction': 0.9912350736360688, 'bagging_freq': 1, 'min_child_samples': 9}. Best is trial 42 with value: 0.9811567481719484.\n",
            "[I 2024-07-24 16:11:26,404] Trial 60 finished with value: 0.9805481993766573 and parameters: {'model_type': 'LGBM', 'boosting_type': 'gbdt', 'lambda_l1': 2.2182560983863777e-07, 'lambda_l2': 0.00666744149744168, 'num_leaves': 79, 'feature_fraction': 0.9507070118698497, 'bagging_fraction': 0.9061934395262553, 'bagging_freq': 2, 'min_child_samples': 17}. Best is trial 42 with value: 0.9811567481719484.\n",
            "[I 2024-07-24 16:11:27,317] Trial 61 finished with value: 0.9808550736896376 and parameters: {'model_type': 'LGBM', 'boosting_type': 'gbdt', 'lambda_l1': 9.076561567757228e-07, 'lambda_l2': 0.027046927601553215, 'num_leaves': 68, 'feature_fraction': 0.841468111799555, 'bagging_fraction': 0.9648992559531777, 'bagging_freq': 1, 'min_child_samples': 10}. Best is trial 42 with value: 0.9811567481719484.\n",
            "[I 2024-07-24 16:11:28,102] Trial 62 finished with value: 0.9791833679312306 and parameters: {'model_type': 'LGBM', 'boosting_type': 'gbdt', 'lambda_l1': 3.3774948301892204e-08, 'lambda_l2': 0.027289057521657896, 'num_leaves': 62, 'feature_fraction': 0.4001738133274497, 'bagging_fraction': 0.9750993841743029, 'bagging_freq': 1, 'min_child_samples': 5}. Best is trial 42 with value: 0.9811567481719484.\n",
            "[I 2024-07-24 16:11:28,816] Trial 63 finished with value: 0.9798482337069976 and parameters: {'model_type': 'LGBM', 'boosting_type': 'gbdt', 'lambda_l1': 6.401521889846256e-07, 'lambda_l2': 0.48100481342686346, 'num_leaves': 31, 'feature_fraction': 0.8353464465428417, 'bagging_fraction': 0.9536037101526166, 'bagging_freq': 1, 'min_child_samples': 10}. Best is trial 42 with value: 0.9811567481719484.\n",
            "[I 2024-07-24 16:11:29,526] Trial 64 finished with value: 0.9806081934956898 and parameters: {'model_type': 'LGBM', 'boosting_type': 'gbdt', 'lambda_l1': 1.1621706130972424e-07, 'lambda_l2': 0.14767379267230724, 'num_leaves': 93, 'feature_fraction': 0.8909210206373496, 'bagging_fraction': 0.9183446192589361, 'bagging_freq': 1, 'min_child_samples': 16}. Best is trial 42 with value: 0.9811567481719484.\n",
            "[I 2024-07-24 16:11:30,308] Trial 65 finished with value: 0.980562240518979 and parameters: {'model_type': 'LGBM', 'boosting_type': 'gbdt', 'lambda_l1': 3.722358441185777e-08, 'lambda_l2': 0.0005873401619916618, 'num_leaves': 52, 'feature_fraction': 0.8039942940458522, 'bagging_fraction': 0.9699342761857573, 'bagging_freq': 2, 'min_child_samples': 8}. Best is trial 42 with value: 0.9811567481719484.\n",
            "[I 2024-07-24 16:11:30,359] Trial 66 finished with value: 0.9197154378234808 and parameters: {'model_type': 'LinReg'}. Best is trial 42 with value: 0.9811567481719484.\n",
            "[I 2024-07-24 16:11:31,368] Trial 67 finished with value: 0.9801905917743597 and parameters: {'model_type': 'LGBM', 'boosting_type': 'gbdt', 'lambda_l1': 1.7073488146958336e-07, 'lambda_l2': 0.006795974146524555, 'num_leaves': 76, 'feature_fraction': 0.7686715700619995, 'bagging_fraction': 0.9999908659650323, 'bagging_freq': 5, 'min_child_samples': 31}. Best is trial 42 with value: 0.9811567481719484.\n",
            "[I 2024-07-24 16:11:32,827] Trial 68 finished with value: 0.9543859985112939 and parameters: {'model_type': 'LGBM', 'boosting_type': 'dart', 'lambda_l1': 1.2869269748739023, 'lambda_l2': 2.2804482761704175e-07, 'num_leaves': 35, 'feature_fraction': 0.8423092359534381, 'bagging_fraction': 0.414996134128637, 'bagging_freq': 3, 'min_child_samples': 9}. Best is trial 42 with value: 0.9811567481719484.\n",
            "[I 2024-07-24 16:11:33,424] Trial 69 finished with value: 0.9805993854389615 and parameters: {'model_type': 'LGBM', 'boosting_type': 'gbdt', 'lambda_l1': 8.278006919868349e-06, 'lambda_l2': 1.6610883967993124, 'num_leaves': 66, 'feature_fraction': 0.9212766897005383, 'bagging_fraction': 0.8908807567510066, 'bagging_freq': 1, 'min_child_samples': 5}. Best is trial 42 with value: 0.9811567481719484.\n",
            "[I 2024-07-24 16:11:33,562] Trial 70 finished with value: 0.9565195193790527 and parameters: {'model_type': 'DT', 'max_depth': 9, 'min_samples_leaf': 9}. Best is trial 42 with value: 0.9811567481719484.\n",
            "[I 2024-07-24 16:11:34,302] Trial 71 finished with value: 0.9804978182071806 and parameters: {'model_type': 'LGBM', 'boosting_type': 'gbdt', 'lambda_l1': 9.50808375728051e-08, 'lambda_l2': 0.1527331023573944, 'num_leaves': 99, 'feature_fraction': 0.8894809865213135, 'bagging_fraction': 0.9100339162644758, 'bagging_freq': 1, 'min_child_samples': 16}. Best is trial 42 with value: 0.9811567481719484.\n",
            "[I 2024-07-24 16:11:35,004] Trial 72 finished with value: 0.9805271124557944 and parameters: {'model_type': 'LGBM', 'boosting_type': 'gbdt', 'lambda_l1': 6.727075990793565e-07, 'lambda_l2': 0.5956337963707299, 'num_leaves': 94, 'feature_fraction': 0.9973149748073442, 'bagging_fraction': 0.9265923925354359, 'bagging_freq': 1, 'min_child_samples': 16}. Best is trial 42 with value: 0.9811567481719484.\n",
            "[I 2024-07-24 16:11:35,936] Trial 73 finished with value: 0.9795647941088167 and parameters: {'model_type': 'LGBM', 'boosting_type': 'gbdt', 'lambda_l1': 1.822577095498556e-08, 'lambda_l2': 0.08582938381516995, 'num_leaves': 80, 'feature_fraction': 0.845735797228675, 'bagging_fraction': 0.8471315433557585, 'bagging_freq': 2, 'min_child_samples': 23}. Best is trial 42 with value: 0.9811567481719484.\n",
            "[I 2024-07-24 16:11:36,636] Trial 74 finished with value: 0.980780563216912 and parameters: {'model_type': 'LGBM', 'boosting_type': 'gbdt', 'lambda_l1': 1.6983094393688616e-07, 'lambda_l2': 0.024845685705981193, 'num_leaves': 87, 'feature_fraction': 0.8937213013373587, 'bagging_fraction': 0.972082309464045, 'bagging_freq': 1, 'min_child_samples': 13}. Best is trial 42 with value: 0.9811567481719484.\n",
            "[I 2024-07-24 16:11:37,465] Trial 75 finished with value: 0.980662662574453 and parameters: {'model_type': 'LGBM', 'boosting_type': 'gbdt', 'lambda_l1': 3.7454144493105925e-06, 'lambda_l2': 0.004034956737901109, 'num_leaves': 61, 'feature_fraction': 0.9122456386154887, 'bagging_fraction': 0.9726301069814483, 'bagging_freq': 3, 'min_child_samples': 13}. Best is trial 42 with value: 0.9811567481719484.\n",
            "[I 2024-07-24 16:11:38,345] Trial 76 finished with value: 0.980697372985036 and parameters: {'model_type': 'LGBM', 'boosting_type': 'gbdt', 'lambda_l1': 2.801396044823983e-07, 'lambda_l2': 0.01637438081572812, 'num_leaves': 87, 'feature_fraction': 0.9559283904424557, 'bagging_fraction': 0.8714064856347807, 'bagging_freq': 2, 'min_child_samples': 7}. Best is trial 42 with value: 0.9811567481719484.\n",
            "[I 2024-07-24 16:11:39,068] Trial 77 finished with value: 0.9806255868945449 and parameters: {'model_type': 'LGBM', 'boosting_type': 'gbdt', 'lambda_l1': 2.22245130348734e-08, 'lambda_l2': 0.03370848454384526, 'num_leaves': 74, 'feature_fraction': 0.8180344796540144, 'bagging_fraction': 0.9585945737354974, 'bagging_freq': 1, 'min_child_samples': 19}. Best is trial 42 with value: 0.9811567481719484.\n",
            "[I 2024-07-24 16:11:39,885] Trial 78 finished with value: 0.9802969237452316 and parameters: {'model_type': 'LGBM', 'boosting_type': 'gbdt', 'lambda_l1': 1.8838052321053487e-05, 'lambda_l2': 0.000577760615898555, 'num_leaves': 53, 'feature_fraction': 0.714772560642888, 'bagging_fraction': 0.8180839297929993, 'bagging_freq': 1, 'min_child_samples': 13}. Best is trial 42 with value: 0.9811567481719484.\n",
            "[I 2024-07-24 16:11:39,966] Trial 79 finished with value: 0.9197154378234808 and parameters: {'model_type': 'LinReg'}. Best is trial 42 with value: 0.9811567481719484.\n",
            "[I 2024-07-24 16:11:42,955] Trial 80 finished with value: 0.9528746175196989 and parameters: {'model_type': 'LGBM', 'boosting_type': 'dart', 'lambda_l1': 1.1067831427118183e-06, 'lambda_l2': 4.016080247196573, 'num_leaves': 69, 'feature_fraction': 0.8747759887088493, 'bagging_fraction': 0.9868387689715151, 'bagging_freq': 2, 'min_child_samples': 51}. Best is trial 42 with value: 0.9811567481719484.\n",
            "[I 2024-07-24 16:11:43,850] Trial 81 finished with value: 0.9806872658559074 and parameters: {'model_type': 'LGBM', 'boosting_type': 'gbdt', 'lambda_l1': 2.689888271758145e-07, 'lambda_l2': 0.01755963158178214, 'num_leaves': 82, 'feature_fraction': 0.9566281633572438, 'bagging_fraction': 0.8822168332420601, 'bagging_freq': 2, 'min_child_samples': 8}. Best is trial 42 with value: 0.9811567481719484.\n",
            "[I 2024-07-24 16:11:44,759] Trial 82 finished with value: 0.9809976359019634 and parameters: {'model_type': 'LGBM', 'boosting_type': 'gbdt', 'lambda_l1': 6.313709690461486e-08, 'lambda_l2': 0.0040944974884896, 'num_leaves': 94, 'feature_fraction': 0.9203647535012672, 'bagging_fraction': 0.8656381333437493, 'bagging_freq': 3, 'min_child_samples': 8}. Best is trial 42 with value: 0.9811567481719484.\n",
            "[I 2024-07-24 16:11:45,775] Trial 83 finished with value: 0.9806956215633429 and parameters: {'model_type': 'LGBM', 'boosting_type': 'gbdt', 'lambda_l1': 5.952436945336865e-08, 'lambda_l2': 0.0031844476570601784, 'num_leaves': 122, 'feature_fraction': 0.9245357079863951, 'bagging_fraction': 0.8384729691412739, 'bagging_freq': 5, 'min_child_samples': 8}. Best is trial 42 with value: 0.9811567481719484.\n",
            "[I 2024-07-24 16:11:47,033] Trial 84 finished with value: 0.9809693971963785 and parameters: {'model_type': 'LGBM', 'boosting_type': 'gbdt', 'lambda_l1': 4.596489926628628e-08, 'lambda_l2': 0.00014093046042741212, 'num_leaves': 98, 'feature_fraction': 0.8899649972563632, 'bagging_fraction': 0.9374355063258145, 'bagging_freq': 3, 'min_child_samples': 5}. Best is trial 42 with value: 0.9811567481719484.\n",
            "[I 2024-07-24 16:11:48,364] Trial 85 finished with value: 0.9807683739306753 and parameters: {'model_type': 'LGBM', 'boosting_type': 'gbdt', 'lambda_l1': 1.4387398678225974e-07, 'lambda_l2': 0.0004734868233885607, 'num_leaves': 105, 'feature_fraction': 0.8940863649723524, 'bagging_fraction': 0.7963353236943493, 'bagging_freq': 3, 'min_child_samples': 5}. Best is trial 42 with value: 0.9811567481719484.\n",
            "[I 2024-07-24 16:11:49,641] Trial 86 finished with value: 0.9806240419023237 and parameters: {'model_type': 'LGBM', 'boosting_type': 'gbdt', 'lambda_l1': 1.5527076888736034e-07, 'lambda_l2': 0.0007221866973180966, 'num_leaves': 108, 'feature_fraction': 0.8986613726066954, 'bagging_fraction': 0.8150269700086604, 'bagging_freq': 3, 'min_child_samples': 5}. Best is trial 42 with value: 0.9811567481719484.\n",
            "[I 2024-07-24 16:11:50,479] Trial 87 finished with value: 0.9806182103189375 and parameters: {'model_type': 'LGBM', 'boosting_type': 'gbdt', 'lambda_l1': 5.175592056611589e-07, 'lambda_l2': 5.271798277563001e-05, 'num_leaves': 98, 'feature_fraction': 0.6169346259462174, 'bagging_fraction': 0.7916576728354753, 'bagging_freq': 3, 'min_child_samples': 5}. Best is trial 42 with value: 0.9811567481719484.\n",
            "[I 2024-07-24 16:11:50,571] Trial 88 finished with value: 0.908580921271004 and parameters: {'model_type': 'DT', 'max_depth': 5, 'min_samples_leaf': 100}. Best is trial 42 with value: 0.9811567481719484.\n",
            "[I 2024-07-24 16:11:51,563] Trial 89 finished with value: 0.9804553273743911 and parameters: {'model_type': 'LGBM', 'boosting_type': 'gbdt', 'lambda_l1': 3.4535161150880245e-08, 'lambda_l2': 0.00012563574097427155, 'num_leaves': 131, 'feature_fraction': 0.7552353113127783, 'bagging_fraction': 0.7424474983290515, 'bagging_freq': 3, 'min_child_samples': 8}. Best is trial 42 with value: 0.9811567481719484.\n",
            "[I 2024-07-24 16:11:52,463] Trial 90 finished with value: 0.9792579487563091 and parameters: {'model_type': 'LGBM', 'boosting_type': 'gbdt', 'lambda_l1': 2.9209501707822772e-06, 'lambda_l2': 0.00011015080438478532, 'num_leaves': 87, 'feature_fraction': 0.49347933016615814, 'bagging_fraction': 0.8620839289260246, 'bagging_freq': 4, 'min_child_samples': 14}. Best is trial 42 with value: 0.9811567481719484.\n",
            "[I 2024-07-24 16:11:54,063] Trial 91 finished with value: 0.9806959229095267 and parameters: {'model_type': 'LGBM', 'boosting_type': 'gbdt', 'lambda_l1': 6.003053634142246e-08, 'lambda_l2': 0.0002763124835762259, 'num_leaves': 116, 'feature_fraction': 0.932502997903709, 'bagging_fraction': 0.9392995517747054, 'bagging_freq': 3, 'min_child_samples': 10}. Best is trial 42 with value: 0.9811567481719484.\n",
            "[I 2024-07-24 16:11:55,489] Trial 92 finished with value: 0.9807031088619174 and parameters: {'model_type': 'LGBM', 'boosting_type': 'gbdt', 'lambda_l1': 1.1128201493766682e-07, 'lambda_l2': 0.004688104343810684, 'num_leaves': 97, 'feature_fraction': 0.9075352437256873, 'bagging_fraction': 0.901986626469232, 'bagging_freq': 3, 'min_child_samples': 11}. Best is trial 42 with value: 0.9811567481719484.\n",
            "[I 2024-07-24 16:11:56,264] Trial 93 finished with value: 0.9803428490063637 and parameters: {'model_type': 'LGBM', 'boosting_type': 'gbdt', 'lambda_l1': 2.0839692061708347e-07, 'lambda_l2': 0.0025219803206911226, 'num_leaves': 56, 'feature_fraction': 0.8845145307416111, 'bagging_fraction': 0.8273133823353848, 'bagging_freq': 4, 'min_child_samples': 5}. Best is trial 42 with value: 0.9811567481719484.\n",
            "[I 2024-07-24 16:11:57,148] Trial 94 finished with value: 0.9801855039863012 and parameters: {'model_type': 'LGBM', 'boosting_type': 'gbdt', 'lambda_l1': 1.863268604123425e-08, 'lambda_l2': 5.243014385340205e-05, 'num_leaves': 91, 'feature_fraction': 0.8448622390100192, 'bagging_fraction': 0.7117308386730258, 'bagging_freq': 3, 'min_child_samples': 14}. Best is trial 42 with value: 0.9811567481719484.\n",
            "[I 2024-07-24 16:11:58,191] Trial 95 finished with value: 0.9806267860562536 and parameters: {'model_type': 'LGBM', 'boosting_type': 'gbdt', 'lambda_l1': 4.749209176501294e-08, 'lambda_l2': 0.0009400992790086463, 'num_leaves': 103, 'feature_fraction': 0.8573438222556631, 'bagging_fraction': 0.9776922843964171, 'bagging_freq': 3, 'min_child_samples': 18}. Best is trial 42 with value: 0.9811567481719484.\n",
            "[I 2024-07-24 16:11:59,486] Trial 96 finished with value: 0.9786824803914475 and parameters: {'model_type': 'LGBM', 'boosting_type': 'gbdt', 'lambda_l1': 1.1566196802679052e-06, 'lambda_l2': 0.010688139501195824, 'num_leaves': 127, 'feature_fraction': 0.7971580940176689, 'bagging_fraction': 0.8038965322596588, 'bagging_freq': 4, 'min_child_samples': 67}. Best is trial 42 with value: 0.9811567481719484.\n",
            "[I 2024-07-24 16:12:00,469] Trial 97 finished with value: 0.9809959626393153 and parameters: {'model_type': 'LGBM', 'boosting_type': 'gbdt', 'lambda_l1': 3.667939701446459e-07, 'lambda_l2': 1.740917663948684e-05, 'num_leaves': 106, 'feature_fraction': 0.9099546949193871, 'bagging_fraction': 0.857270042570563, 'bagging_freq': 2, 'min_child_samples': 8}. Best is trial 42 with value: 0.9811567481719484.\n",
            "[I 2024-07-24 16:12:00,517] Trial 98 finished with value: 0.9197154378234808 and parameters: {'model_type': 'LinReg'}. Best is trial 42 with value: 0.9811567481719484.\n",
            "[I 2024-07-24 16:12:02,870] Trial 99 finished with value: 0.9598380385673112 and parameters: {'model_type': 'LGBM', 'boosting_type': 'dart', 'lambda_l1': 4.581564328280023e-07, 'lambda_l2': 0.0004301986700109625, 'num_leaves': 110, 'feature_fraction': 0.9438194537915329, 'bagging_fraction': 0.8587545455378598, 'bagging_freq': 2, 'min_child_samples': 8}. Best is trial 42 with value: 0.9811567481719484.\n"
          ]
        }
      ]
    },
    {
      "cell_type": "code",
      "source": [
        "study.best_value"
      ],
      "metadata": {
        "colab": {
          "base_uri": "https://localhost:8080/"
        },
        "id": "-TSu44uBlyzg",
        "outputId": "5825dccf-5d20-4a3b-f09c-7ea56091c908"
      },
      "execution_count": 54,
      "outputs": [
        {
          "output_type": "execute_result",
          "data": {
            "text/plain": [
              "0.9811567481719484"
            ]
          },
          "metadata": {},
          "execution_count": 54
        }
      ]
    },
    {
      "cell_type": "code",
      "source": [
        "study.best_params"
      ],
      "metadata": {
        "colab": {
          "base_uri": "https://localhost:8080/"
        },
        "id": "nxXhax4kl72G",
        "outputId": "51020eb5-84ee-4cf7-af96-725e419beaee"
      },
      "execution_count": 55,
      "outputs": [
        {
          "output_type": "execute_result",
          "data": {
            "text/plain": [
              "{'model_type': 'LGBM',\n",
              " 'boosting_type': 'gbdt',\n",
              " 'lambda_l1': 1.3478784471618824e-07,\n",
              " 'lambda_l2': 0.002112933696071532,\n",
              " 'num_leaves': 108,\n",
              " 'feature_fraction': 0.8912449133791219,\n",
              " 'bagging_fraction': 0.8820872723039076,\n",
              " 'bagging_freq': 3,\n",
              " 'min_child_samples': 5}"
            ]
          },
          "metadata": {},
          "execution_count": 55
        }
      ]
    },
    {
      "cell_type": "code",
      "source": [
        "\n"
      ],
      "metadata": {
        "id": "N9SP9zvNPSP-"
      },
      "execution_count": 58,
      "outputs": []
    },
    {
      "cell_type": "code",
      "source": [
        "def objective(trial):\n",
        "  \"\"\"\n",
        "  Функція objective для Optuna, яка навчає модель LightGBMRegressor\n",
        "  на тренувальному наборі даних та оцінює її на тестовому наборі.\n",
        "\n",
        "  Args:\n",
        "      trial (optuna.Trial): Об'єкт Optuna, що представляє один набір гіперпараметрів.\n",
        "\n",
        "  Returns:\n",
        "      float: Значення метрики оцінки (R2).\n",
        "  \"\"\"\n",
        "\n",
        "  # 1. Визначення гіперпараметрів:\n",
        "\n",
        "  params = {\n",
        "        \"objective\": \"mse\",\n",
        "        \"verbosity\": -1,\n",
        "        \"n_estimators\": 30,\n",
        "        \"boosting_type\": trial.suggest_categorical(\"boosting_type\", [\"gbdt\", \"dart\"]),\n",
        "        'learning_rate': trial.suggest_float('learning_rate', 1e-8, 1.0, log=True),\n",
        "        \"lambda_l1\": trial.suggest_float(\"lambda_l1\", 1e-8, 10.0, log=True),\n",
        "        \"lambda_l2\": trial.suggest_float(\"lambda_l2\", 1e-8, 10.0, log=True),\n",
        "        \"num_leaves\": trial.suggest_int(\"num_leaves\", 2, 256),\n",
        "        \"feature_fraction\": trial.suggest_float(\"feature_fraction\", 0.4, 1.0),\n",
        "        \"bagging_fraction\": trial.suggest_float(\"bagging_fraction\", 0.4, 1.0),\n",
        "        \"bagging_freq\": trial.suggest_int(\"bagging_freq\", 1, 7),\n",
        "        \"min_child_samples\": trial.suggest_int(\"min_child_samples\", 5, 100),\n",
        "  }\n",
        "\n",
        "  # 2. Створення моделі LightGBMRegressor:\n",
        "\n",
        "  model = lgb.LGBMRegressor(**params)\n",
        "\n",
        "  # 3. Навчання моделі на тренувальному наборі даних:\n",
        "\n",
        "  model.fit(X_train, y_train)\n",
        "\n",
        "  # 4. Оцінка моделі на тестовому наборі даних:\n",
        "\n",
        "  y_pred = model.predict(X_val)\n",
        "\n",
        "  r2 = metrics.r2_score(y_val, y_pred)\n",
        "  mae = metrics.mean_absolute_error(y_val, y_pred)\n",
        "  rmse = metrics.mean_squared_error(y_val, y_pred) ** 0.5\n",
        "\n",
        "\n",
        "  # 5. Повернення значення метрики:\n",
        "  return r2, mae, rmse"
      ],
      "metadata": {
        "id": "a1Sq0K6FXJ3Z"
      },
      "execution_count": 64,
      "outputs": []
    },
    {
      "cell_type": "code",
      "source": [
        "\n",
        "len(study.best_trials)\n"
      ],
      "metadata": {
        "id": "agS24Mh1W_lV",
        "outputId": "7eefab1c-c1b5-4d34-a2fc-15b04899069c",
        "colab": {
          "base_uri": "https://localhost:8080/"
        }
      },
      "execution_count": 65,
      "outputs": [
        {
          "output_type": "execute_result",
          "data": {
            "text/plain": [
              "1"
            ]
          },
          "metadata": {},
          "execution_count": 65
        }
      ]
    },
    {
      "cell_type": "code",
      "source": [
        "best_params = study.best_trials[0].params"
      ],
      "metadata": {
        "id": "jTB4ZPu7X6Ud"
      },
      "execution_count": 67,
      "outputs": []
    },
    {
      "cell_type": "code",
      "source": [
        "best_params"
      ],
      "metadata": {
        "id": "PULGanH4YPb9",
        "outputId": "a9927c15-ede7-44f1-e5ac-3c820c425dd7",
        "colab": {
          "base_uri": "https://localhost:8080/"
        }
      },
      "execution_count": 68,
      "outputs": [
        {
          "output_type": "execute_result",
          "data": {
            "text/plain": [
              "{'model_type': 'LGBM',\n",
              " 'boosting_type': 'gbdt',\n",
              " 'lambda_l1': 1.3478784471618824e-07,\n",
              " 'lambda_l2': 0.002112933696071532,\n",
              " 'num_leaves': 108,\n",
              " 'feature_fraction': 0.8912449133791219,\n",
              " 'bagging_fraction': 0.8820872723039076,\n",
              " 'bagging_freq': 3,\n",
              " 'min_child_samples': 5}"
            ]
          },
          "metadata": {},
          "execution_count": 68
        }
      ]
    },
    {
      "cell_type": "code",
      "source": [
        "X_train, X_test, y_train, y_test = train_test_split(X, y,\n",
        "                                                    train_size=0.8,\n",
        "                                                    random_state=42)"
      ],
      "metadata": {
        "id": "FAe2kEP7YdTL"
      },
      "execution_count": 69,
      "outputs": []
    },
    {
      "cell_type": "code",
      "source": [
        "X_train = preprocessor.fit_transform(X_train)\n",
        "X_test = preprocessor.transform(X_test)"
      ],
      "metadata": {
        "id": "P2AoT2uVY1ou"
      },
      "execution_count": 70,
      "outputs": []
    },
    {
      "cell_type": "code",
      "source": [
        "from sklearn.model_selection import KFold"
      ],
      "metadata": {
        "id": "bStsJ8ghZKw5"
      },
      "execution_count": 71,
      "outputs": []
    },
    {
      "cell_type": "code",
      "source": [],
      "metadata": {
        "id": "HpBgTbgqZUj5"
      },
      "execution_count": null,
      "outputs": []
    },
    {
      "cell_type": "code",
      "source": [
        "from sklearn.model_selection import KFold\n",
        "\n",
        "\n",
        "def objective(trial):\n",
        "\n",
        "\n",
        "  # 1. Визначення гіперпараметрів:\n",
        "\n",
        "  params = {\n",
        "        \"objective\": \"mse\",\n",
        "        \"verbosity\": -1,\n",
        "        \"n_estimators\": 30,\n",
        "        \"boosting_type\": trial.suggest_categorical(\"boosting_type\", [\"gbdt\", \"dart\"]),\n",
        "        'learning_rate': trial.suggest_float('learning_rate', 1e-8, 1.0, log=True),\n",
        "        \"lambda_l1\": trial.suggest_float(\"lambda_l1\", 1e-8, 10.0, log=True),\n",
        "        \"lambda_l2\": trial.suggest_float(\"lambda_l2\", 1e-8, 10.0, log=True),\n",
        "        \"num_leaves\": trial.suggest_int(\"num_leaves\", 2, 256),\n",
        "        \"feature_fraction\": trial.suggest_float(\"feature_fraction\", 0.4, 1.0),\n",
        "        \"bagging_fraction\": trial.suggest_float(\"bagging_fraction\", 0.4, 1.0),\n",
        "        \"bagging_freq\": trial.suggest_int(\"bagging_freq\", 1, 7),\n",
        "        \"min_child_samples\": trial.suggest_int(\"min_child_samples\", 5, 100),\n",
        "  }\n",
        "\n",
        "  # 2. Створення моделі LightGBMRegressor:\n",
        "\n",
        "  model = lgb.LGBMRegressor(**params)\n",
        "\n",
        "  # 3. Навчання моделі за допомогою крос-валідації:\n",
        "\n",
        "  kf = KFold(n_splits=5, shuffle=True, random_state=42)\n",
        "\n",
        "  r2 = []\n",
        "\n",
        "  for train_index, test_index in kf.split(X_train):\n",
        "    X_train_fold, X_test_fold = X_train.iloc[train_index], X_train.iloc[test_index]\n",
        "    y_train_fold, y_test_fold = y_train.iloc[train_index], y_train.iloc[test_index]\n",
        "\n",
        "    model.fit(X_train_fold, y_train_fold)\n",
        "\n",
        "    # 4. Оцінка моделі на тестовому наборі даних:\n",
        "\n",
        "    y_pred = model.predict(X_test_fold)\n",
        "\n",
        "    r2.append(metrics.r2_score(y_test_fold, y_pred))\n",
        "\n",
        "\n",
        "  # 5. Повернення усередненої метрики:\n",
        "  return np.mean(r2)"
      ],
      "metadata": {
        "id": "xrhmOMfW6h9h"
      },
      "execution_count": 72,
      "outputs": []
    },
    {
      "cell_type": "code",
      "source": [
        "study = optuna.create_study(direction='maximize')\n",
        "study.optimize(objective, n_trials=10)"
      ],
      "metadata": {
        "id": "LN2zgICQZi0h",
        "outputId": "b5d4ba30-e23e-4215-96ac-dd7ddf679583",
        "colab": {
          "base_uri": "https://localhost:8080/"
        }
      },
      "execution_count": 73,
      "outputs": [
        {
          "output_type": "stream",
          "name": "stderr",
          "text": [
            "[I 2024-07-24 16:31:42,769] A new study created in memory with name: no-name-7aa129df-c49f-44d6-85da-3f29f56a3ca3\n",
            "[I 2024-07-24 16:31:46,214] Trial 0 finished with value: 0.18631659592366334 and parameters: {'boosting_type': 'gbdt', 'learning_rate': 0.003701594416914931, 'lambda_l1': 3.749710988187557e-05, 'lambda_l2': 8.596139222366488e-05, 'num_leaves': 86, 'feature_fraction': 0.8119714631636377, 'bagging_fraction': 0.44839538641570686, 'bagging_freq': 7, 'min_child_samples': 52}. Best is trial 0 with value: 0.18631659592366334.\n",
            "[I 2024-07-24 16:31:50,797] Trial 1 finished with value: 0.9696195865598245 and parameters: {'boosting_type': 'gbdt', 'learning_rate': 0.09535534762867087, 'lambda_l1': 0.0032377449600962563, 'lambda_l2': 2.0580808261286393e-08, 'num_leaves': 225, 'feature_fraction': 0.9303515332489266, 'bagging_fraction': 0.5614069254190343, 'bagging_freq': 7, 'min_child_samples': 72}. Best is trial 1 with value: 0.9696195865598245.\n",
            "[I 2024-07-24 16:31:53,174] Trial 2 finished with value: 0.03371559496911023 and parameters: {'boosting_type': 'gbdt', 'learning_rate': 0.0006137043237992153, 'lambda_l1': 1.4594631108506055e-08, 'lambda_l2': 0.009868494893423495, 'num_leaves': 220, 'feature_fraction': 0.862977263978161, 'bagging_fraction': 0.6437162267056356, 'bagging_freq': 7, 'min_child_samples': 61}. Best is trial 1 with value: 0.9696195865598245.\n",
            "[I 2024-07-24 16:31:54,745] Trial 3 finished with value: -0.0001926568608243695 and parameters: {'boosting_type': 'dart', 'learning_rate': 6.424711245879553e-07, 'lambda_l1': 0.5346170232706065, 'lambda_l2': 0.0861899688149886, 'num_leaves': 51, 'feature_fraction': 0.7524020199492159, 'bagging_fraction': 0.5530318800131276, 'bagging_freq': 4, 'min_child_samples': 75}. Best is trial 1 with value: 0.9696195865598245.\n",
            "[I 2024-07-24 16:31:57,025] Trial 4 finished with value: 0.03764441884628629 and parameters: {'boosting_type': 'gbdt', 'learning_rate': 0.000682391652282615, 'lambda_l1': 1.7684527951526403, 'lambda_l2': 0.2763388447241613, 'num_leaves': 90, 'feature_fraction': 0.8382814369891862, 'bagging_fraction': 0.7389230745716877, 'bagging_freq': 6, 'min_child_samples': 39}. Best is trial 1 with value: 0.9696195865598245.\n",
            "[I 2024-07-24 16:31:59,008] Trial 5 finished with value: 2.630418377325139e-05 and parameters: {'boosting_type': 'gbdt', 'learning_rate': 4.542762910662384e-06, 'lambda_l1': 9.768324408147454e-07, 'lambda_l2': 0.011066128433165569, 'num_leaves': 117, 'feature_fraction': 0.47903662312401873, 'bagging_fraction': 0.4631767466852663, 'bagging_freq': 3, 'min_child_samples': 30}. Best is trial 1 with value: 0.9696195865598245.\n",
            "[I 2024-07-24 16:32:00,448] Trial 6 finished with value: 0.9777613506194498 and parameters: {'boosting_type': 'dart', 'learning_rate': 0.28664010473330215, 'lambda_l1': 2.025050877732327e-05, 'lambda_l2': 4.0347813894057385, 'num_leaves': 39, 'feature_fraction': 0.6452415254038207, 'bagging_fraction': 0.5666783237499666, 'bagging_freq': 4, 'min_child_samples': 15}. Best is trial 6 with value: 0.9777613506194498.\n",
            "[I 2024-07-24 16:32:02,828] Trial 7 finished with value: -0.00020181355505688447 and parameters: {'boosting_type': 'gbdt', 'learning_rate': 3.620058952714924e-07, 'lambda_l1': 2.5241309467048434e-05, 'lambda_l2': 0.004103431609425692, 'num_leaves': 228, 'feature_fraction': 0.763908790927194, 'bagging_fraction': 0.6652332384021987, 'bagging_freq': 6, 'min_child_samples': 73}. Best is trial 6 with value: 0.9777613506194498.\n",
            "[I 2024-07-24 16:32:04,394] Trial 8 finished with value: 0.8710161832206527 and parameters: {'boosting_type': 'gbdt', 'learning_rate': 0.04207194653532535, 'lambda_l1': 0.1018315001193631, 'lambda_l2': 0.011328914462750049, 'num_leaves': 92, 'feature_fraction': 0.4382769278711877, 'bagging_fraction': 0.7161156364927269, 'bagging_freq': 4, 'min_child_samples': 18}. Best is trial 6 with value: 0.9777613506194498.\n",
            "[I 2024-07-24 16:32:06,142] Trial 9 finished with value: 0.9803557104466879 and parameters: {'boosting_type': 'gbdt', 'learning_rate': 0.23205663449956637, 'lambda_l1': 3.422301268137363e-05, 'lambda_l2': 0.2713681436651443, 'num_leaves': 86, 'feature_fraction': 0.8335571386121837, 'bagging_fraction': 0.8641631647196062, 'bagging_freq': 4, 'min_child_samples': 11}. Best is trial 9 with value: 0.9803557104466879.\n"
          ]
        }
      ]
    },
    {
      "cell_type": "code",
      "source": [
        "study.best_value"
      ],
      "metadata": {
        "id": "UHaD0DwZaCSw",
        "outputId": "306fbdc9-1fb2-4fc8-b5dd-89eb11cc81d4",
        "colab": {
          "base_uri": "https://localhost:8080/"
        }
      },
      "execution_count": 74,
      "outputs": [
        {
          "output_type": "execute_result",
          "data": {
            "text/plain": [
              "0.9803557104466879"
            ]
          },
          "metadata": {},
          "execution_count": 74
        }
      ]
    }
  ]
}