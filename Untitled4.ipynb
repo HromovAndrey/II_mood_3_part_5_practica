{
  "nbformat": 4,
  "nbformat_minor": 0,
  "metadata": {
    "colab": {
      "provenance": [],
      "authorship_tag": "ABX9TyOFumQnbTXEZ0AX6vGHOWe4",
      "include_colab_link": true
    },
    "kernelspec": {
      "name": "python3",
      "display_name": "Python 3"
    },
    "language_info": {
      "name": "python"
    }
  },
  "cells": [
    {
      "cell_type": "markdown",
      "metadata": {
        "id": "view-in-github",
        "colab_type": "text"
      },
      "source": [
        "<a href=\"https://colab.research.google.com/github/HromovAndrey/II_mood_3_part_5_practica/blob/Practika/Untitled4.ipynb\" target=\"_parent\"><img src=\"https://colab.research.google.com/assets/colab-badge.svg\" alt=\"Open In Colab\"/></a>"
      ]
    },
    {
      "cell_type": "code",
      "execution_count": 75,
      "metadata": {
        "id": "eTAB_NyvoNND"
      },
      "outputs": [],
      "source": [
        "!pip install -q optuna"
      ]
    },
    {
      "cell_type": "code",
      "source": [
        "import pandas as pd\n",
        "import numpy as np\n",
        "import matplotlib.pyplot as plt\n",
        "from sklearn import model_selection, metrics\n",
        "import lightgbm as lgb\n",
        "import optuna\n"
      ],
      "metadata": {
        "id": "2eLrSzjP2PFS"
      },
      "execution_count": 76,
      "outputs": []
    },
    {
      "cell_type": "code",
      "source": [
        "df = pd.read_csv(\"https://raw.githubusercontent.com/HalyshAnton/IT-Step-Pyton-AI/main/module3/data/diamonds2.csv\",\n",
        "                 index_col=0\n",
        "                 )"
      ],
      "metadata": {
        "id": "WZjuAQ2z9f8u"
      },
      "execution_count": 77,
      "outputs": []
    },
    {
      "cell_type": "code",
      "source": [
        "df.head()\n"
      ],
      "metadata": {
        "colab": {
          "base_uri": "https://localhost:8080/",
          "height": 206
        },
        "id": "_Nxg1uef_2XO",
        "outputId": "a962adc2-e1e5-4b20-d8fa-8a3f90e6f8e4"
      },
      "execution_count": 78,
      "outputs": [
        {
          "output_type": "execute_result",
          "data": {
            "text/plain": [
              "   carat      cut color clarity  depth  table  price     x     y     z\n",
              "1   0.23    Ideal     E     SI2   61.5   55.0    326  3.95  3.98  2.43\n",
              "2   0.21  Premium     E     SI1   59.8   61.0    326  3.89  3.84  2.31\n",
              "3   0.23     Good     E     VS1   56.9   65.0    327  4.05  4.07  2.31\n",
              "4   0.29  Premium     I     VS2   62.4   58.0    334  4.20  4.23  2.63\n",
              "5   0.31     Good     J     SI2   63.3   58.0    335  4.34  4.35  2.75"
            ],
            "text/html": [
              "\n",
              "  <div id=\"df-1a9c29c7-4e7e-45fb-91fe-ec31ce429ed5\" class=\"colab-df-container\">\n",
              "    <div>\n",
              "<style scoped>\n",
              "    .dataframe tbody tr th:only-of-type {\n",
              "        vertical-align: middle;\n",
              "    }\n",
              "\n",
              "    .dataframe tbody tr th {\n",
              "        vertical-align: top;\n",
              "    }\n",
              "\n",
              "    .dataframe thead th {\n",
              "        text-align: right;\n",
              "    }\n",
              "</style>\n",
              "<table border=\"1\" class=\"dataframe\">\n",
              "  <thead>\n",
              "    <tr style=\"text-align: right;\">\n",
              "      <th></th>\n",
              "      <th>carat</th>\n",
              "      <th>cut</th>\n",
              "      <th>color</th>\n",
              "      <th>clarity</th>\n",
              "      <th>depth</th>\n",
              "      <th>table</th>\n",
              "      <th>price</th>\n",
              "      <th>x</th>\n",
              "      <th>y</th>\n",
              "      <th>z</th>\n",
              "    </tr>\n",
              "  </thead>\n",
              "  <tbody>\n",
              "    <tr>\n",
              "      <th>1</th>\n",
              "      <td>0.23</td>\n",
              "      <td>Ideal</td>\n",
              "      <td>E</td>\n",
              "      <td>SI2</td>\n",
              "      <td>61.5</td>\n",
              "      <td>55.0</td>\n",
              "      <td>326</td>\n",
              "      <td>3.95</td>\n",
              "      <td>3.98</td>\n",
              "      <td>2.43</td>\n",
              "    </tr>\n",
              "    <tr>\n",
              "      <th>2</th>\n",
              "      <td>0.21</td>\n",
              "      <td>Premium</td>\n",
              "      <td>E</td>\n",
              "      <td>SI1</td>\n",
              "      <td>59.8</td>\n",
              "      <td>61.0</td>\n",
              "      <td>326</td>\n",
              "      <td>3.89</td>\n",
              "      <td>3.84</td>\n",
              "      <td>2.31</td>\n",
              "    </tr>\n",
              "    <tr>\n",
              "      <th>3</th>\n",
              "      <td>0.23</td>\n",
              "      <td>Good</td>\n",
              "      <td>E</td>\n",
              "      <td>VS1</td>\n",
              "      <td>56.9</td>\n",
              "      <td>65.0</td>\n",
              "      <td>327</td>\n",
              "      <td>4.05</td>\n",
              "      <td>4.07</td>\n",
              "      <td>2.31</td>\n",
              "    </tr>\n",
              "    <tr>\n",
              "      <th>4</th>\n",
              "      <td>0.29</td>\n",
              "      <td>Premium</td>\n",
              "      <td>I</td>\n",
              "      <td>VS2</td>\n",
              "      <td>62.4</td>\n",
              "      <td>58.0</td>\n",
              "      <td>334</td>\n",
              "      <td>4.20</td>\n",
              "      <td>4.23</td>\n",
              "      <td>2.63</td>\n",
              "    </tr>\n",
              "    <tr>\n",
              "      <th>5</th>\n",
              "      <td>0.31</td>\n",
              "      <td>Good</td>\n",
              "      <td>J</td>\n",
              "      <td>SI2</td>\n",
              "      <td>63.3</td>\n",
              "      <td>58.0</td>\n",
              "      <td>335</td>\n",
              "      <td>4.34</td>\n",
              "      <td>4.35</td>\n",
              "      <td>2.75</td>\n",
              "    </tr>\n",
              "  </tbody>\n",
              "</table>\n",
              "</div>\n",
              "    <div class=\"colab-df-buttons\">\n",
              "\n",
              "  <div class=\"colab-df-container\">\n",
              "    <button class=\"colab-df-convert\" onclick=\"convertToInteractive('df-1a9c29c7-4e7e-45fb-91fe-ec31ce429ed5')\"\n",
              "            title=\"Convert this dataframe to an interactive table.\"\n",
              "            style=\"display:none;\">\n",
              "\n",
              "  <svg xmlns=\"http://www.w3.org/2000/svg\" height=\"24px\" viewBox=\"0 -960 960 960\">\n",
              "    <path d=\"M120-120v-720h720v720H120Zm60-500h600v-160H180v160Zm220 220h160v-160H400v160Zm0 220h160v-160H400v160ZM180-400h160v-160H180v160Zm440 0h160v-160H620v160ZM180-180h160v-160H180v160Zm440 0h160v-160H620v160Z\"/>\n",
              "  </svg>\n",
              "    </button>\n",
              "\n",
              "  <style>\n",
              "    .colab-df-container {\n",
              "      display:flex;\n",
              "      gap: 12px;\n",
              "    }\n",
              "\n",
              "    .colab-df-convert {\n",
              "      background-color: #E8F0FE;\n",
              "      border: none;\n",
              "      border-radius: 50%;\n",
              "      cursor: pointer;\n",
              "      display: none;\n",
              "      fill: #1967D2;\n",
              "      height: 32px;\n",
              "      padding: 0 0 0 0;\n",
              "      width: 32px;\n",
              "    }\n",
              "\n",
              "    .colab-df-convert:hover {\n",
              "      background-color: #E2EBFA;\n",
              "      box-shadow: 0px 1px 2px rgba(60, 64, 67, 0.3), 0px 1px 3px 1px rgba(60, 64, 67, 0.15);\n",
              "      fill: #174EA6;\n",
              "    }\n",
              "\n",
              "    .colab-df-buttons div {\n",
              "      margin-bottom: 4px;\n",
              "    }\n",
              "\n",
              "    [theme=dark] .colab-df-convert {\n",
              "      background-color: #3B4455;\n",
              "      fill: #D2E3FC;\n",
              "    }\n",
              "\n",
              "    [theme=dark] .colab-df-convert:hover {\n",
              "      background-color: #434B5C;\n",
              "      box-shadow: 0px 1px 3px 1px rgba(0, 0, 0, 0.15);\n",
              "      filter: drop-shadow(0px 1px 2px rgba(0, 0, 0, 0.3));\n",
              "      fill: #FFFFFF;\n",
              "    }\n",
              "  </style>\n",
              "\n",
              "    <script>\n",
              "      const buttonEl =\n",
              "        document.querySelector('#df-1a9c29c7-4e7e-45fb-91fe-ec31ce429ed5 button.colab-df-convert');\n",
              "      buttonEl.style.display =\n",
              "        google.colab.kernel.accessAllowed ? 'block' : 'none';\n",
              "\n",
              "      async function convertToInteractive(key) {\n",
              "        const element = document.querySelector('#df-1a9c29c7-4e7e-45fb-91fe-ec31ce429ed5');\n",
              "        const dataTable =\n",
              "          await google.colab.kernel.invokeFunction('convertToInteractive',\n",
              "                                                    [key], {});\n",
              "        if (!dataTable) return;\n",
              "\n",
              "        const docLinkHtml = 'Like what you see? Visit the ' +\n",
              "          '<a target=\"_blank\" href=https://colab.research.google.com/notebooks/data_table.ipynb>data table notebook</a>'\n",
              "          + ' to learn more about interactive tables.';\n",
              "        element.innerHTML = '';\n",
              "        dataTable['output_type'] = 'display_data';\n",
              "        await google.colab.output.renderOutput(dataTable, element);\n",
              "        const docLink = document.createElement('div');\n",
              "        docLink.innerHTML = docLinkHtml;\n",
              "        element.appendChild(docLink);\n",
              "      }\n",
              "    </script>\n",
              "  </div>\n",
              "\n",
              "\n",
              "<div id=\"df-82a44c2b-ca29-4d31-961b-ebf1a670127a\">\n",
              "  <button class=\"colab-df-quickchart\" onclick=\"quickchart('df-82a44c2b-ca29-4d31-961b-ebf1a670127a')\"\n",
              "            title=\"Suggest charts\"\n",
              "            style=\"display:none;\">\n",
              "\n",
              "<svg xmlns=\"http://www.w3.org/2000/svg\" height=\"24px\"viewBox=\"0 0 24 24\"\n",
              "     width=\"24px\">\n",
              "    <g>\n",
              "        <path d=\"M19 3H5c-1.1 0-2 .9-2 2v14c0 1.1.9 2 2 2h14c1.1 0 2-.9 2-2V5c0-1.1-.9-2-2-2zM9 17H7v-7h2v7zm4 0h-2V7h2v10zm4 0h-2v-4h2v4z\"/>\n",
              "    </g>\n",
              "</svg>\n",
              "  </button>\n",
              "\n",
              "<style>\n",
              "  .colab-df-quickchart {\n",
              "      --bg-color: #E8F0FE;\n",
              "      --fill-color: #1967D2;\n",
              "      --hover-bg-color: #E2EBFA;\n",
              "      --hover-fill-color: #174EA6;\n",
              "      --disabled-fill-color: #AAA;\n",
              "      --disabled-bg-color: #DDD;\n",
              "  }\n",
              "\n",
              "  [theme=dark] .colab-df-quickchart {\n",
              "      --bg-color: #3B4455;\n",
              "      --fill-color: #D2E3FC;\n",
              "      --hover-bg-color: #434B5C;\n",
              "      --hover-fill-color: #FFFFFF;\n",
              "      --disabled-bg-color: #3B4455;\n",
              "      --disabled-fill-color: #666;\n",
              "  }\n",
              "\n",
              "  .colab-df-quickchart {\n",
              "    background-color: var(--bg-color);\n",
              "    border: none;\n",
              "    border-radius: 50%;\n",
              "    cursor: pointer;\n",
              "    display: none;\n",
              "    fill: var(--fill-color);\n",
              "    height: 32px;\n",
              "    padding: 0;\n",
              "    width: 32px;\n",
              "  }\n",
              "\n",
              "  .colab-df-quickchart:hover {\n",
              "    background-color: var(--hover-bg-color);\n",
              "    box-shadow: 0 1px 2px rgba(60, 64, 67, 0.3), 0 1px 3px 1px rgba(60, 64, 67, 0.15);\n",
              "    fill: var(--button-hover-fill-color);\n",
              "  }\n",
              "\n",
              "  .colab-df-quickchart-complete:disabled,\n",
              "  .colab-df-quickchart-complete:disabled:hover {\n",
              "    background-color: var(--disabled-bg-color);\n",
              "    fill: var(--disabled-fill-color);\n",
              "    box-shadow: none;\n",
              "  }\n",
              "\n",
              "  .colab-df-spinner {\n",
              "    border: 2px solid var(--fill-color);\n",
              "    border-color: transparent;\n",
              "    border-bottom-color: var(--fill-color);\n",
              "    animation:\n",
              "      spin 1s steps(1) infinite;\n",
              "  }\n",
              "\n",
              "  @keyframes spin {\n",
              "    0% {\n",
              "      border-color: transparent;\n",
              "      border-bottom-color: var(--fill-color);\n",
              "      border-left-color: var(--fill-color);\n",
              "    }\n",
              "    20% {\n",
              "      border-color: transparent;\n",
              "      border-left-color: var(--fill-color);\n",
              "      border-top-color: var(--fill-color);\n",
              "    }\n",
              "    30% {\n",
              "      border-color: transparent;\n",
              "      border-left-color: var(--fill-color);\n",
              "      border-top-color: var(--fill-color);\n",
              "      border-right-color: var(--fill-color);\n",
              "    }\n",
              "    40% {\n",
              "      border-color: transparent;\n",
              "      border-right-color: var(--fill-color);\n",
              "      border-top-color: var(--fill-color);\n",
              "    }\n",
              "    60% {\n",
              "      border-color: transparent;\n",
              "      border-right-color: var(--fill-color);\n",
              "    }\n",
              "    80% {\n",
              "      border-color: transparent;\n",
              "      border-right-color: var(--fill-color);\n",
              "      border-bottom-color: var(--fill-color);\n",
              "    }\n",
              "    90% {\n",
              "      border-color: transparent;\n",
              "      border-bottom-color: var(--fill-color);\n",
              "    }\n",
              "  }\n",
              "</style>\n",
              "\n",
              "  <script>\n",
              "    async function quickchart(key) {\n",
              "      const quickchartButtonEl =\n",
              "        document.querySelector('#' + key + ' button');\n",
              "      quickchartButtonEl.disabled = true;  // To prevent multiple clicks.\n",
              "      quickchartButtonEl.classList.add('colab-df-spinner');\n",
              "      try {\n",
              "        const charts = await google.colab.kernel.invokeFunction(\n",
              "            'suggestCharts', [key], {});\n",
              "      } catch (error) {\n",
              "        console.error('Error during call to suggestCharts:', error);\n",
              "      }\n",
              "      quickchartButtonEl.classList.remove('colab-df-spinner');\n",
              "      quickchartButtonEl.classList.add('colab-df-quickchart-complete');\n",
              "    }\n",
              "    (() => {\n",
              "      let quickchartButtonEl =\n",
              "        document.querySelector('#df-82a44c2b-ca29-4d31-961b-ebf1a670127a button');\n",
              "      quickchartButtonEl.style.display =\n",
              "        google.colab.kernel.accessAllowed ? 'block' : 'none';\n",
              "    })();\n",
              "  </script>\n",
              "</div>\n",
              "    </div>\n",
              "  </div>\n"
            ],
            "application/vnd.google.colaboratory.intrinsic+json": {
              "type": "dataframe",
              "variable_name": "df",
              "summary": "{\n  \"name\": \"df\",\n  \"rows\": 53943,\n  \"fields\": [\n    {\n      \"column\": \"carat\",\n      \"properties\": {\n        \"dtype\": \"number\",\n        \"std\": 0.4739985530964582,\n        \"min\": 0.2,\n        \"max\": 5.01,\n        \"num_unique_values\": 273,\n        \"samples\": [\n          0.77,\n          1.58,\n          0.65\n        ],\n        \"semantic_type\": \"\",\n        \"description\": \"\"\n      }\n    },\n    {\n      \"column\": \"cut\",\n      \"properties\": {\n        \"dtype\": \"category\",\n        \"num_unique_values\": 5,\n        \"samples\": [\n          \"Premium\",\n          \"Fair\",\n          \"Good\"\n        ],\n        \"semantic_type\": \"\",\n        \"description\": \"\"\n      }\n    },\n    {\n      \"column\": \"color\",\n      \"properties\": {\n        \"dtype\": \"category\",\n        \"num_unique_values\": 7,\n        \"samples\": [\n          \"E\",\n          \"I\",\n          \"G\"\n        ],\n        \"semantic_type\": \"\",\n        \"description\": \"\"\n      }\n    },\n    {\n      \"column\": \"clarity\",\n      \"properties\": {\n        \"dtype\": \"category\",\n        \"num_unique_values\": 8,\n        \"samples\": [\n          \"SI1\",\n          \"VVS1\",\n          \"SI2\"\n        ],\n        \"semantic_type\": \"\",\n        \"description\": \"\"\n      }\n    },\n    {\n      \"column\": \"depth\",\n      \"properties\": {\n        \"dtype\": \"number\",\n        \"std\": 1.4326262660399998,\n        \"min\": 43.0,\n        \"max\": 79.0,\n        \"num_unique_values\": 184,\n        \"samples\": [\n          61.0,\n          62.9,\n          70.2\n        ],\n        \"semantic_type\": \"\",\n        \"description\": \"\"\n      }\n    },\n    {\n      \"column\": \"table\",\n      \"properties\": {\n        \"dtype\": \"number\",\n        \"std\": 2.234548953274335,\n        \"min\": 43.0,\n        \"max\": 95.0,\n        \"num_unique_values\": 127,\n        \"samples\": [\n          54.8,\n          61.5,\n          57.6\n        ],\n        \"semantic_type\": \"\",\n        \"description\": \"\"\n      }\n    },\n    {\n      \"column\": \"price\",\n      \"properties\": {\n        \"dtype\": \"number\",\n        \"std\": 3989,\n        \"min\": 326,\n        \"max\": 18823,\n        \"num_unique_values\": 11602,\n        \"samples\": [\n          16368,\n          895,\n          748\n        ],\n        \"semantic_type\": \"\",\n        \"description\": \"\"\n      }\n    },\n    {\n      \"column\": \"x\",\n      \"properties\": {\n        \"dtype\": \"number\",\n        \"std\": 1.1217295857901242,\n        \"min\": 0.0,\n        \"max\": 10.74,\n        \"num_unique_values\": 554,\n        \"samples\": [\n          5.88,\n          5.69,\n          4.61\n        ],\n        \"semantic_type\": \"\",\n        \"description\": \"\"\n      }\n    },\n    {\n      \"column\": \"y\",\n      \"properties\": {\n        \"dtype\": \"number\",\n        \"std\": 1.14210291928209,\n        \"min\": 0.0,\n        \"max\": 58.9,\n        \"num_unique_values\": 552,\n        \"samples\": [\n          5.33,\n          5.61,\n          5.25\n        ],\n        \"semantic_type\": \"\",\n        \"description\": \"\"\n      }\n    },\n    {\n      \"column\": \"z\",\n      \"properties\": {\n        \"dtype\": \"number\",\n        \"std\": 0.7056794713896667,\n        \"min\": 0.0,\n        \"max\": 31.8,\n        \"num_unique_values\": 375,\n        \"samples\": [\n          3.36,\n          2.45,\n          2.7\n        ],\n        \"semantic_type\": \"\",\n        \"description\": \"\"\n      }\n    }\n  ]\n}"
            }
          },
          "metadata": {},
          "execution_count": 78
        }
      ]
    },
    {
      "cell_type": "code",
      "source": [
        "df['price'].describe()"
      ],
      "metadata": {
        "colab": {
          "base_uri": "https://localhost:8080/"
        },
        "id": "dO6TBU3u_6Cl",
        "outputId": "f0d5b61c-e9e4-470c-c15e-6fc30f3c161f"
      },
      "execution_count": 79,
      "outputs": [
        {
          "output_type": "execute_result",
          "data": {
            "text/plain": [
              "count    53943.000000\n",
              "mean      3932.734294\n",
              "std       3989.338447\n",
              "min        326.000000\n",
              "25%        950.000000\n",
              "50%       2401.000000\n",
              "75%       5324.000000\n",
              "max      18823.000000\n",
              "Name: price, dtype: float64"
            ]
          },
          "metadata": {},
          "execution_count": 79
        }
      ]
    },
    {
      "cell_type": "code",
      "source": [
        "y = df['price']\n",
        "X = df.drop(columns='price')"
      ],
      "metadata": {
        "id": "VBKEtqhzAG80"
      },
      "execution_count": 80,
      "outputs": []
    },
    {
      "cell_type": "code",
      "source": [
        "from sklearn.model_selection import train_test_split\n",
        "X_train, X_test, y_train, y_test = train_test_split(X, y,\n",
        "                                                    train_size=0.8,\n",
        "                                                    random_state=42)\n",
        "X_train, X_val, y_train, y_val = train_test_split(X_train, y_train,\n",
        "                                                  train_size=0.75,\n",
        "                                                  random_state=24)\n",
        "print(f'Train: {X_train.shape[0]} samples \\t {round(X_train.shape[0] / X.shape[0] * 100)}%')\n",
        "print(f'Test:  {X_test.shape[0]} samples \\t {round(X_test.shape[0] / X.shape[0] * 100)}%')\n",
        "print(f'Val:   {X_val.shape[0]} samples \\t {round(X_val.shape[0] / X.shape[0] * 100)}%')\n",
        ""
      ],
      "metadata": {
        "colab": {
          "base_uri": "https://localhost:8080/"
        },
        "id": "w__7kqpFARMM",
        "outputId": "e601787d-4b3c-4bc1-bc69-da93219b8ebf"
      },
      "execution_count": 81,
      "outputs": [
        {
          "output_type": "stream",
          "name": "stdout",
          "text": [
            "Train: 32365 samples \t 60%\n",
            "Test:  10789 samples \t 20%\n",
            "Val:   10789 samples \t 20%\n"
          ]
        }
      ]
    },
    {
      "cell_type": "code",
      "source": [
        "from sklearn.compose import ColumnTransformer\n",
        "from sklearn.pipeline import Pipeline\n",
        "from sklearn.impute import SimpleImputer\n",
        "from sklearn.preprocessing import OneHotEncoder"
      ],
      "metadata": {
        "id": "JaZDbomKBgrB"
      },
      "execution_count": 82,
      "outputs": []
    },
    {
      "cell_type": "code",
      "source": [
        "num_columns = X.select_dtypes(include=\"number\").columns\n",
        "cat_columns = X.select_dtypes(include=\"object\").columns\n",
        "\n",
        "# числові ознаки\n",
        "num_transformer = Pipeline(\n",
        "    steps=[(\"imputer\", SimpleImputer(strategy=\"median\"))]\n",
        "    )\n",
        "\n",
        "# категоріальні ознаки\n",
        "cat_transformer = Pipeline(\n",
        "    steps=[(\"imputer\", SimpleImputer(strategy=\"most_frequent\")),\n",
        "           (\"encoder\", OneHotEncoder(sparse_output=False))])\n",
        "\n",
        "# об'єднання двох pipeline\n",
        "preprocessor = ColumnTransformer(\n",
        "    transformers=[\n",
        "        (\"num\", num_transformer, num_columns),\n",
        "        (\"cat\", cat_transformer, cat_columns),\n",
        "    ]\n",
        ")\n",
        "\n",
        "preprocessor.set_output(transform='pandas')\n",
        "preprocessor"
      ],
      "metadata": {
        "colab": {
          "base_uri": "https://localhost:8080/",
          "height": 153
        },
        "id": "Y7jTiX9OCFf3",
        "outputId": "3951a695-5388-4b4c-bbf5-3752bab34b1e"
      },
      "execution_count": 83,
      "outputs": [
        {
          "output_type": "execute_result",
          "data": {
            "text/plain": [
              "ColumnTransformer(transformers=[('num',\n",
              "                                 Pipeline(steps=[('imputer',\n",
              "                                                  SimpleImputer(strategy='median'))]),\n",
              "                                 Index(['carat', 'depth', 'table', 'x', 'y', 'z'], dtype='object')),\n",
              "                                ('cat',\n",
              "                                 Pipeline(steps=[('imputer',\n",
              "                                                  SimpleImputer(strategy='most_frequent')),\n",
              "                                                 ('encoder',\n",
              "                                                  OneHotEncoder(sparse_output=False))]),\n",
              "                                 Index(['cut', 'color', 'clarity'], dtype='object'))])"
            ],
            "text/html": [
              "<style>#sk-container-id-9 {color: black;background-color: white;}#sk-container-id-9 pre{padding: 0;}#sk-container-id-9 div.sk-toggleable {background-color: white;}#sk-container-id-9 label.sk-toggleable__label {cursor: pointer;display: block;width: 100%;margin-bottom: 0;padding: 0.3em;box-sizing: border-box;text-align: center;}#sk-container-id-9 label.sk-toggleable__label-arrow:before {content: \"▸\";float: left;margin-right: 0.25em;color: #696969;}#sk-container-id-9 label.sk-toggleable__label-arrow:hover:before {color: black;}#sk-container-id-9 div.sk-estimator:hover label.sk-toggleable__label-arrow:before {color: black;}#sk-container-id-9 div.sk-toggleable__content {max-height: 0;max-width: 0;overflow: hidden;text-align: left;background-color: #f0f8ff;}#sk-container-id-9 div.sk-toggleable__content pre {margin: 0.2em;color: black;border-radius: 0.25em;background-color: #f0f8ff;}#sk-container-id-9 input.sk-toggleable__control:checked~div.sk-toggleable__content {max-height: 200px;max-width: 100%;overflow: auto;}#sk-container-id-9 input.sk-toggleable__control:checked~label.sk-toggleable__label-arrow:before {content: \"▾\";}#sk-container-id-9 div.sk-estimator input.sk-toggleable__control:checked~label.sk-toggleable__label {background-color: #d4ebff;}#sk-container-id-9 div.sk-label input.sk-toggleable__control:checked~label.sk-toggleable__label {background-color: #d4ebff;}#sk-container-id-9 input.sk-hidden--visually {border: 0;clip: rect(1px 1px 1px 1px);clip: rect(1px, 1px, 1px, 1px);height: 1px;margin: -1px;overflow: hidden;padding: 0;position: absolute;width: 1px;}#sk-container-id-9 div.sk-estimator {font-family: monospace;background-color: #f0f8ff;border: 1px dotted black;border-radius: 0.25em;box-sizing: border-box;margin-bottom: 0.5em;}#sk-container-id-9 div.sk-estimator:hover {background-color: #d4ebff;}#sk-container-id-9 div.sk-parallel-item::after {content: \"\";width: 100%;border-bottom: 1px solid gray;flex-grow: 1;}#sk-container-id-9 div.sk-label:hover label.sk-toggleable__label {background-color: #d4ebff;}#sk-container-id-9 div.sk-serial::before {content: \"\";position: absolute;border-left: 1px solid gray;box-sizing: border-box;top: 0;bottom: 0;left: 50%;z-index: 0;}#sk-container-id-9 div.sk-serial {display: flex;flex-direction: column;align-items: center;background-color: white;padding-right: 0.2em;padding-left: 0.2em;position: relative;}#sk-container-id-9 div.sk-item {position: relative;z-index: 1;}#sk-container-id-9 div.sk-parallel {display: flex;align-items: stretch;justify-content: center;background-color: white;position: relative;}#sk-container-id-9 div.sk-item::before, #sk-container-id-9 div.sk-parallel-item::before {content: \"\";position: absolute;border-left: 1px solid gray;box-sizing: border-box;top: 0;bottom: 0;left: 50%;z-index: -1;}#sk-container-id-9 div.sk-parallel-item {display: flex;flex-direction: column;z-index: 1;position: relative;background-color: white;}#sk-container-id-9 div.sk-parallel-item:first-child::after {align-self: flex-end;width: 50%;}#sk-container-id-9 div.sk-parallel-item:last-child::after {align-self: flex-start;width: 50%;}#sk-container-id-9 div.sk-parallel-item:only-child::after {width: 0;}#sk-container-id-9 div.sk-dashed-wrapped {border: 1px dashed gray;margin: 0 0.4em 0.5em 0.4em;box-sizing: border-box;padding-bottom: 0.4em;background-color: white;}#sk-container-id-9 div.sk-label label {font-family: monospace;font-weight: bold;display: inline-block;line-height: 1.2em;}#sk-container-id-9 div.sk-label-container {text-align: center;}#sk-container-id-9 div.sk-container {/* jupyter's `normalize.less` sets `[hidden] { display: none; }` but bootstrap.min.css set `[hidden] { display: none !important; }` so we also need the `!important` here to be able to override the default hidden behavior on the sphinx rendered scikit-learn.org. See: https://github.com/scikit-learn/scikit-learn/issues/21755 */display: inline-block !important;position: relative;}#sk-container-id-9 div.sk-text-repr-fallback {display: none;}</style><div id=\"sk-container-id-9\" class=\"sk-top-container\"><div class=\"sk-text-repr-fallback\"><pre>ColumnTransformer(transformers=[(&#x27;num&#x27;,\n",
              "                                 Pipeline(steps=[(&#x27;imputer&#x27;,\n",
              "                                                  SimpleImputer(strategy=&#x27;median&#x27;))]),\n",
              "                                 Index([&#x27;carat&#x27;, &#x27;depth&#x27;, &#x27;table&#x27;, &#x27;x&#x27;, &#x27;y&#x27;, &#x27;z&#x27;], dtype=&#x27;object&#x27;)),\n",
              "                                (&#x27;cat&#x27;,\n",
              "                                 Pipeline(steps=[(&#x27;imputer&#x27;,\n",
              "                                                  SimpleImputer(strategy=&#x27;most_frequent&#x27;)),\n",
              "                                                 (&#x27;encoder&#x27;,\n",
              "                                                  OneHotEncoder(sparse_output=False))]),\n",
              "                                 Index([&#x27;cut&#x27;, &#x27;color&#x27;, &#x27;clarity&#x27;], dtype=&#x27;object&#x27;))])</pre><b>In a Jupyter environment, please rerun this cell to show the HTML representation or trust the notebook. <br />On GitHub, the HTML representation is unable to render, please try loading this page with nbviewer.org.</b></div><div class=\"sk-container\" hidden><div class=\"sk-item sk-dashed-wrapped\"><div class=\"sk-label-container\"><div class=\"sk-label sk-toggleable\"><input class=\"sk-toggleable__control sk-hidden--visually\" id=\"sk-estimator-id-43\" type=\"checkbox\" ><label for=\"sk-estimator-id-43\" class=\"sk-toggleable__label sk-toggleable__label-arrow\">ColumnTransformer</label><div class=\"sk-toggleable__content\"><pre>ColumnTransformer(transformers=[(&#x27;num&#x27;,\n",
              "                                 Pipeline(steps=[(&#x27;imputer&#x27;,\n",
              "                                                  SimpleImputer(strategy=&#x27;median&#x27;))]),\n",
              "                                 Index([&#x27;carat&#x27;, &#x27;depth&#x27;, &#x27;table&#x27;, &#x27;x&#x27;, &#x27;y&#x27;, &#x27;z&#x27;], dtype=&#x27;object&#x27;)),\n",
              "                                (&#x27;cat&#x27;,\n",
              "                                 Pipeline(steps=[(&#x27;imputer&#x27;,\n",
              "                                                  SimpleImputer(strategy=&#x27;most_frequent&#x27;)),\n",
              "                                                 (&#x27;encoder&#x27;,\n",
              "                                                  OneHotEncoder(sparse_output=False))]),\n",
              "                                 Index([&#x27;cut&#x27;, &#x27;color&#x27;, &#x27;clarity&#x27;], dtype=&#x27;object&#x27;))])</pre></div></div></div><div class=\"sk-parallel\"><div class=\"sk-parallel-item\"><div class=\"sk-item\"><div class=\"sk-label-container\"><div class=\"sk-label sk-toggleable\"><input class=\"sk-toggleable__control sk-hidden--visually\" id=\"sk-estimator-id-44\" type=\"checkbox\" ><label for=\"sk-estimator-id-44\" class=\"sk-toggleable__label sk-toggleable__label-arrow\">num</label><div class=\"sk-toggleable__content\"><pre>Index([&#x27;carat&#x27;, &#x27;depth&#x27;, &#x27;table&#x27;, &#x27;x&#x27;, &#x27;y&#x27;, &#x27;z&#x27;], dtype=&#x27;object&#x27;)</pre></div></div></div><div class=\"sk-serial\"><div class=\"sk-item\"><div class=\"sk-serial\"><div class=\"sk-item\"><div class=\"sk-estimator sk-toggleable\"><input class=\"sk-toggleable__control sk-hidden--visually\" id=\"sk-estimator-id-45\" type=\"checkbox\" ><label for=\"sk-estimator-id-45\" class=\"sk-toggleable__label sk-toggleable__label-arrow\">SimpleImputer</label><div class=\"sk-toggleable__content\"><pre>SimpleImputer(strategy=&#x27;median&#x27;)</pre></div></div></div></div></div></div></div></div><div class=\"sk-parallel-item\"><div class=\"sk-item\"><div class=\"sk-label-container\"><div class=\"sk-label sk-toggleable\"><input class=\"sk-toggleable__control sk-hidden--visually\" id=\"sk-estimator-id-46\" type=\"checkbox\" ><label for=\"sk-estimator-id-46\" class=\"sk-toggleable__label sk-toggleable__label-arrow\">cat</label><div class=\"sk-toggleable__content\"><pre>Index([&#x27;cut&#x27;, &#x27;color&#x27;, &#x27;clarity&#x27;], dtype=&#x27;object&#x27;)</pre></div></div></div><div class=\"sk-serial\"><div class=\"sk-item\"><div class=\"sk-serial\"><div class=\"sk-item\"><div class=\"sk-estimator sk-toggleable\"><input class=\"sk-toggleable__control sk-hidden--visually\" id=\"sk-estimator-id-47\" type=\"checkbox\" ><label for=\"sk-estimator-id-47\" class=\"sk-toggleable__label sk-toggleable__label-arrow\">SimpleImputer</label><div class=\"sk-toggleable__content\"><pre>SimpleImputer(strategy=&#x27;most_frequent&#x27;)</pre></div></div></div><div class=\"sk-item\"><div class=\"sk-estimator sk-toggleable\"><input class=\"sk-toggleable__control sk-hidden--visually\" id=\"sk-estimator-id-48\" type=\"checkbox\" ><label for=\"sk-estimator-id-48\" class=\"sk-toggleable__label sk-toggleable__label-arrow\">OneHotEncoder</label><div class=\"sk-toggleable__content\"><pre>OneHotEncoder(sparse_output=False)</pre></div></div></div></div></div></div></div></div></div></div></div></div>"
            ]
          },
          "metadata": {},
          "execution_count": 83
        }
      ]
    },
    {
      "cell_type": "code",
      "source": [
        "# навчання препроцесора\n",
        "X_train = preprocessor.fit_transform(X_train)\n",
        "\n",
        "# обробка даних\n",
        "X_val = preprocessor.transform(X_val)\n",
        "X_test = preprocessor.transform(X_test)"
      ],
      "metadata": {
        "id": "jcqSxFJnFZoX"
      },
      "execution_count": 84,
      "outputs": []
    },
    {
      "cell_type": "code",
      "source": [
        "from sklearn import metrics\n",
        "def  objective(trial):\n",
        "  # Визначення гіперпараметрів\n",
        "  params = {\n",
        "      'objective': 'mse',\n",
        "      'n_estimator': 30,\n",
        "      'verbose': -1,\n",
        "      'boosting_type': trial.suggest_categorical('boosting_type',['gbdt', 'dart']),\n",
        "      'lambda_l1': trial.suggest_float('lambda_l1', 1e-8, 10.0, log=True),\n",
        "      'lambda_l2': trial.suggest_float('lambda_l2', 1e-8, 10.0, log=True),\n",
        "      'num_leaves': trial.suggest_int('num_leaves', 2, 256),\n",
        "      'feature_fraction': trial.suggest_float('feature_fraction', 0.4, 1.0),\n",
        "      'bagging_fraction': trial.suggest_float('bagging_fraction', 0.4, 1.0),\n",
        "      'bagging_freq':trial.suggest_int('bagging_freq', 1, 7),\n",
        "      'main_child_sample': trial.suggest_int('min_child_sample', 5, 100),\n",
        "  }\n",
        "  #Створення моделі LightGBMRegressor\n",
        "  model = lgb.LGBMRegressor(**params)\n",
        "\n",
        "  #Навчання моделі на тренувальному наборі данних\n",
        "  model.fit(X_train, y_train)\n",
        "\n",
        "  #Оцінка моделі на  тестовому наборі данних\n",
        "  y_pred = model.predict(X_val)\n",
        "  r2 = metrics.r2_score(y_val, y_pred)\n",
        "\n",
        "  # повернення значення метрики\n",
        "  return r2"
      ],
      "metadata": {
        "id": "G60jArd8GgCE"
      },
      "execution_count": 85,
      "outputs": []
    },
    {
      "cell_type": "code",
      "source": [
        "study = optuna.create_study(direction='maximize')\n",
        "study.optimize(objective, n_trials=10)"
      ],
      "metadata": {
        "colab": {
          "base_uri": "https://localhost:8080/"
        },
        "id": "Rp4j9_TzGsf7",
        "outputId": "4b60294d-4d45-47f7-8925-b82e47baf849"
      },
      "execution_count": 86,
      "outputs": [
        {
          "output_type": "stream",
          "name": "stderr",
          "text": [
            "[I 2024-07-21 14:42:25,612] A new study created in memory with name: no-name-ff30d72f-00e7-4c77-b826-94e458e24fd6\n",
            "[I 2024-07-21 14:42:28,334] Trial 0 finished with value: 0.9798776317813382 and parameters: {'boosting_type': 'gbdt', 'lambda_l1': 1.8441252267537075e-07, 'lambda_l2': 0.030736901346960728, 'num_leaves': 225, 'feature_fraction': 0.9368156059648671, 'bagging_fraction': 0.7356633657721239, 'bagging_freq': 5, 'min_child_sample': 35}. Best is trial 0 with value: 0.9798776317813382.\n",
            "[I 2024-07-21 14:42:28,999] Trial 1 finished with value: 0.9760320852039264 and parameters: {'boosting_type': 'gbdt', 'lambda_l1': 0.004518869123047447, 'lambda_l2': 0.00030569024194958386, 'num_leaves': 15, 'feature_fraction': 0.8012135923712876, 'bagging_fraction': 0.4632000018383022, 'bagging_freq': 4, 'min_child_sample': 43}. Best is trial 0 with value: 0.9798776317813382.\n",
            "[I 2024-07-21 14:42:37,092] Trial 2 finished with value: 0.9574730658792598 and parameters: {'boosting_type': 'dart', 'lambda_l1': 6.005497298693722e-08, 'lambda_l2': 0.002844490526751408, 'num_leaves': 243, 'feature_fraction': 0.6667836423995546, 'bagging_fraction': 0.9924320724184887, 'bagging_freq': 5, 'min_child_sample': 26}. Best is trial 0 with value: 0.9798776317813382.\n",
            "[I 2024-07-21 14:42:37,870] Trial 3 finished with value: 0.9722420485169835 and parameters: {'boosting_type': 'gbdt', 'lambda_l1': 2.979361100571584e-06, 'lambda_l2': 0.007547469178137027, 'num_leaves': 8, 'feature_fraction': 0.9223643830956217, 'bagging_fraction': 0.9516834366247628, 'bagging_freq': 1, 'min_child_sample': 55}. Best is trial 0 with value: 0.9798776317813382.\n",
            "[I 2024-07-21 14:42:42,152] Trial 4 finished with value: 0.9562285901954731 and parameters: {'boosting_type': 'dart', 'lambda_l1': 0.08222299904159504, 'lambda_l2': 0.006457048032284453, 'num_leaves': 69, 'feature_fraction': 0.6617329013530633, 'bagging_fraction': 0.9887892102928206, 'bagging_freq': 4, 'min_child_sample': 9}. Best is trial 0 with value: 0.9798776317813382.\n",
            "[I 2024-07-21 14:42:49,222] Trial 5 finished with value: 0.9587881203941666 and parameters: {'boosting_type': 'dart', 'lambda_l1': 0.0001106731494093282, 'lambda_l2': 1.5797644682662744e-05, 'num_leaves': 154, 'feature_fraction': 0.8053686637816638, 'bagging_fraction': 0.7250398829353026, 'bagging_freq': 3, 'min_child_sample': 97}. Best is trial 0 with value: 0.9798776317813382.\n",
            "[I 2024-07-21 14:42:50,919] Trial 6 finished with value: 0.9777077889352269 and parameters: {'boosting_type': 'gbdt', 'lambda_l1': 0.7105762985875748, 'lambda_l2': 1.3075139502203776e-06, 'num_leaves': 242, 'feature_fraction': 0.5387402945811912, 'bagging_fraction': 0.537777398435404, 'bagging_freq': 5, 'min_child_sample': 17}. Best is trial 0 with value: 0.9798776317813382.\n",
            "[I 2024-07-21 14:42:53,420] Trial 7 finished with value: 0.9593424661045858 and parameters: {'boosting_type': 'dart', 'lambda_l1': 0.0043817900353037495, 'lambda_l2': 1.736770664529692e-08, 'num_leaves': 138, 'feature_fraction': 0.9510946154326493, 'bagging_fraction': 0.5615798401342188, 'bagging_freq': 2, 'min_child_sample': 22}. Best is trial 0 with value: 0.9798776317813382.\n",
            "[I 2024-07-21 14:42:56,241] Trial 8 finished with value: 0.9578899108675354 and parameters: {'boosting_type': 'dart', 'lambda_l1': 0.20800765126253842, 'lambda_l2': 0.0009155850895408243, 'num_leaves': 211, 'feature_fraction': 0.8099493157001503, 'bagging_fraction': 0.5216225870509879, 'bagging_freq': 1, 'min_child_sample': 28}. Best is trial 0 with value: 0.9798776317813382.\n",
            "[I 2024-07-21 14:42:57,302] Trial 9 finished with value: 0.9794710513898974 and parameters: {'boosting_type': 'gbdt', 'lambda_l1': 4.877443113745661e-08, 'lambda_l2': 0.3866809299523728, 'num_leaves': 136, 'feature_fraction': 0.6479558293140701, 'bagging_fraction': 0.7382571464821672, 'bagging_freq': 7, 'min_child_sample': 62}. Best is trial 0 with value: 0.9798776317813382.\n"
          ]
        }
      ]
    },
    {
      "cell_type": "code",
      "source": [
        "print(f\"найкраща метрика: {study.best_value}\")"
      ],
      "metadata": {
        "colab": {
          "base_uri": "https://localhost:8080/"
        },
        "id": "dUkq4VmvMi4u",
        "outputId": "1fc9d85b-f953-4478-88cb-0ecd64d11eb3"
      },
      "execution_count": 87,
      "outputs": [
        {
          "output_type": "stream",
          "name": "stdout",
          "text": [
            "найкраща метрика: 0.9798776317813382\n"
          ]
        }
      ]
    },
    {
      "cell_type": "code",
      "source": [
        "best_params = study.best_params\n",
        "model = lgb.LGBMRegressor(**best_params,\n",
        "                          n_estimator = 100,\n",
        "                          verbose=-1)\n",
        "model.fit(X_train, y_train,\n",
        "          eval_set=[(X_test, y_test), (X_train, y_train)],\n",
        "          eval_metric='mae')"
      ],
      "metadata": {
        "colab": {
          "base_uri": "https://localhost:8080/",
          "height": 127
        },
        "id": "b8tes_EHM1Vy",
        "outputId": "ed1c4173-726b-4213-b208-aa3e8bf0af25"
      },
      "execution_count": 88,
      "outputs": [
        {
          "output_type": "execute_result",
          "data": {
            "text/plain": [
              "LGBMRegressor(bagging_fraction=0.7356633657721239, bagging_freq=5,\n",
              "              feature_fraction=0.9368156059648671,\n",
              "              lambda_l1=1.8441252267537075e-07, lambda_l2=0.030736901346960728,\n",
              "              min_child_sample=35, n_estimator=100, num_leaves=225, verbose=-1)"
            ],
            "text/html": [
              "<style>#sk-container-id-10 {color: black;background-color: white;}#sk-container-id-10 pre{padding: 0;}#sk-container-id-10 div.sk-toggleable {background-color: white;}#sk-container-id-10 label.sk-toggleable__label {cursor: pointer;display: block;width: 100%;margin-bottom: 0;padding: 0.3em;box-sizing: border-box;text-align: center;}#sk-container-id-10 label.sk-toggleable__label-arrow:before {content: \"▸\";float: left;margin-right: 0.25em;color: #696969;}#sk-container-id-10 label.sk-toggleable__label-arrow:hover:before {color: black;}#sk-container-id-10 div.sk-estimator:hover label.sk-toggleable__label-arrow:before {color: black;}#sk-container-id-10 div.sk-toggleable__content {max-height: 0;max-width: 0;overflow: hidden;text-align: left;background-color: #f0f8ff;}#sk-container-id-10 div.sk-toggleable__content pre {margin: 0.2em;color: black;border-radius: 0.25em;background-color: #f0f8ff;}#sk-container-id-10 input.sk-toggleable__control:checked~div.sk-toggleable__content {max-height: 200px;max-width: 100%;overflow: auto;}#sk-container-id-10 input.sk-toggleable__control:checked~label.sk-toggleable__label-arrow:before {content: \"▾\";}#sk-container-id-10 div.sk-estimator input.sk-toggleable__control:checked~label.sk-toggleable__label {background-color: #d4ebff;}#sk-container-id-10 div.sk-label input.sk-toggleable__control:checked~label.sk-toggleable__label {background-color: #d4ebff;}#sk-container-id-10 input.sk-hidden--visually {border: 0;clip: rect(1px 1px 1px 1px);clip: rect(1px, 1px, 1px, 1px);height: 1px;margin: -1px;overflow: hidden;padding: 0;position: absolute;width: 1px;}#sk-container-id-10 div.sk-estimator {font-family: monospace;background-color: #f0f8ff;border: 1px dotted black;border-radius: 0.25em;box-sizing: border-box;margin-bottom: 0.5em;}#sk-container-id-10 div.sk-estimator:hover {background-color: #d4ebff;}#sk-container-id-10 div.sk-parallel-item::after {content: \"\";width: 100%;border-bottom: 1px solid gray;flex-grow: 1;}#sk-container-id-10 div.sk-label:hover label.sk-toggleable__label {background-color: #d4ebff;}#sk-container-id-10 div.sk-serial::before {content: \"\";position: absolute;border-left: 1px solid gray;box-sizing: border-box;top: 0;bottom: 0;left: 50%;z-index: 0;}#sk-container-id-10 div.sk-serial {display: flex;flex-direction: column;align-items: center;background-color: white;padding-right: 0.2em;padding-left: 0.2em;position: relative;}#sk-container-id-10 div.sk-item {position: relative;z-index: 1;}#sk-container-id-10 div.sk-parallel {display: flex;align-items: stretch;justify-content: center;background-color: white;position: relative;}#sk-container-id-10 div.sk-item::before, #sk-container-id-10 div.sk-parallel-item::before {content: \"\";position: absolute;border-left: 1px solid gray;box-sizing: border-box;top: 0;bottom: 0;left: 50%;z-index: -1;}#sk-container-id-10 div.sk-parallel-item {display: flex;flex-direction: column;z-index: 1;position: relative;background-color: white;}#sk-container-id-10 div.sk-parallel-item:first-child::after {align-self: flex-end;width: 50%;}#sk-container-id-10 div.sk-parallel-item:last-child::after {align-self: flex-start;width: 50%;}#sk-container-id-10 div.sk-parallel-item:only-child::after {width: 0;}#sk-container-id-10 div.sk-dashed-wrapped {border: 1px dashed gray;margin: 0 0.4em 0.5em 0.4em;box-sizing: border-box;padding-bottom: 0.4em;background-color: white;}#sk-container-id-10 div.sk-label label {font-family: monospace;font-weight: bold;display: inline-block;line-height: 1.2em;}#sk-container-id-10 div.sk-label-container {text-align: center;}#sk-container-id-10 div.sk-container {/* jupyter's `normalize.less` sets `[hidden] { display: none; }` but bootstrap.min.css set `[hidden] { display: none !important; }` so we also need the `!important` here to be able to override the default hidden behavior on the sphinx rendered scikit-learn.org. See: https://github.com/scikit-learn/scikit-learn/issues/21755 */display: inline-block !important;position: relative;}#sk-container-id-10 div.sk-text-repr-fallback {display: none;}</style><div id=\"sk-container-id-10\" class=\"sk-top-container\"><div class=\"sk-text-repr-fallback\"><pre>LGBMRegressor(bagging_fraction=0.7356633657721239, bagging_freq=5,\n",
              "              feature_fraction=0.9368156059648671,\n",
              "              lambda_l1=1.8441252267537075e-07, lambda_l2=0.030736901346960728,\n",
              "              min_child_sample=35, n_estimator=100, num_leaves=225, verbose=-1)</pre><b>In a Jupyter environment, please rerun this cell to show the HTML representation or trust the notebook. <br />On GitHub, the HTML representation is unable to render, please try loading this page with nbviewer.org.</b></div><div class=\"sk-container\" hidden><div class=\"sk-item\"><div class=\"sk-estimator sk-toggleable\"><input class=\"sk-toggleable__control sk-hidden--visually\" id=\"sk-estimator-id-49\" type=\"checkbox\" checked><label for=\"sk-estimator-id-49\" class=\"sk-toggleable__label sk-toggleable__label-arrow\">LGBMRegressor</label><div class=\"sk-toggleable__content\"><pre>LGBMRegressor(bagging_fraction=0.7356633657721239, bagging_freq=5,\n",
              "              feature_fraction=0.9368156059648671,\n",
              "              lambda_l1=1.8441252267537075e-07, lambda_l2=0.030736901346960728,\n",
              "              min_child_sample=35, n_estimator=100, num_leaves=225, verbose=-1)</pre></div></div></div></div></div>"
            ]
          },
          "metadata": {},
          "execution_count": 88
        }
      ]
    },
    {
      "cell_type": "code",
      "source": [
        "def get_metrics(y_true, y_pred, name='model'):\n",
        "  df=pd.DataFrame()\n",
        "  df.loc[\"MAE\", name] = metrics.mean_absolute_error(y_true, y_pred)\n",
        "  df.loc[\"RMSE\", name] = metrics.mean_squared_error(y_true, y_pred) ** 0.5\n",
        "  df.loc[\"R2\", name] = metrics.r2_score(y_true, y_pred)\n",
        "  return df.round(2)"
      ],
      "metadata": {
        "id": "CHN_n2afN_wA"
      },
      "execution_count": 89,
      "outputs": []
    },
    {
      "cell_type": "code",
      "source": [
        "all_metrics = pd.DataFrame()\n",
        "all_metrics[\"train\"] = get_metrics(y_train, model.predict(X_train))\n",
        "all_metrics[\"test\"] = get_metrics(y_test, model.predict(X_test))\n",
        "all_metrics"
      ],
      "metadata": {
        "colab": {
          "base_uri": "https://localhost:8080/",
          "height": 143
        },
        "id": "Ix21CXH2PSd8",
        "outputId": "a91640d5-9f0d-4e82-f036-9dffffbd7e38"
      },
      "execution_count": 90,
      "outputs": [
        {
          "output_type": "execute_result",
          "data": {
            "text/plain": [
              "       train    test\n",
              "MAE   194.19  276.17\n",
              "RMSE  346.76  552.44\n",
              "R2      0.99    0.98"
            ],
            "text/html": [
              "\n",
              "  <div id=\"df-fd29ecd0-294e-43c0-80d5-a520dd9e9260\" class=\"colab-df-container\">\n",
              "    <div>\n",
              "<style scoped>\n",
              "    .dataframe tbody tr th:only-of-type {\n",
              "        vertical-align: middle;\n",
              "    }\n",
              "\n",
              "    .dataframe tbody tr th {\n",
              "        vertical-align: top;\n",
              "    }\n",
              "\n",
              "    .dataframe thead th {\n",
              "        text-align: right;\n",
              "    }\n",
              "</style>\n",
              "<table border=\"1\" class=\"dataframe\">\n",
              "  <thead>\n",
              "    <tr style=\"text-align: right;\">\n",
              "      <th></th>\n",
              "      <th>train</th>\n",
              "      <th>test</th>\n",
              "    </tr>\n",
              "  </thead>\n",
              "  <tbody>\n",
              "    <tr>\n",
              "      <th>MAE</th>\n",
              "      <td>194.19</td>\n",
              "      <td>276.17</td>\n",
              "    </tr>\n",
              "    <tr>\n",
              "      <th>RMSE</th>\n",
              "      <td>346.76</td>\n",
              "      <td>552.44</td>\n",
              "    </tr>\n",
              "    <tr>\n",
              "      <th>R2</th>\n",
              "      <td>0.99</td>\n",
              "      <td>0.98</td>\n",
              "    </tr>\n",
              "  </tbody>\n",
              "</table>\n",
              "</div>\n",
              "    <div class=\"colab-df-buttons\">\n",
              "\n",
              "  <div class=\"colab-df-container\">\n",
              "    <button class=\"colab-df-convert\" onclick=\"convertToInteractive('df-fd29ecd0-294e-43c0-80d5-a520dd9e9260')\"\n",
              "            title=\"Convert this dataframe to an interactive table.\"\n",
              "            style=\"display:none;\">\n",
              "\n",
              "  <svg xmlns=\"http://www.w3.org/2000/svg\" height=\"24px\" viewBox=\"0 -960 960 960\">\n",
              "    <path d=\"M120-120v-720h720v720H120Zm60-500h600v-160H180v160Zm220 220h160v-160H400v160Zm0 220h160v-160H400v160ZM180-400h160v-160H180v160Zm440 0h160v-160H620v160ZM180-180h160v-160H180v160Zm440 0h160v-160H620v160Z\"/>\n",
              "  </svg>\n",
              "    </button>\n",
              "\n",
              "  <style>\n",
              "    .colab-df-container {\n",
              "      display:flex;\n",
              "      gap: 12px;\n",
              "    }\n",
              "\n",
              "    .colab-df-convert {\n",
              "      background-color: #E8F0FE;\n",
              "      border: none;\n",
              "      border-radius: 50%;\n",
              "      cursor: pointer;\n",
              "      display: none;\n",
              "      fill: #1967D2;\n",
              "      height: 32px;\n",
              "      padding: 0 0 0 0;\n",
              "      width: 32px;\n",
              "    }\n",
              "\n",
              "    .colab-df-convert:hover {\n",
              "      background-color: #E2EBFA;\n",
              "      box-shadow: 0px 1px 2px rgba(60, 64, 67, 0.3), 0px 1px 3px 1px rgba(60, 64, 67, 0.15);\n",
              "      fill: #174EA6;\n",
              "    }\n",
              "\n",
              "    .colab-df-buttons div {\n",
              "      margin-bottom: 4px;\n",
              "    }\n",
              "\n",
              "    [theme=dark] .colab-df-convert {\n",
              "      background-color: #3B4455;\n",
              "      fill: #D2E3FC;\n",
              "    }\n",
              "\n",
              "    [theme=dark] .colab-df-convert:hover {\n",
              "      background-color: #434B5C;\n",
              "      box-shadow: 0px 1px 3px 1px rgba(0, 0, 0, 0.15);\n",
              "      filter: drop-shadow(0px 1px 2px rgba(0, 0, 0, 0.3));\n",
              "      fill: #FFFFFF;\n",
              "    }\n",
              "  </style>\n",
              "\n",
              "    <script>\n",
              "      const buttonEl =\n",
              "        document.querySelector('#df-fd29ecd0-294e-43c0-80d5-a520dd9e9260 button.colab-df-convert');\n",
              "      buttonEl.style.display =\n",
              "        google.colab.kernel.accessAllowed ? 'block' : 'none';\n",
              "\n",
              "      async function convertToInteractive(key) {\n",
              "        const element = document.querySelector('#df-fd29ecd0-294e-43c0-80d5-a520dd9e9260');\n",
              "        const dataTable =\n",
              "          await google.colab.kernel.invokeFunction('convertToInteractive',\n",
              "                                                    [key], {});\n",
              "        if (!dataTable) return;\n",
              "\n",
              "        const docLinkHtml = 'Like what you see? Visit the ' +\n",
              "          '<a target=\"_blank\" href=https://colab.research.google.com/notebooks/data_table.ipynb>data table notebook</a>'\n",
              "          + ' to learn more about interactive tables.';\n",
              "        element.innerHTML = '';\n",
              "        dataTable['output_type'] = 'display_data';\n",
              "        await google.colab.output.renderOutput(dataTable, element);\n",
              "        const docLink = document.createElement('div');\n",
              "        docLink.innerHTML = docLinkHtml;\n",
              "        element.appendChild(docLink);\n",
              "      }\n",
              "    </script>\n",
              "  </div>\n",
              "\n",
              "\n",
              "<div id=\"df-38537945-5196-4771-81cf-179f4eaddc48\">\n",
              "  <button class=\"colab-df-quickchart\" onclick=\"quickchart('df-38537945-5196-4771-81cf-179f4eaddc48')\"\n",
              "            title=\"Suggest charts\"\n",
              "            style=\"display:none;\">\n",
              "\n",
              "<svg xmlns=\"http://www.w3.org/2000/svg\" height=\"24px\"viewBox=\"0 0 24 24\"\n",
              "     width=\"24px\">\n",
              "    <g>\n",
              "        <path d=\"M19 3H5c-1.1 0-2 .9-2 2v14c0 1.1.9 2 2 2h14c1.1 0 2-.9 2-2V5c0-1.1-.9-2-2-2zM9 17H7v-7h2v7zm4 0h-2V7h2v10zm4 0h-2v-4h2v4z\"/>\n",
              "    </g>\n",
              "</svg>\n",
              "  </button>\n",
              "\n",
              "<style>\n",
              "  .colab-df-quickchart {\n",
              "      --bg-color: #E8F0FE;\n",
              "      --fill-color: #1967D2;\n",
              "      --hover-bg-color: #E2EBFA;\n",
              "      --hover-fill-color: #174EA6;\n",
              "      --disabled-fill-color: #AAA;\n",
              "      --disabled-bg-color: #DDD;\n",
              "  }\n",
              "\n",
              "  [theme=dark] .colab-df-quickchart {\n",
              "      --bg-color: #3B4455;\n",
              "      --fill-color: #D2E3FC;\n",
              "      --hover-bg-color: #434B5C;\n",
              "      --hover-fill-color: #FFFFFF;\n",
              "      --disabled-bg-color: #3B4455;\n",
              "      --disabled-fill-color: #666;\n",
              "  }\n",
              "\n",
              "  .colab-df-quickchart {\n",
              "    background-color: var(--bg-color);\n",
              "    border: none;\n",
              "    border-radius: 50%;\n",
              "    cursor: pointer;\n",
              "    display: none;\n",
              "    fill: var(--fill-color);\n",
              "    height: 32px;\n",
              "    padding: 0;\n",
              "    width: 32px;\n",
              "  }\n",
              "\n",
              "  .colab-df-quickchart:hover {\n",
              "    background-color: var(--hover-bg-color);\n",
              "    box-shadow: 0 1px 2px rgba(60, 64, 67, 0.3), 0 1px 3px 1px rgba(60, 64, 67, 0.15);\n",
              "    fill: var(--button-hover-fill-color);\n",
              "  }\n",
              "\n",
              "  .colab-df-quickchart-complete:disabled,\n",
              "  .colab-df-quickchart-complete:disabled:hover {\n",
              "    background-color: var(--disabled-bg-color);\n",
              "    fill: var(--disabled-fill-color);\n",
              "    box-shadow: none;\n",
              "  }\n",
              "\n",
              "  .colab-df-spinner {\n",
              "    border: 2px solid var(--fill-color);\n",
              "    border-color: transparent;\n",
              "    border-bottom-color: var(--fill-color);\n",
              "    animation:\n",
              "      spin 1s steps(1) infinite;\n",
              "  }\n",
              "\n",
              "  @keyframes spin {\n",
              "    0% {\n",
              "      border-color: transparent;\n",
              "      border-bottom-color: var(--fill-color);\n",
              "      border-left-color: var(--fill-color);\n",
              "    }\n",
              "    20% {\n",
              "      border-color: transparent;\n",
              "      border-left-color: var(--fill-color);\n",
              "      border-top-color: var(--fill-color);\n",
              "    }\n",
              "    30% {\n",
              "      border-color: transparent;\n",
              "      border-left-color: var(--fill-color);\n",
              "      border-top-color: var(--fill-color);\n",
              "      border-right-color: var(--fill-color);\n",
              "    }\n",
              "    40% {\n",
              "      border-color: transparent;\n",
              "      border-right-color: var(--fill-color);\n",
              "      border-top-color: var(--fill-color);\n",
              "    }\n",
              "    60% {\n",
              "      border-color: transparent;\n",
              "      border-right-color: var(--fill-color);\n",
              "    }\n",
              "    80% {\n",
              "      border-color: transparent;\n",
              "      border-right-color: var(--fill-color);\n",
              "      border-bottom-color: var(--fill-color);\n",
              "    }\n",
              "    90% {\n",
              "      border-color: transparent;\n",
              "      border-bottom-color: var(--fill-color);\n",
              "    }\n",
              "  }\n",
              "</style>\n",
              "\n",
              "  <script>\n",
              "    async function quickchart(key) {\n",
              "      const quickchartButtonEl =\n",
              "        document.querySelector('#' + key + ' button');\n",
              "      quickchartButtonEl.disabled = true;  // To prevent multiple clicks.\n",
              "      quickchartButtonEl.classList.add('colab-df-spinner');\n",
              "      try {\n",
              "        const charts = await google.colab.kernel.invokeFunction(\n",
              "            'suggestCharts', [key], {});\n",
              "      } catch (error) {\n",
              "        console.error('Error during call to suggestCharts:', error);\n",
              "      }\n",
              "      quickchartButtonEl.classList.remove('colab-df-spinner');\n",
              "      quickchartButtonEl.classList.add('colab-df-quickchart-complete');\n",
              "    }\n",
              "    (() => {\n",
              "      let quickchartButtonEl =\n",
              "        document.querySelector('#df-38537945-5196-4771-81cf-179f4eaddc48 button');\n",
              "      quickchartButtonEl.style.display =\n",
              "        google.colab.kernel.accessAllowed ? 'block' : 'none';\n",
              "    })();\n",
              "  </script>\n",
              "</div>\n",
              "    </div>\n",
              "  </div>\n"
            ],
            "application/vnd.google.colaboratory.intrinsic+json": {
              "type": "dataframe",
              "variable_name": "all_metrics",
              "summary": "{\n  \"name\": \"all_metrics\",\n  \"rows\": 3,\n  \"fields\": [\n    {\n      \"column\": \"train\",\n      \"properties\": {\n        \"dtype\": \"number\",\n        \"std\": 173.2823985098698,\n        \"min\": 0.99,\n        \"max\": 346.76,\n        \"num_unique_values\": 3,\n        \"samples\": [\n          194.19,\n          346.76,\n          0.99\n        ],\n        \"semantic_type\": \"\",\n        \"description\": \"\"\n      }\n    },\n    {\n      \"column\": \"test\",\n      \"properties\": {\n        \"dtype\": \"number\",\n        \"std\": 275.73017625932783,\n        \"min\": 0.98,\n        \"max\": 552.44,\n        \"num_unique_values\": 3,\n        \"samples\": [\n          276.17,\n          552.44,\n          0.98\n        ],\n        \"semantic_type\": \"\",\n        \"description\": \"\"\n      }\n    }\n  ]\n}"
            }
          },
          "metadata": {},
          "execution_count": 90
        }
      ]
    },
    {
      "cell_type": "code",
      "source": [
        "optuna.visualization.plot_param_importances(study)"
      ],
      "metadata": {
        "colab": {
          "base_uri": "https://localhost:8080/",
          "height": 542
        },
        "id": "vsAkGQ3mb06w",
        "outputId": "4ed0d60e-099c-4d86-b724-b771dc954f92"
      },
      "execution_count": 91,
      "outputs": [
        {
          "output_type": "display_data",
          "data": {
            "text/html": [
              "<html>\n",
              "<head><meta charset=\"utf-8\" /></head>\n",
              "<body>\n",
              "    <div>            <script src=\"https://cdnjs.cloudflare.com/ajax/libs/mathjax/2.7.5/MathJax.js?config=TeX-AMS-MML_SVG\"></script><script type=\"text/javascript\">if (window.MathJax && window.MathJax.Hub && window.MathJax.Hub.Config) {window.MathJax.Hub.Config({SVG: {font: \"STIX-Web\"}});}</script>                <script type=\"text/javascript\">window.PlotlyConfig = {MathJaxConfig: 'local'};</script>\n",
              "        <script charset=\"utf-8\" src=\"https://cdn.plot.ly/plotly-2.24.1.min.js\"></script>                <div id=\"0c3e4e39-5534-4c65-a5fd-e64b713917df\" class=\"plotly-graph-div\" style=\"height:525px; width:100%;\"></div>            <script type=\"text/javascript\">                                    window.PLOTLYENV=window.PLOTLYENV || {};                                    if (document.getElementById(\"0c3e4e39-5534-4c65-a5fd-e64b713917df\")) {                    Plotly.newPlot(                        \"0c3e4e39-5534-4c65-a5fd-e64b713917df\",                        [{\"cliponaxis\":false,\"hovertemplate\":[\"lambda_l1 (FloatDistribution): 3.1831885915999307e-05\\u003cextra\\u003e\\u003c\\u002fextra\\u003e\",\"feature_fraction (FloatDistribution): 0.0020175862076938704\\u003cextra\\u003e\\u003c\\u002fextra\\u003e\",\"lambda_l2 (FloatDistribution): 0.01612062492084998\\u003cextra\\u003e\\u003c\\u002fextra\\u003e\",\"num_leaves (IntDistribution): 0.034102380268626886\\u003cextra\\u003e\\u003c\\u002fextra\\u003e\",\"bagging_freq (IntDistribution): 0.034710201282479584\\u003cextra\\u003e\\u003c\\u002fextra\\u003e\",\"bagging_fraction (FloatDistribution): 0.03521586318616162\\u003cextra\\u003e\\u003c\\u002fextra\\u003e\",\"min_child_sample (IntDistribution): 0.10713853114341447\\u003cextra\\u003e\\u003c\\u002fextra\\u003e\",\"boosting_type (CategoricalDistribution): 0.7706629811048574\\u003cextra\\u003e\\u003c\\u002fextra\\u003e\"],\"name\":\"Objective Value\",\"orientation\":\"h\",\"text\":[\"\\u003c0.01\",\"\\u003c0.01\",\"0.02\",\"0.03\",\"0.03\",\"0.04\",\"0.11\",\"0.77\"],\"textposition\":\"outside\",\"x\":[3.1831885915999307e-05,0.0020175862076938704,0.01612062492084998,0.034102380268626886,0.034710201282479584,0.03521586318616162,0.10713853114341447,0.7706629811048574],\"y\":[\"lambda_l1\",\"feature_fraction\",\"lambda_l2\",\"num_leaves\",\"bagging_freq\",\"bagging_fraction\",\"min_child_sample\",\"boosting_type\"],\"type\":\"bar\"}],                        {\"title\":{\"text\":\"Hyperparameter Importances\"},\"xaxis\":{\"title\":{\"text\":\"Hyperparameter Importance\"}},\"yaxis\":{\"title\":{\"text\":\"Hyperparameter\"}},\"template\":{\"data\":{\"histogram2dcontour\":[{\"type\":\"histogram2dcontour\",\"colorbar\":{\"outlinewidth\":0,\"ticks\":\"\"},\"colorscale\":[[0.0,\"#0d0887\"],[0.1111111111111111,\"#46039f\"],[0.2222222222222222,\"#7201a8\"],[0.3333333333333333,\"#9c179e\"],[0.4444444444444444,\"#bd3786\"],[0.5555555555555556,\"#d8576b\"],[0.6666666666666666,\"#ed7953\"],[0.7777777777777778,\"#fb9f3a\"],[0.8888888888888888,\"#fdca26\"],[1.0,\"#f0f921\"]]}],\"choropleth\":[{\"type\":\"choropleth\",\"colorbar\":{\"outlinewidth\":0,\"ticks\":\"\"}}],\"histogram2d\":[{\"type\":\"histogram2d\",\"colorbar\":{\"outlinewidth\":0,\"ticks\":\"\"},\"colorscale\":[[0.0,\"#0d0887\"],[0.1111111111111111,\"#46039f\"],[0.2222222222222222,\"#7201a8\"],[0.3333333333333333,\"#9c179e\"],[0.4444444444444444,\"#bd3786\"],[0.5555555555555556,\"#d8576b\"],[0.6666666666666666,\"#ed7953\"],[0.7777777777777778,\"#fb9f3a\"],[0.8888888888888888,\"#fdca26\"],[1.0,\"#f0f921\"]]}],\"heatmap\":[{\"type\":\"heatmap\",\"colorbar\":{\"outlinewidth\":0,\"ticks\":\"\"},\"colorscale\":[[0.0,\"#0d0887\"],[0.1111111111111111,\"#46039f\"],[0.2222222222222222,\"#7201a8\"],[0.3333333333333333,\"#9c179e\"],[0.4444444444444444,\"#bd3786\"],[0.5555555555555556,\"#d8576b\"],[0.6666666666666666,\"#ed7953\"],[0.7777777777777778,\"#fb9f3a\"],[0.8888888888888888,\"#fdca26\"],[1.0,\"#f0f921\"]]}],\"heatmapgl\":[{\"type\":\"heatmapgl\",\"colorbar\":{\"outlinewidth\":0,\"ticks\":\"\"},\"colorscale\":[[0.0,\"#0d0887\"],[0.1111111111111111,\"#46039f\"],[0.2222222222222222,\"#7201a8\"],[0.3333333333333333,\"#9c179e\"],[0.4444444444444444,\"#bd3786\"],[0.5555555555555556,\"#d8576b\"],[0.6666666666666666,\"#ed7953\"],[0.7777777777777778,\"#fb9f3a\"],[0.8888888888888888,\"#fdca26\"],[1.0,\"#f0f921\"]]}],\"contourcarpet\":[{\"type\":\"contourcarpet\",\"colorbar\":{\"outlinewidth\":0,\"ticks\":\"\"}}],\"contour\":[{\"type\":\"contour\",\"colorbar\":{\"outlinewidth\":0,\"ticks\":\"\"},\"colorscale\":[[0.0,\"#0d0887\"],[0.1111111111111111,\"#46039f\"],[0.2222222222222222,\"#7201a8\"],[0.3333333333333333,\"#9c179e\"],[0.4444444444444444,\"#bd3786\"],[0.5555555555555556,\"#d8576b\"],[0.6666666666666666,\"#ed7953\"],[0.7777777777777778,\"#fb9f3a\"],[0.8888888888888888,\"#fdca26\"],[1.0,\"#f0f921\"]]}],\"surface\":[{\"type\":\"surface\",\"colorbar\":{\"outlinewidth\":0,\"ticks\":\"\"},\"colorscale\":[[0.0,\"#0d0887\"],[0.1111111111111111,\"#46039f\"],[0.2222222222222222,\"#7201a8\"],[0.3333333333333333,\"#9c179e\"],[0.4444444444444444,\"#bd3786\"],[0.5555555555555556,\"#d8576b\"],[0.6666666666666666,\"#ed7953\"],[0.7777777777777778,\"#fb9f3a\"],[0.8888888888888888,\"#fdca26\"],[1.0,\"#f0f921\"]]}],\"mesh3d\":[{\"type\":\"mesh3d\",\"colorbar\":{\"outlinewidth\":0,\"ticks\":\"\"}}],\"scatter\":[{\"fillpattern\":{\"fillmode\":\"overlay\",\"size\":10,\"solidity\":0.2},\"type\":\"scatter\"}],\"parcoords\":[{\"type\":\"parcoords\",\"line\":{\"colorbar\":{\"outlinewidth\":0,\"ticks\":\"\"}}}],\"scatterpolargl\":[{\"type\":\"scatterpolargl\",\"marker\":{\"colorbar\":{\"outlinewidth\":0,\"ticks\":\"\"}}}],\"bar\":[{\"error_x\":{\"color\":\"#2a3f5f\"},\"error_y\":{\"color\":\"#2a3f5f\"},\"marker\":{\"line\":{\"color\":\"#E5ECF6\",\"width\":0.5},\"pattern\":{\"fillmode\":\"overlay\",\"size\":10,\"solidity\":0.2}},\"type\":\"bar\"}],\"scattergeo\":[{\"type\":\"scattergeo\",\"marker\":{\"colorbar\":{\"outlinewidth\":0,\"ticks\":\"\"}}}],\"scatterpolar\":[{\"type\":\"scatterpolar\",\"marker\":{\"colorbar\":{\"outlinewidth\":0,\"ticks\":\"\"}}}],\"histogram\":[{\"marker\":{\"pattern\":{\"fillmode\":\"overlay\",\"size\":10,\"solidity\":0.2}},\"type\":\"histogram\"}],\"scattergl\":[{\"type\":\"scattergl\",\"marker\":{\"colorbar\":{\"outlinewidth\":0,\"ticks\":\"\"}}}],\"scatter3d\":[{\"type\":\"scatter3d\",\"line\":{\"colorbar\":{\"outlinewidth\":0,\"ticks\":\"\"}},\"marker\":{\"colorbar\":{\"outlinewidth\":0,\"ticks\":\"\"}}}],\"scattermapbox\":[{\"type\":\"scattermapbox\",\"marker\":{\"colorbar\":{\"outlinewidth\":0,\"ticks\":\"\"}}}],\"scatterternary\":[{\"type\":\"scatterternary\",\"marker\":{\"colorbar\":{\"outlinewidth\":0,\"ticks\":\"\"}}}],\"scattercarpet\":[{\"type\":\"scattercarpet\",\"marker\":{\"colorbar\":{\"outlinewidth\":0,\"ticks\":\"\"}}}],\"carpet\":[{\"aaxis\":{\"endlinecolor\":\"#2a3f5f\",\"gridcolor\":\"white\",\"linecolor\":\"white\",\"minorgridcolor\":\"white\",\"startlinecolor\":\"#2a3f5f\"},\"baxis\":{\"endlinecolor\":\"#2a3f5f\",\"gridcolor\":\"white\",\"linecolor\":\"white\",\"minorgridcolor\":\"white\",\"startlinecolor\":\"#2a3f5f\"},\"type\":\"carpet\"}],\"table\":[{\"cells\":{\"fill\":{\"color\":\"#EBF0F8\"},\"line\":{\"color\":\"white\"}},\"header\":{\"fill\":{\"color\":\"#C8D4E3\"},\"line\":{\"color\":\"white\"}},\"type\":\"table\"}],\"barpolar\":[{\"marker\":{\"line\":{\"color\":\"#E5ECF6\",\"width\":0.5},\"pattern\":{\"fillmode\":\"overlay\",\"size\":10,\"solidity\":0.2}},\"type\":\"barpolar\"}],\"pie\":[{\"automargin\":true,\"type\":\"pie\"}]},\"layout\":{\"autotypenumbers\":\"strict\",\"colorway\":[\"#636efa\",\"#EF553B\",\"#00cc96\",\"#ab63fa\",\"#FFA15A\",\"#19d3f3\",\"#FF6692\",\"#B6E880\",\"#FF97FF\",\"#FECB52\"],\"font\":{\"color\":\"#2a3f5f\"},\"hovermode\":\"closest\",\"hoverlabel\":{\"align\":\"left\"},\"paper_bgcolor\":\"white\",\"plot_bgcolor\":\"#E5ECF6\",\"polar\":{\"bgcolor\":\"#E5ECF6\",\"angularaxis\":{\"gridcolor\":\"white\",\"linecolor\":\"white\",\"ticks\":\"\"},\"radialaxis\":{\"gridcolor\":\"white\",\"linecolor\":\"white\",\"ticks\":\"\"}},\"ternary\":{\"bgcolor\":\"#E5ECF6\",\"aaxis\":{\"gridcolor\":\"white\",\"linecolor\":\"white\",\"ticks\":\"\"},\"baxis\":{\"gridcolor\":\"white\",\"linecolor\":\"white\",\"ticks\":\"\"},\"caxis\":{\"gridcolor\":\"white\",\"linecolor\":\"white\",\"ticks\":\"\"}},\"coloraxis\":{\"colorbar\":{\"outlinewidth\":0,\"ticks\":\"\"}},\"colorscale\":{\"sequential\":[[0.0,\"#0d0887\"],[0.1111111111111111,\"#46039f\"],[0.2222222222222222,\"#7201a8\"],[0.3333333333333333,\"#9c179e\"],[0.4444444444444444,\"#bd3786\"],[0.5555555555555556,\"#d8576b\"],[0.6666666666666666,\"#ed7953\"],[0.7777777777777778,\"#fb9f3a\"],[0.8888888888888888,\"#fdca26\"],[1.0,\"#f0f921\"]],\"sequentialminus\":[[0.0,\"#0d0887\"],[0.1111111111111111,\"#46039f\"],[0.2222222222222222,\"#7201a8\"],[0.3333333333333333,\"#9c179e\"],[0.4444444444444444,\"#bd3786\"],[0.5555555555555556,\"#d8576b\"],[0.6666666666666666,\"#ed7953\"],[0.7777777777777778,\"#fb9f3a\"],[0.8888888888888888,\"#fdca26\"],[1.0,\"#f0f921\"]],\"diverging\":[[0,\"#8e0152\"],[0.1,\"#c51b7d\"],[0.2,\"#de77ae\"],[0.3,\"#f1b6da\"],[0.4,\"#fde0ef\"],[0.5,\"#f7f7f7\"],[0.6,\"#e6f5d0\"],[0.7,\"#b8e186\"],[0.8,\"#7fbc41\"],[0.9,\"#4d9221\"],[1,\"#276419\"]]},\"xaxis\":{\"gridcolor\":\"white\",\"linecolor\":\"white\",\"ticks\":\"\",\"title\":{\"standoff\":15},\"zerolinecolor\":\"white\",\"automargin\":true,\"zerolinewidth\":2},\"yaxis\":{\"gridcolor\":\"white\",\"linecolor\":\"white\",\"ticks\":\"\",\"title\":{\"standoff\":15},\"zerolinecolor\":\"white\",\"automargin\":true,\"zerolinewidth\":2},\"scene\":{\"xaxis\":{\"backgroundcolor\":\"#E5ECF6\",\"gridcolor\":\"white\",\"linecolor\":\"white\",\"showbackground\":true,\"ticks\":\"\",\"zerolinecolor\":\"white\",\"gridwidth\":2},\"yaxis\":{\"backgroundcolor\":\"#E5ECF6\",\"gridcolor\":\"white\",\"linecolor\":\"white\",\"showbackground\":true,\"ticks\":\"\",\"zerolinecolor\":\"white\",\"gridwidth\":2},\"zaxis\":{\"backgroundcolor\":\"#E5ECF6\",\"gridcolor\":\"white\",\"linecolor\":\"white\",\"showbackground\":true,\"ticks\":\"\",\"zerolinecolor\":\"white\",\"gridwidth\":2}},\"shapedefaults\":{\"line\":{\"color\":\"#2a3f5f\"}},\"annotationdefaults\":{\"arrowcolor\":\"#2a3f5f\",\"arrowhead\":0,\"arrowwidth\":1},\"geo\":{\"bgcolor\":\"white\",\"landcolor\":\"#E5ECF6\",\"subunitcolor\":\"white\",\"showland\":true,\"showlakes\":true,\"lakecolor\":\"white\"},\"title\":{\"x\":0.05},\"mapbox\":{\"style\":\"light\"}}}},                        {\"responsive\": true}                    ).then(function(){\n",
              "                            \n",
              "var gd = document.getElementById('0c3e4e39-5534-4c65-a5fd-e64b713917df');\n",
              "var x = new MutationObserver(function (mutations, observer) {{\n",
              "        var display = window.getComputedStyle(gd).display;\n",
              "        if (!display || display === 'none') {{\n",
              "            console.log([gd, 'removed!']);\n",
              "            Plotly.purge(gd);\n",
              "            observer.disconnect();\n",
              "        }}\n",
              "}});\n",
              "\n",
              "// Listen for the removal of the full notebook cells\n",
              "var notebookContainer = gd.closest('#notebook-container');\n",
              "if (notebookContainer) {{\n",
              "    x.observe(notebookContainer, {childList: true});\n",
              "}}\n",
              "\n",
              "// Listen for the clearing of the current output cell\n",
              "var outputEl = gd.closest('.output');\n",
              "if (outputEl) {{\n",
              "    x.observe(outputEl, {childList: true});\n",
              "}}\n",
              "\n",
              "                        })                };                            </script>        </div>\n",
              "</body>\n",
              "</html>"
            ]
          },
          "metadata": {}
        }
      ]
    },
    {
      "cell_type": "code",
      "source": [
        "lgb.plot_importance(model)"
      ],
      "metadata": {
        "colab": {
          "base_uri": "https://localhost:8080/",
          "height": 490
        },
        "id": "DUn1vuntcHgH",
        "outputId": "4242d1c3-0bc4-48ef-af2e-845a72c805e0"
      },
      "execution_count": 92,
      "outputs": [
        {
          "output_type": "execute_result",
          "data": {
            "text/plain": [
              "<Axes: title={'center': 'Feature importance'}, xlabel='Feature importance', ylabel='Features'>"
            ]
          },
          "metadata": {},
          "execution_count": 92
        },
        {
          "output_type": "display_data",
          "data": {
            "text/plain": [
              "<Figure size 640x480 with 1 Axes>"
            ],
            "image/png": "[encoded data removed]"
          },
          "metadata": {}
        }
      ]
    },
    {
      "cell_type": "code",
      "source": [
        "lgb.plot_metric(model,\n",
        "                metric='l1')"
      ],
      "metadata": {
        "colab": {
          "base_uri": "https://localhost:8080/",
          "height": 490
        },
        "id": "9bDQkn1ycTAc",
        "outputId": "62234f0b-e37b-4a6a-851a-5f3f9b7ec7d7"
      },
      "execution_count": 93,
      "outputs": [
        {
          "output_type": "execute_result",
          "data": {
            "text/plain": [
              "<Axes: title={'center': 'Metric during training'}, xlabel='Iterations', ylabel='l1'>"
            ]
          },
          "metadata": {},
          "execution_count": 93
        },
        {
          "output_type": "display_data",
          "data": {
            "text/plain": [
              "<Figure size 640x480 with 1 Axes>"
            ],
            "image/png": "[encoded data removed]"
          },
          "metadata": {}
        }
      ]
    },
    {
      "cell_type": "code",
      "source": [
        "model = Pipeline(\n",
        "    [(\"prep\", preprocessor),\n",
        "     (\"model\", model)\n",
        "     ]\n",
        ")\n",
        "model"
      ],
      "metadata": {
        "colab": {
          "base_uri": "https://localhost:8080/",
          "height": 228
        },
        "id": "RnSlK4vLch-V",
        "outputId": "542ff898-ac1e-4ec0-e81a-e415e8161fc7"
      },
      "execution_count": 94,
      "outputs": [
        {
          "output_type": "execute_result",
          "data": {
            "text/plain": [
              "Pipeline(steps=[('prep',\n",
              "                 ColumnTransformer(transformers=[('num',\n",
              "                                                  Pipeline(steps=[('imputer',\n",
              "                                                                   SimpleImputer(strategy='median'))]),\n",
              "                                                  Index(['carat', 'depth', 'table', 'x', 'y', 'z'], dtype='object')),\n",
              "                                                 ('cat',\n",
              "                                                  Pipeline(steps=[('imputer',\n",
              "                                                                   SimpleImputer(strategy='most_frequent')),\n",
              "                                                                  ('encoder',\n",
              "                                                                   OneHotEncoder(sparse_output=False))]),\n",
              "                                                  Index(['cut', 'color', 'clarity'], dtype='object'))])),\n",
              "                ('model',\n",
              "                 LGBMRegressor(bagging_fraction=0.7356633657721239,\n",
              "                               bagging_freq=5,\n",
              "                               feature_fraction=0.9368156059648671,\n",
              "                               lambda_l1=1.8441252267537075e-07,\n",
              "                               lambda_l2=0.030736901346960728,\n",
              "                               min_child_sample=35, n_estimator=100,\n",
              "                               num_leaves=225, verbose=-1))])"
            ],
            "text/html": [
              "<style>#sk-container-id-11 {color: black;background-color: white;}#sk-container-id-11 pre{padding: 0;}#sk-container-id-11 div.sk-toggleable {background-color: white;}#sk-container-id-11 label.sk-toggleable__label {cursor: pointer;display: block;width: 100%;margin-bottom: 0;padding: 0.3em;box-sizing: border-box;text-align: center;}#sk-container-id-11 label.sk-toggleable__label-arrow:before {content: \"▸\";float: left;margin-right: 0.25em;color: #696969;}#sk-container-id-11 label.sk-toggleable__label-arrow:hover:before {color: black;}#sk-container-id-11 div.sk-estimator:hover label.sk-toggleable__label-arrow:before {color: black;}#sk-container-id-11 div.sk-toggleable__content {max-height: 0;max-width: 0;overflow: hidden;text-align: left;background-color: #f0f8ff;}#sk-container-id-11 div.sk-toggleable__content pre {margin: 0.2em;color: black;border-radius: 0.25em;background-color: #f0f8ff;}#sk-container-id-11 input.sk-toggleable__control:checked~div.sk-toggleable__content {max-height: 200px;max-width: 100%;overflow: auto;}#sk-container-id-11 input.sk-toggleable__control:checked~label.sk-toggleable__label-arrow:before {content: \"▾\";}#sk-container-id-11 div.sk-estimator input.sk-toggleable__control:checked~label.sk-toggleable__label {background-color: #d4ebff;}#sk-container-id-11 div.sk-label input.sk-toggleable__control:checked~label.sk-toggleable__label {background-color: #d4ebff;}#sk-container-id-11 input.sk-hidden--visually {border: 0;clip: rect(1px 1px 1px 1px);clip: rect(1px, 1px, 1px, 1px);height: 1px;margin: -1px;overflow: hidden;padding: 0;position: absolute;width: 1px;}#sk-container-id-11 div.sk-estimator {font-family: monospace;background-color: #f0f8ff;border: 1px dotted black;border-radius: 0.25em;box-sizing: border-box;margin-bottom: 0.5em;}#sk-container-id-11 div.sk-estimator:hover {background-color: #d4ebff;}#sk-container-id-11 div.sk-parallel-item::after {content: \"\";width: 100%;border-bottom: 1px solid gray;flex-grow: 1;}#sk-container-id-11 div.sk-label:hover label.sk-toggleable__label {background-color: #d4ebff;}#sk-container-id-11 div.sk-serial::before {content: \"\";position: absolute;border-left: 1px solid gray;box-sizing: border-box;top: 0;bottom: 0;left: 50%;z-index: 0;}#sk-container-id-11 div.sk-serial {display: flex;flex-direction: column;align-items: center;background-color: white;padding-right: 0.2em;padding-left: 0.2em;position: relative;}#sk-container-id-11 div.sk-item {position: relative;z-index: 1;}#sk-container-id-11 div.sk-parallel {display: flex;align-items: stretch;justify-content: center;background-color: white;position: relative;}#sk-container-id-11 div.sk-item::before, #sk-container-id-11 div.sk-parallel-item::before {content: \"\";position: absolute;border-left: 1px solid gray;box-sizing: border-box;top: 0;bottom: 0;left: 50%;z-index: -1;}#sk-container-id-11 div.sk-parallel-item {display: flex;flex-direction: column;z-index: 1;position: relative;background-color: white;}#sk-container-id-11 div.sk-parallel-item:first-child::after {align-self: flex-end;width: 50%;}#sk-container-id-11 div.sk-parallel-item:last-child::after {align-self: flex-start;width: 50%;}#sk-container-id-11 div.sk-parallel-item:only-child::after {width: 0;}#sk-container-id-11 div.sk-dashed-wrapped {border: 1px dashed gray;margin: 0 0.4em 0.5em 0.4em;box-sizing: border-box;padding-bottom: 0.4em;background-color: white;}#sk-container-id-11 div.sk-label label {font-family: monospace;font-weight: bold;display: inline-block;line-height: 1.2em;}#sk-container-id-11 div.sk-label-container {text-align: center;}#sk-container-id-11 div.sk-container {/* jupyter's `normalize.less` sets `[hidden] { display: none; }` but bootstrap.min.css set `[hidden] { display: none !important; }` so we also need the `!important` here to be able to override the default hidden behavior on the sphinx rendered scikit-learn.org. See: https://github.com/scikit-learn/scikit-learn/issues/21755 */display: inline-block !important;position: relative;}#sk-container-id-11 div.sk-text-repr-fallback {display: none;}</style><div id=\"sk-container-id-11\" class=\"sk-top-container\"><div class=\"sk-text-repr-fallback\"><pre>Pipeline(steps=[(&#x27;prep&#x27;,\n",
              "                 ColumnTransformer(transformers=[(&#x27;num&#x27;,\n",
              "                                                  Pipeline(steps=[(&#x27;imputer&#x27;,\n",
              "                                                                   SimpleImputer(strategy=&#x27;median&#x27;))]),\n",
              "                                                  Index([&#x27;carat&#x27;, &#x27;depth&#x27;, &#x27;table&#x27;, &#x27;x&#x27;, &#x27;y&#x27;, &#x27;z&#x27;], dtype=&#x27;object&#x27;)),\n",
              "                                                 (&#x27;cat&#x27;,\n",
              "                                                  Pipeline(steps=[(&#x27;imputer&#x27;,\n",
              "                                                                   SimpleImputer(strategy=&#x27;most_frequent&#x27;)),\n",
              "                                                                  (&#x27;encoder&#x27;,\n",
              "                                                                   OneHotEncoder(sparse_output=False))]),\n",
              "                                                  Index([&#x27;cut&#x27;, &#x27;color&#x27;, &#x27;clarity&#x27;], dtype=&#x27;object&#x27;))])),\n",
              "                (&#x27;model&#x27;,\n",
              "                 LGBMRegressor(bagging_fraction=0.7356633657721239,\n",
              "                               bagging_freq=5,\n",
              "                               feature_fraction=0.9368156059648671,\n",
              "                               lambda_l1=1.8441252267537075e-07,\n",
              "                               lambda_l2=0.030736901346960728,\n",
              "                               min_child_sample=35, n_estimator=100,\n",
              "                               num_leaves=225, verbose=-1))])</pre><b>In a Jupyter environment, please rerun this cell to show the HTML representation or trust the notebook. <br />On GitHub, the HTML representation is unable to render, please try loading this page with nbviewer.org.</b></div><div class=\"sk-container\" hidden><div class=\"sk-item sk-dashed-wrapped\"><div class=\"sk-label-container\"><div class=\"sk-label sk-toggleable\"><input class=\"sk-toggleable__control sk-hidden--visually\" id=\"sk-estimator-id-50\" type=\"checkbox\" ><label for=\"sk-estimator-id-50\" class=\"sk-toggleable__label sk-toggleable__label-arrow\">Pipeline</label><div class=\"sk-toggleable__content\"><pre>Pipeline(steps=[(&#x27;prep&#x27;,\n",
              "                 ColumnTransformer(transformers=[(&#x27;num&#x27;,\n",
              "                                                  Pipeline(steps=[(&#x27;imputer&#x27;,\n",
              "                                                                   SimpleImputer(strategy=&#x27;median&#x27;))]),\n",
              "                                                  Index([&#x27;carat&#x27;, &#x27;depth&#x27;, &#x27;table&#x27;, &#x27;x&#x27;, &#x27;y&#x27;, &#x27;z&#x27;], dtype=&#x27;object&#x27;)),\n",
              "                                                 (&#x27;cat&#x27;,\n",
              "                                                  Pipeline(steps=[(&#x27;imputer&#x27;,\n",
              "                                                                   SimpleImputer(strategy=&#x27;most_frequent&#x27;)),\n",
              "                                                                  (&#x27;encoder&#x27;,\n",
              "                                                                   OneHotEncoder(sparse_output=False))]),\n",
              "                                                  Index([&#x27;cut&#x27;, &#x27;color&#x27;, &#x27;clarity&#x27;], dtype=&#x27;object&#x27;))])),\n",
              "                (&#x27;model&#x27;,\n",
              "                 LGBMRegressor(bagging_fraction=0.7356633657721239,\n",
              "                               bagging_freq=5,\n",
              "                               feature_fraction=0.9368156059648671,\n",
              "                               lambda_l1=1.8441252267537075e-07,\n",
              "                               lambda_l2=0.030736901346960728,\n",
              "                               min_child_sample=35, n_estimator=100,\n",
              "                               num_leaves=225, verbose=-1))])</pre></div></div></div><div class=\"sk-serial\"><div class=\"sk-item sk-dashed-wrapped\"><div class=\"sk-label-container\"><div class=\"sk-label sk-toggleable\"><input class=\"sk-toggleable__control sk-hidden--visually\" id=\"sk-estimator-id-51\" type=\"checkbox\" ><label for=\"sk-estimator-id-51\" class=\"sk-toggleable__label sk-toggleable__label-arrow\">prep: ColumnTransformer</label><div class=\"sk-toggleable__content\"><pre>ColumnTransformer(transformers=[(&#x27;num&#x27;,\n",
              "                                 Pipeline(steps=[(&#x27;imputer&#x27;,\n",
              "                                                  SimpleImputer(strategy=&#x27;median&#x27;))]),\n",
              "                                 Index([&#x27;carat&#x27;, &#x27;depth&#x27;, &#x27;table&#x27;, &#x27;x&#x27;, &#x27;y&#x27;, &#x27;z&#x27;], dtype=&#x27;object&#x27;)),\n",
              "                                (&#x27;cat&#x27;,\n",
              "                                 Pipeline(steps=[(&#x27;imputer&#x27;,\n",
              "                                                  SimpleImputer(strategy=&#x27;most_frequent&#x27;)),\n",
              "                                                 (&#x27;encoder&#x27;,\n",
              "                                                  OneHotEncoder(sparse_output=False))]),\n",
              "                                 Index([&#x27;cut&#x27;, &#x27;color&#x27;, &#x27;clarity&#x27;], dtype=&#x27;object&#x27;))])</pre></div></div></div><div class=\"sk-parallel\"><div class=\"sk-parallel-item\"><div class=\"sk-item\"><div class=\"sk-label-container\"><div class=\"sk-label sk-toggleable\"><input class=\"sk-toggleable__control sk-hidden--visually\" id=\"sk-estimator-id-52\" type=\"checkbox\" ><label for=\"sk-estimator-id-52\" class=\"sk-toggleable__label sk-toggleable__label-arrow\">num</label><div class=\"sk-toggleable__content\"><pre>Index([&#x27;carat&#x27;, &#x27;depth&#x27;, &#x27;table&#x27;, &#x27;x&#x27;, &#x27;y&#x27;, &#x27;z&#x27;], dtype=&#x27;object&#x27;)</pre></div></div></div><div class=\"sk-serial\"><div class=\"sk-item\"><div class=\"sk-serial\"><div class=\"sk-item\"><div class=\"sk-estimator sk-toggleable\"><input class=\"sk-toggleable__control sk-hidden--visually\" id=\"sk-estimator-id-53\" type=\"checkbox\" ><label for=\"sk-estimator-id-53\" class=\"sk-toggleable__label sk-toggleable__label-arrow\">SimpleImputer</label><div class=\"sk-toggleable__content\"><pre>SimpleImputer(strategy=&#x27;median&#x27;)</pre></div></div></div></div></div></div></div></div><div class=\"sk-parallel-item\"><div class=\"sk-item\"><div class=\"sk-label-container\"><div class=\"sk-label sk-toggleable\"><input class=\"sk-toggleable__control sk-hidden--visually\" id=\"sk-estimator-id-54\" type=\"checkbox\" ><label for=\"sk-estimator-id-54\" class=\"sk-toggleable__label sk-toggleable__label-arrow\">cat</label><div class=\"sk-toggleable__content\"><pre>Index([&#x27;cut&#x27;, &#x27;color&#x27;, &#x27;clarity&#x27;], dtype=&#x27;object&#x27;)</pre></div></div></div><div class=\"sk-serial\"><div class=\"sk-item\"><div class=\"sk-serial\"><div class=\"sk-item\"><div class=\"sk-estimator sk-toggleable\"><input class=\"sk-toggleable__control sk-hidden--visually\" id=\"sk-estimator-id-55\" type=\"checkbox\" ><label for=\"sk-estimator-id-55\" class=\"sk-toggleable__label sk-toggleable__label-arrow\">SimpleImputer</label><div class=\"sk-toggleable__content\"><pre>SimpleImputer(strategy=&#x27;most_frequent&#x27;)</pre></div></div></div><div class=\"sk-item\"><div class=\"sk-estimator sk-toggleable\"><input class=\"sk-toggleable__control sk-hidden--visually\" id=\"sk-estimator-id-56\" type=\"checkbox\" ><label for=\"sk-estimator-id-56\" class=\"sk-toggleable__label sk-toggleable__label-arrow\">OneHotEncoder</label><div class=\"sk-toggleable__content\"><pre>OneHotEncoder(sparse_output=False)</pre></div></div></div></div></div></div></div></div></div></div><div class=\"sk-item\"><div class=\"sk-estimator sk-toggleable\"><input class=\"sk-toggleable__control sk-hidden--visually\" id=\"sk-estimator-id-57\" type=\"checkbox\" ><label for=\"sk-estimator-id-57\" class=\"sk-toggleable__label sk-toggleable__label-arrow\">LGBMRegressor</label><div class=\"sk-toggleable__content\"><pre>LGBMRegressor(bagging_fraction=0.7356633657721239, bagging_freq=5,\n",
              "              feature_fraction=0.9368156059648671,\n",
              "              lambda_l1=1.8441252267537075e-07, lambda_l2=0.030736901346960728,\n",
              "              min_child_sample=35, n_estimator=100, num_leaves=225, verbose=-1)</pre></div></div></div></div></div></div></div>"
            ]
          },
          "metadata": {},
          "execution_count": 94
        }
      ]
    },
    {
      "cell_type": "code",
      "source": [],
      "metadata": {
        "colab": {
          "base_uri": "https://localhost:8080/",
          "height": 596
        },
        "id": "_PB9qtAVjA6N",
        "outputId": "c8a88d52-1a6c-4a05-997b-00a0d3e1458a"
      },
      "execution_count": 97,
      "outputs": [
        {
          "output_type": "error",
          "ename": "ValueError",
          "evalue": "A given column is not a column of the dataframe",
          "traceback": [
            "\u001b[0;31m---------------------------------------------------------------------------\u001b[0m",
            "\u001b[0;31mKeyError\u001b[0m                                  Traceback (most recent call last)",
            "\u001b[0;32m/usr/local/lib/python3.10/dist-packages/pandas/core/indexes/base.py\u001b[0m in \u001b[0;36mget_loc\u001b[0;34m(self, key)\u001b[0m\n\u001b[1;32m   3652\u001b[0m         \u001b[0;32mtry\u001b[0m\u001b[0;34m:\u001b[0m\u001b[0;34m\u001b[0m\u001b[0;34m\u001b[0m\u001b[0m\n\u001b[0;32m-> 3653\u001b[0;31m             \u001b[0;32mreturn\u001b[0m \u001b[0mself\u001b[0m\u001b[0;34m.\u001b[0m\u001b[0m_engine\u001b[0m\u001b[0;34m.\u001b[0m\u001b[0mget_loc\u001b[0m\u001b[0;34m(\u001b[0m\u001b[0mcasted_key\u001b[0m\u001b[0;34m)\u001b[0m\u001b[0;34m\u001b[0m\u001b[0;34m\u001b[0m\u001b[0m\n\u001b[0m\u001b[1;32m   3654\u001b[0m         \u001b[0;32mexcept\u001b[0m \u001b[0mKeyError\u001b[0m \u001b[0;32mas\u001b[0m \u001b[0merr\u001b[0m\u001b[0;34m:\u001b[0m\u001b[0;34m\u001b[0m\u001b[0;34m\u001b[0m\u001b[0m\n",
            "\u001b[0;32m/usr/local/lib/python3.10/dist-packages/pandas/_libs/index.pyx\u001b[0m in \u001b[0;36mpandas._libs.index.IndexEngine.get_loc\u001b[0;34m()\u001b[0m\n",
            "\u001b[0;32m/usr/local/lib/python3.10/dist-packages/pandas/_libs/index.pyx\u001b[0m in \u001b[0;36mpandas._libs.index.IndexEngine.get_loc\u001b[0;34m()\u001b[0m\n",
            "\u001b[0;32mpandas/_libs/hashtable_class_helper.pxi\u001b[0m in \u001b[0;36mpandas._libs.hashtable.PyObjectHashTable.get_item\u001b[0;34m()\u001b[0m\n",
            "\u001b[0;32mpandas/_libs/hashtable_class_helper.pxi\u001b[0m in \u001b[0;36mpandas._libs.hashtable.PyObjectHashTable.get_item\u001b[0;34m()\u001b[0m\n",
            "\u001b[0;31mKeyError\u001b[0m: 'carat'",
            "\nThe above exception was the direct cause of the following exception:\n",
            "\u001b[0;31mKeyError\u001b[0m                                  Traceback (most recent call last)",
            "\u001b[0;32m/usr/local/lib/python3.10/dist-packages/sklearn/utils/__init__.py\u001b[0m in \u001b[0;36m_get_column_indices\u001b[0;34m(X, key)\u001b[0m\n\u001b[1;32m    447\u001b[0m             \u001b[0;32mfor\u001b[0m \u001b[0mcol\u001b[0m \u001b[0;32min\u001b[0m \u001b[0mcolumns\u001b[0m\u001b[0;34m:\u001b[0m\u001b[0;34m\u001b[0m\u001b[0;34m\u001b[0m\u001b[0m\n\u001b[0;32m--> 448\u001b[0;31m                 \u001b[0mcol_idx\u001b[0m \u001b[0;34m=\u001b[0m \u001b[0mall_columns\u001b[0m\u001b[0;34m.\u001b[0m\u001b[0mget_loc\u001b[0m\u001b[0;34m(\u001b[0m\u001b[0mcol\u001b[0m\u001b[0;34m)\u001b[0m\u001b[0;34m\u001b[0m\u001b[0;34m\u001b[0m\u001b[0m\n\u001b[0m\u001b[1;32m    449\u001b[0m                 \u001b[0;32mif\u001b[0m \u001b[0;32mnot\u001b[0m \u001b[0misinstance\u001b[0m\u001b[0;34m(\u001b[0m\u001b[0mcol_idx\u001b[0m\u001b[0;34m,\u001b[0m \u001b[0mnumbers\u001b[0m\u001b[0;34m.\u001b[0m\u001b[0mIntegral\u001b[0m\u001b[0;34m)\u001b[0m\u001b[0;34m:\u001b[0m\u001b[0;34m\u001b[0m\u001b[0;34m\u001b[0m\u001b[0m\n",
            "\u001b[0;32m/usr/local/lib/python3.10/dist-packages/pandas/core/indexes/base.py\u001b[0m in \u001b[0;36mget_loc\u001b[0;34m(self, key)\u001b[0m\n\u001b[1;32m   3654\u001b[0m         \u001b[0;32mexcept\u001b[0m \u001b[0mKeyError\u001b[0m \u001b[0;32mas\u001b[0m \u001b[0merr\u001b[0m\u001b[0;34m:\u001b[0m\u001b[0;34m\u001b[0m\u001b[0;34m\u001b[0m\u001b[0m\n\u001b[0;32m-> 3655\u001b[0;31m             \u001b[0;32mraise\u001b[0m \u001b[0mKeyError\u001b[0m\u001b[0;34m(\u001b[0m\u001b[0mkey\u001b[0m\u001b[0;34m)\u001b[0m \u001b[0;32mfrom\u001b[0m \u001b[0merr\u001b[0m\u001b[0;34m\u001b[0m\u001b[0;34m\u001b[0m\u001b[0m\n\u001b[0m\u001b[1;32m   3656\u001b[0m         \u001b[0;32mexcept\u001b[0m \u001b[0mTypeError\u001b[0m\u001b[0;34m:\u001b[0m\u001b[0;34m\u001b[0m\u001b[0;34m\u001b[0m\u001b[0m\n",
            "\u001b[0;31mKeyError\u001b[0m: 'carat'",
            "\nThe above exception was the direct cause of the following exception:\n",
            "\u001b[0;31mValueError\u001b[0m                                Traceback (most recent call last)",
            "\u001b[0;32m<ipython-input-97-d768f88d541e>\u001b[0m in \u001b[0;36m<cell line: 1>\u001b[0;34m()\u001b[0m\n\u001b[0;32m----> 1\u001b[0;31m \u001b[0mmodel\u001b[0m\u001b[0;34m.\u001b[0m\u001b[0mfit\u001b[0m\u001b[0;34m(\u001b[0m\u001b[0mX_train\u001b[0m\u001b[0;34m,\u001b[0m \u001b[0my_train\u001b[0m\u001b[0;34m)\u001b[0m\u001b[0;34m\u001b[0m\u001b[0;34m\u001b[0m\u001b[0m\n\u001b[0m",
            "\u001b[0;32m/usr/local/lib/python3.10/dist-packages/sklearn/pipeline.py\u001b[0m in \u001b[0;36mfit\u001b[0;34m(self, X, y, **fit_params)\u001b[0m\n\u001b[1;32m    399\u001b[0m         \"\"\"\n\u001b[1;32m    400\u001b[0m         \u001b[0mfit_params_steps\u001b[0m \u001b[0;34m=\u001b[0m \u001b[0mself\u001b[0m\u001b[0;34m.\u001b[0m\u001b[0m_check_fit_params\u001b[0m\u001b[0;34m(\u001b[0m\u001b[0;34m**\u001b[0m\u001b[0mfit_params\u001b[0m\u001b[0;34m)\u001b[0m\u001b[0;34m\u001b[0m\u001b[0;34m\u001b[0m\u001b[0m\n\u001b[0;32m--> 401\u001b[0;31m         \u001b[0mXt\u001b[0m \u001b[0;34m=\u001b[0m \u001b[0mself\u001b[0m\u001b[0;34m.\u001b[0m\u001b[0m_fit\u001b[0m\u001b[0;34m(\u001b[0m\u001b[0mX\u001b[0m\u001b[0;34m,\u001b[0m \u001b[0my\u001b[0m\u001b[0;34m,\u001b[0m \u001b[0;34m**\u001b[0m\u001b[0mfit_params_steps\u001b[0m\u001b[0;34m)\u001b[0m\u001b[0;34m\u001b[0m\u001b[0;34m\u001b[0m\u001b[0m\n\u001b[0m\u001b[1;32m    402\u001b[0m         \u001b[0;32mwith\u001b[0m \u001b[0m_print_elapsed_time\u001b[0m\u001b[0;34m(\u001b[0m\u001b[0;34m\"Pipeline\"\u001b[0m\u001b[0;34m,\u001b[0m \u001b[0mself\u001b[0m\u001b[0;34m.\u001b[0m\u001b[0m_log_message\u001b[0m\u001b[0;34m(\u001b[0m\u001b[0mlen\u001b[0m\u001b[0;34m(\u001b[0m\u001b[0mself\u001b[0m\u001b[0;34m.\u001b[0m\u001b[0msteps\u001b[0m\u001b[0;34m)\u001b[0m \u001b[0;34m-\u001b[0m \u001b[0;36m1\u001b[0m\u001b[0;34m)\u001b[0m\u001b[0;34m)\u001b[0m\u001b[0;34m:\u001b[0m\u001b[0;34m\u001b[0m\u001b[0;34m\u001b[0m\u001b[0m\n\u001b[1;32m    403\u001b[0m             \u001b[0;32mif\u001b[0m \u001b[0mself\u001b[0m\u001b[0;34m.\u001b[0m\u001b[0m_final_estimator\u001b[0m \u001b[0;34m!=\u001b[0m \u001b[0;34m\"passthrough\"\u001b[0m\u001b[0;34m:\u001b[0m\u001b[0;34m\u001b[0m\u001b[0;34m\u001b[0m\u001b[0m\n",
            "\u001b[0;32m/usr/local/lib/python3.10/dist-packages/sklearn/pipeline.py\u001b[0m in \u001b[0;36m_fit\u001b[0;34m(self, X, y, **fit_params_steps)\u001b[0m\n\u001b[1;32m    357\u001b[0m                 \u001b[0mcloned_transformer\u001b[0m \u001b[0;34m=\u001b[0m \u001b[0mclone\u001b[0m\u001b[0;34m(\u001b[0m\u001b[0mtransformer\u001b[0m\u001b[0;34m)\u001b[0m\u001b[0;34m\u001b[0m\u001b[0;34m\u001b[0m\u001b[0m\n\u001b[1;32m    358\u001b[0m             \u001b[0;31m# Fit or load from cache the current transformer\u001b[0m\u001b[0;34m\u001b[0m\u001b[0;34m\u001b[0m\u001b[0m\n\u001b[0;32m--> 359\u001b[0;31m             X, fitted_transformer = fit_transform_one_cached(\n\u001b[0m\u001b[1;32m    360\u001b[0m                 \u001b[0mcloned_transformer\u001b[0m\u001b[0;34m,\u001b[0m\u001b[0;34m\u001b[0m\u001b[0;34m\u001b[0m\u001b[0m\n\u001b[1;32m    361\u001b[0m                 \u001b[0mX\u001b[0m\u001b[0;34m,\u001b[0m\u001b[0;34m\u001b[0m\u001b[0;34m\u001b[0m\u001b[0m\n",
            "\u001b[0;32m/usr/local/lib/python3.10/dist-packages/joblib/memory.py\u001b[0m in \u001b[0;36m__call__\u001b[0;34m(self, *args, **kwargs)\u001b[0m\n\u001b[1;32m    310\u001b[0m \u001b[0;34m\u001b[0m\u001b[0m\n\u001b[1;32m    311\u001b[0m     \u001b[0;32mdef\u001b[0m \u001b[0m__call__\u001b[0m\u001b[0;34m(\u001b[0m\u001b[0mself\u001b[0m\u001b[0;34m,\u001b[0m \u001b[0;34m*\u001b[0m\u001b[0margs\u001b[0m\u001b[0;34m,\u001b[0m \u001b[0;34m**\u001b[0m\u001b[0mkwargs\u001b[0m\u001b[0;34m)\u001b[0m\u001b[0;34m:\u001b[0m\u001b[0;34m\u001b[0m\u001b[0;34m\u001b[0m\u001b[0m\n\u001b[0;32m--> 312\u001b[0;31m         \u001b[0;32mreturn\u001b[0m \u001b[0mself\u001b[0m\u001b[0;34m.\u001b[0m\u001b[0mfunc\u001b[0m\u001b[0;34m(\u001b[0m\u001b[0;34m*\u001b[0m\u001b[0margs\u001b[0m\u001b[0;34m,\u001b[0m \u001b[0;34m**\u001b[0m\u001b[0mkwargs\u001b[0m\u001b[0;34m)\u001b[0m\u001b[0;34m\u001b[0m\u001b[0;34m\u001b[0m\u001b[0m\n\u001b[0m\u001b[1;32m    313\u001b[0m \u001b[0;34m\u001b[0m\u001b[0m\n\u001b[1;32m    314\u001b[0m     \u001b[0;32mdef\u001b[0m \u001b[0mcall_and_shelve\u001b[0m\u001b[0;34m(\u001b[0m\u001b[0mself\u001b[0m\u001b[0;34m,\u001b[0m \u001b[0;34m*\u001b[0m\u001b[0margs\u001b[0m\u001b[0;34m,\u001b[0m \u001b[0;34m**\u001b[0m\u001b[0mkwargs\u001b[0m\u001b[0;34m)\u001b[0m\u001b[0;34m:\u001b[0m\u001b[0;34m\u001b[0m\u001b[0;34m\u001b[0m\u001b[0m\n",
            "\u001b[0;32m/usr/local/lib/python3.10/dist-packages/sklearn/pipeline.py\u001b[0m in \u001b[0;36m_fit_transform_one\u001b[0;34m(transformer, X, y, weight, message_clsname, message, **fit_params)\u001b[0m\n\u001b[1;32m    891\u001b[0m     \u001b[0;32mwith\u001b[0m \u001b[0m_print_elapsed_time\u001b[0m\u001b[0;34m(\u001b[0m\u001b[0mmessage_clsname\u001b[0m\u001b[0;34m,\u001b[0m \u001b[0mmessage\u001b[0m\u001b[0;34m)\u001b[0m\u001b[0;34m:\u001b[0m\u001b[0;34m\u001b[0m\u001b[0;34m\u001b[0m\u001b[0m\n\u001b[1;32m    892\u001b[0m         \u001b[0;32mif\u001b[0m \u001b[0mhasattr\u001b[0m\u001b[0;34m(\u001b[0m\u001b[0mtransformer\u001b[0m\u001b[0;34m,\u001b[0m \u001b[0;34m\"fit_transform\"\u001b[0m\u001b[0;34m)\u001b[0m\u001b[0;34m:\u001b[0m\u001b[0;34m\u001b[0m\u001b[0;34m\u001b[0m\u001b[0m\n\u001b[0;32m--> 893\u001b[0;31m             \u001b[0mres\u001b[0m \u001b[0;34m=\u001b[0m \u001b[0mtransformer\u001b[0m\u001b[0;34m.\u001b[0m\u001b[0mfit_transform\u001b[0m\u001b[0;34m(\u001b[0m\u001b[0mX\u001b[0m\u001b[0;34m,\u001b[0m \u001b[0my\u001b[0m\u001b[0;34m,\u001b[0m \u001b[0;34m**\u001b[0m\u001b[0mfit_params\u001b[0m\u001b[0;34m)\u001b[0m\u001b[0;34m\u001b[0m\u001b[0;34m\u001b[0m\u001b[0m\n\u001b[0m\u001b[1;32m    894\u001b[0m         \u001b[0;32melse\u001b[0m\u001b[0;34m:\u001b[0m\u001b[0;34m\u001b[0m\u001b[0;34m\u001b[0m\u001b[0m\n\u001b[1;32m    895\u001b[0m             \u001b[0mres\u001b[0m \u001b[0;34m=\u001b[0m \u001b[0mtransformer\u001b[0m\u001b[0;34m.\u001b[0m\u001b[0mfit\u001b[0m\u001b[0;34m(\u001b[0m\u001b[0mX\u001b[0m\u001b[0;34m,\u001b[0m \u001b[0my\u001b[0m\u001b[0;34m,\u001b[0m \u001b[0;34m**\u001b[0m\u001b[0mfit_params\u001b[0m\u001b[0;34m)\u001b[0m\u001b[0;34m.\u001b[0m\u001b[0mtransform\u001b[0m\u001b[0;34m(\u001b[0m\u001b[0mX\u001b[0m\u001b[0;34m)\u001b[0m\u001b[0;34m\u001b[0m\u001b[0;34m\u001b[0m\u001b[0m\n",
            "\u001b[0;32m/usr/local/lib/python3.10/dist-packages/sklearn/utils/_set_output.py\u001b[0m in \u001b[0;36mwrapped\u001b[0;34m(self, X, *args, **kwargs)\u001b[0m\n\u001b[1;32m    138\u001b[0m     \u001b[0;34m@\u001b[0m\u001b[0mwraps\u001b[0m\u001b[0;34m(\u001b[0m\u001b[0mf\u001b[0m\u001b[0;34m)\u001b[0m\u001b[0;34m\u001b[0m\u001b[0;34m\u001b[0m\u001b[0m\n\u001b[1;32m    139\u001b[0m     \u001b[0;32mdef\u001b[0m \u001b[0mwrapped\u001b[0m\u001b[0;34m(\u001b[0m\u001b[0mself\u001b[0m\u001b[0;34m,\u001b[0m \u001b[0mX\u001b[0m\u001b[0;34m,\u001b[0m \u001b[0;34m*\u001b[0m\u001b[0margs\u001b[0m\u001b[0;34m,\u001b[0m \u001b[0;34m**\u001b[0m\u001b[0mkwargs\u001b[0m\u001b[0;34m)\u001b[0m\u001b[0;34m:\u001b[0m\u001b[0;34m\u001b[0m\u001b[0;34m\u001b[0m\u001b[0m\n\u001b[0;32m--> 140\u001b[0;31m         \u001b[0mdata_to_wrap\u001b[0m \u001b[0;34m=\u001b[0m \u001b[0mf\u001b[0m\u001b[0;34m(\u001b[0m\u001b[0mself\u001b[0m\u001b[0;34m,\u001b[0m \u001b[0mX\u001b[0m\u001b[0;34m,\u001b[0m \u001b[0;34m*\u001b[0m\u001b[0margs\u001b[0m\u001b[0;34m,\u001b[0m \u001b[0;34m**\u001b[0m\u001b[0mkwargs\u001b[0m\u001b[0;34m)\u001b[0m\u001b[0;34m\u001b[0m\u001b[0;34m\u001b[0m\u001b[0m\n\u001b[0m\u001b[1;32m    141\u001b[0m         \u001b[0;32mif\u001b[0m \u001b[0misinstance\u001b[0m\u001b[0;34m(\u001b[0m\u001b[0mdata_to_wrap\u001b[0m\u001b[0;34m,\u001b[0m \u001b[0mtuple\u001b[0m\u001b[0;34m)\u001b[0m\u001b[0;34m:\u001b[0m\u001b[0;34m\u001b[0m\u001b[0;34m\u001b[0m\u001b[0m\n\u001b[1;32m    142\u001b[0m             \u001b[0;31m# only wrap the first output for cross decomposition\u001b[0m\u001b[0;34m\u001b[0m\u001b[0;34m\u001b[0m\u001b[0m\n",
            "\u001b[0;32m/usr/local/lib/python3.10/dist-packages/sklearn/compose/_column_transformer.py\u001b[0m in \u001b[0;36mfit_transform\u001b[0;34m(self, X, y)\u001b[0m\n\u001b[1;32m    722\u001b[0m         \u001b[0mself\u001b[0m\u001b[0;34m.\u001b[0m\u001b[0m_check_n_features\u001b[0m\u001b[0;34m(\u001b[0m\u001b[0mX\u001b[0m\u001b[0;34m,\u001b[0m \u001b[0mreset\u001b[0m\u001b[0;34m=\u001b[0m\u001b[0;32mTrue\u001b[0m\u001b[0;34m)\u001b[0m\u001b[0;34m\u001b[0m\u001b[0;34m\u001b[0m\u001b[0m\n\u001b[1;32m    723\u001b[0m         \u001b[0mself\u001b[0m\u001b[0;34m.\u001b[0m\u001b[0m_validate_transformers\u001b[0m\u001b[0;34m(\u001b[0m\u001b[0;34m)\u001b[0m\u001b[0;34m\u001b[0m\u001b[0;34m\u001b[0m\u001b[0m\n\u001b[0;32m--> 724\u001b[0;31m         \u001b[0mself\u001b[0m\u001b[0;34m.\u001b[0m\u001b[0m_validate_column_callables\u001b[0m\u001b[0;34m(\u001b[0m\u001b[0mX\u001b[0m\u001b[0;34m)\u001b[0m\u001b[0;34m\u001b[0m\u001b[0;34m\u001b[0m\u001b[0m\n\u001b[0m\u001b[1;32m    725\u001b[0m         \u001b[0mself\u001b[0m\u001b[0;34m.\u001b[0m\u001b[0m_validate_remainder\u001b[0m\u001b[0;34m(\u001b[0m\u001b[0mX\u001b[0m\u001b[0;34m)\u001b[0m\u001b[0;34m\u001b[0m\u001b[0;34m\u001b[0m\u001b[0m\n\u001b[1;32m    726\u001b[0m \u001b[0;34m\u001b[0m\u001b[0m\n",
            "\u001b[0;32m/usr/local/lib/python3.10/dist-packages/sklearn/compose/_column_transformer.py\u001b[0m in \u001b[0;36m_validate_column_callables\u001b[0;34m(self, X)\u001b[0m\n\u001b[1;32m    424\u001b[0m                 \u001b[0mcolumns\u001b[0m \u001b[0;34m=\u001b[0m \u001b[0mcolumns\u001b[0m\u001b[0;34m(\u001b[0m\u001b[0mX\u001b[0m\u001b[0;34m)\u001b[0m\u001b[0;34m\u001b[0m\u001b[0;34m\u001b[0m\u001b[0m\n\u001b[1;32m    425\u001b[0m             \u001b[0mall_columns\u001b[0m\u001b[0;34m.\u001b[0m\u001b[0mappend\u001b[0m\u001b[0;34m(\u001b[0m\u001b[0mcolumns\u001b[0m\u001b[0;34m)\u001b[0m\u001b[0;34m\u001b[0m\u001b[0;34m\u001b[0m\u001b[0m\n\u001b[0;32m--> 426\u001b[0;31m             \u001b[0mtransformer_to_input_indices\u001b[0m\u001b[0;34m[\u001b[0m\u001b[0mname\u001b[0m\u001b[0;34m]\u001b[0m \u001b[0;34m=\u001b[0m \u001b[0m_get_column_indices\u001b[0m\u001b[0;34m(\u001b[0m\u001b[0mX\u001b[0m\u001b[0;34m,\u001b[0m \u001b[0mcolumns\u001b[0m\u001b[0;34m)\u001b[0m\u001b[0;34m\u001b[0m\u001b[0;34m\u001b[0m\u001b[0m\n\u001b[0m\u001b[1;32m    427\u001b[0m \u001b[0;34m\u001b[0m\u001b[0m\n\u001b[1;32m    428\u001b[0m         \u001b[0mself\u001b[0m\u001b[0;34m.\u001b[0m\u001b[0m_columns\u001b[0m \u001b[0;34m=\u001b[0m \u001b[0mall_columns\u001b[0m\u001b[0;34m\u001b[0m\u001b[0;34m\u001b[0m\u001b[0m\n",
            "\u001b[0;32m/usr/local/lib/python3.10/dist-packages/sklearn/utils/__init__.py\u001b[0m in \u001b[0;36m_get_column_indices\u001b[0;34m(X, key)\u001b[0m\n\u001b[1;32m    454\u001b[0m \u001b[0;34m\u001b[0m\u001b[0m\n\u001b[1;32m    455\u001b[0m         \u001b[0;32mexcept\u001b[0m \u001b[0mKeyError\u001b[0m \u001b[0;32mas\u001b[0m \u001b[0me\u001b[0m\u001b[0;34m:\u001b[0m\u001b[0;34m\u001b[0m\u001b[0;34m\u001b[0m\u001b[0m\n\u001b[0;32m--> 456\u001b[0;31m             \u001b[0;32mraise\u001b[0m \u001b[0mValueError\u001b[0m\u001b[0;34m(\u001b[0m\u001b[0;34m\"A given column is not a column of the dataframe\"\u001b[0m\u001b[0;34m)\u001b[0m \u001b[0;32mfrom\u001b[0m \u001b[0me\u001b[0m\u001b[0;34m\u001b[0m\u001b[0;34m\u001b[0m\u001b[0m\n\u001b[0m\u001b[1;32m    457\u001b[0m \u001b[0;34m\u001b[0m\u001b[0m\n\u001b[1;32m    458\u001b[0m         \u001b[0;32mreturn\u001b[0m \u001b[0mcolumn_indices\u001b[0m\u001b[0;34m\u001b[0m\u001b[0;34m\u001b[0m\u001b[0m\n",
            "\u001b[0;31mValueError\u001b[0m: A given column is not a column of the dataframe"
          ]
        }
      ]
    },
    {
      "cell_type": "code",
      "source": [
        "from sklearn.linear_model import LinearRegression\n",
        "from sklearn.tree import DecisionTreeRegressor\n",
        "\n",
        "\n",
        "def objective(trial):\n",
        "\n",
        "\n",
        "  model_type = trial.suggest_categorical(\"model_type\", ['LinReg', 'DT', 'LGBM'])\n",
        "\n",
        "  if model_type == 'LinReg':\n",
        "    model = LinearRegression()\n",
        "\n",
        "  elif model_type == 'DT':\n",
        "    model = DecisionTreeRegressor(\n",
        "        max_depth = trial.suggest_int('max_depth', 2, 12),\n",
        "        min_samples_leaf = trial.suggest_int('min_samples_leaf', 5, 100)\n",
        "    )\n",
        "\n",
        "  elif model_type == 'LGBM':\n",
        "    model = lgb.LGBMRegressor(\n",
        "        objective = 'mse',\n",
        "        verbose=-1,\n",
        "        boosting_type=trial.suggest_categorical('boosting_type', ['gbdt', 'dart']),\n",
        "        lambda_l1 = trial.suggest_float('lambda_l1', 1e-8, 10.0, log=True),\n",
        "        lambda_l2 = trial.suggest_float('lambda_l2', 1e-8, 10.0, log=True),\n",
        "        num_leaves = trial.suggest_int('num_leaves', 2, 256),\n",
        "        feature_fraction = trial.suggest_float('feature_fraction', 0.4, 1.0),\n",
        "        bagging_fraction = trial.suggest_float('bagging_fraction', 0.4, 1.0),\n",
        "        bagging_freq = trial.suggest_int('bagging_freq', 1, 7),\n",
        "        min_child_samples = trial.suggest_int('min_child_samples', 5, 100),\n",
        "\n",
        "\n",
        "    )\n",
        "\n",
        "  # Навчання моделі на тренувальному наборі даних:\n",
        "\n",
        "  model.fit(X_train, y_train)\n",
        "\n",
        "  # Оцінка моделі на тестовому наборі даних:\n",
        "\n",
        "  y_pred = model.predict(X_val)\n",
        "  r2 = metrics.r2_score(y_val, y_pred)\n",
        "\n",
        "  # Повернення значення метрики:\n",
        "  return r2"
      ],
      "metadata": {
        "id": "AamlugkNKMzl"
      },
      "execution_count": 98,
      "outputs": []
    },
    {
      "cell_type": "code",
      "source": [
        "study = optuna.create_study(direction='maximize')\n",
        "study.optimize(objective, n_trials=100)"
      ],
      "metadata": {
        "colab": {
          "base_uri": "https://localhost:8080/"
        },
        "id": "Do6DpfuHlWCE",
        "outputId": "197d6ce9-c00c-4fbd-dc5e-b6d3f122e600"
      },
      "execution_count": 99,
      "outputs": [
        {
          "output_type": "stream",
          "name": "stderr",
          "text": [
            "[I 2024-07-21 14:49:23,525] A new study created in memory with name: no-name-bdaa9767-a7c8-4e09-b447-5b29fe335158\n",
            "[I 2024-07-21 14:49:23,679] Trial 0 finished with value: 0.9197154378234808 and parameters: {'model_type': 'LinReg'}. Best is trial 0 with value: 0.9197154378234808.\n",
            "[I 2024-07-21 14:49:25,259] Trial 1 finished with value: 0.9793498662453363 and parameters: {'model_type': 'LGBM', 'boosting_type': 'gbdt', 'lambda_l1': 1.7122792075157062e-07, 'lambda_l2': 1.5713092499010538e-06, 'num_leaves': 133, 'feature_fraction': 0.9753439608576426, 'bagging_fraction': 0.9932234526509262, 'bagging_freq': 1, 'min_child_samples': 90}. Best is trial 1 with value: 0.9793498662453363.\n",
            "[I 2024-07-21 14:49:25,492] Trial 2 finished with value: 0.9654743105270549 and parameters: {'model_type': 'DT', 'max_depth': 11, 'min_samples_leaf': 18}. Best is trial 1 with value: 0.9793498662453363.\n",
            "[I 2024-07-21 14:49:27,623] Trial 3 finished with value: 0.9755096235479273 and parameters: {'model_type': 'LGBM', 'boosting_type': 'gbdt', 'lambda_l1': 0.033093446626613135, 'lambda_l2': 0.00041502196521005593, 'num_leaves': 129, 'feature_fraction': 0.40266139645175475, 'bagging_fraction': 0.5464517377903151, 'bagging_freq': 4, 'min_child_samples': 30}. Best is trial 1 with value: 0.9793498662453363.\n",
            "[I 2024-07-21 14:49:27,774] Trial 4 finished with value: 0.9197154378234808 and parameters: {'model_type': 'LinReg'}. Best is trial 1 with value: 0.9793498662453363.\n",
            "[I 2024-07-21 14:49:29,573] Trial 5 finished with value: 0.9774629671452127 and parameters: {'model_type': 'LGBM', 'boosting_type': 'gbdt', 'lambda_l1': 2.3278825523974686e-05, 'lambda_l2': 2.0898237581493407e-07, 'num_leaves': 36, 'feature_fraction': 0.5994258785646549, 'bagging_fraction': 0.8581935549552004, 'bagging_freq': 2, 'min_child_samples': 71}. Best is trial 1 with value: 0.9793498662453363.\n",
            "[I 2024-07-21 14:49:32,594] Trial 6 finished with value: 0.9797403014066609 and parameters: {'model_type': 'LGBM', 'boosting_type': 'gbdt', 'lambda_l1': 5.878977490272279e-07, 'lambda_l2': 0.013213365357372267, 'num_leaves': 243, 'feature_fraction': 0.7233565507396875, 'bagging_fraction': 0.9731841101227834, 'bagging_freq': 4, 'min_child_samples': 44}. Best is trial 6 with value: 0.9797403014066609.\n",
            "[I 2024-07-21 14:49:33,982] Trial 7 finished with value: 0.9769364895883814 and parameters: {'model_type': 'LGBM', 'boosting_type': 'gbdt', 'lambda_l1': 0.20635451995299234, 'lambda_l2': 9.6417499285411e-07, 'num_leaves': 75, 'feature_fraction': 0.9697791112636502, 'bagging_fraction': 0.44062309091807916, 'bagging_freq': 6, 'min_child_samples': 60}. Best is trial 6 with value: 0.9797403014066609.\n",
            "[I 2024-07-21 14:49:34,074] Trial 8 finished with value: 0.9197154378234808 and parameters: {'model_type': 'LinReg'}. Best is trial 6 with value: 0.9797403014066609.\n",
            "[I 2024-07-21 14:49:34,178] Trial 9 finished with value: 0.8725425396547468 and parameters: {'model_type': 'DT', 'max_depth': 3, 'min_samples_leaf': 45}. Best is trial 6 with value: 0.9797403014066609.\n",
            "[I 2024-07-21 14:49:37,537] Trial 10 finished with value: 0.9495533494012173 and parameters: {'model_type': 'LGBM', 'boosting_type': 'dart', 'lambda_l1': 2.4051661508285854e-08, 'lambda_l2': 7.695393702428047, 'num_leaves': 254, 'feature_fraction': 0.7347747197686807, 'bagging_fraction': 0.7231481809521708, 'bagging_freq': 5, 'min_child_samples': 6}. Best is trial 6 with value: 0.9797403014066609.\n",
            "[I 2024-07-21 14:49:38,832] Trial 11 finished with value: 0.9791482915717323 and parameters: {'model_type': 'LGBM', 'boosting_type': 'gbdt', 'lambda_l1': 1.386655254818252e-07, 'lambda_l2': 0.004892125022410342, 'num_leaves': 251, 'feature_fraction': 0.968439882859221, 'bagging_fraction': 0.9995035998951451, 'bagging_freq': 1, 'min_child_samples': 99}. Best is trial 6 with value: 0.9797403014066609.\n",
            "[I 2024-07-21 14:49:42,502] Trial 12 finished with value: 0.9784314311545751 and parameters: {'model_type': 'LGBM', 'boosting_type': 'gbdt', 'lambda_l1': 1.0110513432300805e-05, 'lambda_l2': 0.06132409245879618, 'num_leaves': 167, 'feature_fraction': 0.7763031365781918, 'bagging_fraction': 0.9487495292680996, 'bagging_freq': 3, 'min_child_samples': 100}. Best is trial 6 with value: 0.9797403014066609.\n",
            "[I 2024-07-21 14:49:51,068] Trial 13 finished with value: 0.9582416855655953 and parameters: {'model_type': 'LGBM', 'boosting_type': 'dart', 'lambda_l1': 8.840563918053066e-07, 'lambda_l2': 8.78729473088761e-06, 'num_leaves': 172, 'feature_fraction': 0.8341324366957531, 'bagging_fraction': 0.8212556844559687, 'bagging_freq': 1, 'min_child_samples': 39}. Best is trial 6 with value: 0.9797403014066609.\n",
            "[I 2024-07-21 14:49:55,459] Trial 14 finished with value: 0.977966107782752 and parameters: {'model_type': 'LGBM', 'boosting_type': 'gbdt', 'lambda_l1': 0.0011323051525871668, 'lambda_l2': 3.192197746557653e-05, 'num_leaves': 197, 'feature_fraction': 0.5624141383450761, 'bagging_fraction': 0.8855947646767119, 'bagging_freq': 7, 'min_child_samples': 78}. Best is trial 6 with value: 0.9797403014066609.\n",
            "[I 2024-07-21 14:49:56,498] Trial 15 finished with value: 0.9390200593805744 and parameters: {'model_type': 'DT', 'max_depth': 12, 'min_samples_leaf': 100}. Best is trial 6 with value: 0.9797403014066609.\n",
            "[I 2024-07-21 14:50:00,461] Trial 16 finished with value: 0.9791543620174409 and parameters: {'model_type': 'LGBM', 'boosting_type': 'gbdt', 'lambda_l1': 1.2955209965944911e-08, 'lambda_l2': 1.684595541561493e-08, 'num_leaves': 105, 'feature_fraction': 0.8483487414195311, 'bagging_fraction': 0.7077321920440756, 'bagging_freq': 3, 'min_child_samples': 44}. Best is trial 6 with value: 0.9797403014066609.\n",
            "[I 2024-07-21 14:50:02,824] Trial 17 finished with value: 0.9411866188330931 and parameters: {'model_type': 'LGBM', 'boosting_type': 'dart', 'lambda_l1': 2.2327165023338404e-06, 'lambda_l2': 0.3153540643098144, 'num_leaves': 14, 'feature_fraction': 0.6238981393845356, 'bagging_fraction': 0.9889217431379832, 'bagging_freq': 4, 'min_child_samples': 21}. Best is trial 6 with value: 0.9797403014066609.\n",
            "[I 2024-07-21 14:50:02,906] Trial 18 finished with value: 0.9197154378234808 and parameters: {'model_type': 'LinReg'}. Best is trial 6 with value: 0.9797403014066609.\n",
            "[I 2024-07-21 14:50:03,043] Trial 19 finished with value: 0.8281538862858147 and parameters: {'model_type': 'DT', 'max_depth': 2, 'min_samples_leaf': 95}. Best is trial 6 with value: 0.9797403014066609.\n",
            "[I 2024-07-21 14:50:05,230] Trial 20 finished with value: 0.9762016903661885 and parameters: {'model_type': 'LGBM', 'boosting_type': 'gbdt', 'lambda_l1': 0.0003455873947106626, 'lambda_l2': 0.00036259118546192647, 'num_leaves': 218, 'feature_fraction': 0.4085131206259542, 'bagging_fraction': 0.7889992339597335, 'bagging_freq': 2, 'min_child_samples': 60}. Best is trial 6 with value: 0.9797403014066609.\n",
            "[I 2024-07-21 14:50:07,007] Trial 21 finished with value: 0.9785296911158146 and parameters: {'model_type': 'LGBM', 'boosting_type': 'gbdt', 'lambda_l1': 1.3345147071952159e-08, 'lambda_l2': 1.2663490308318596e-08, 'num_leaves': 109, 'feature_fraction': 0.8754823189544872, 'bagging_fraction': 0.6314363622441445, 'bagging_freq': 3, 'min_child_samples': 45}. Best is trial 6 with value: 0.9797403014066609.\n",
            "[I 2024-07-21 14:50:08,823] Trial 22 finished with value: 0.9786363262450741 and parameters: {'model_type': 'LGBM', 'boosting_type': 'gbdt', 'lambda_l1': 2.0971968128490237e-07, 'lambda_l2': 1.482366215368819e-08, 'num_leaves': 83, 'feature_fraction': 0.8943913939003048, 'bagging_fraction': 0.6400948458124404, 'bagging_freq': 3, 'min_child_samples': 49}. Best is trial 6 with value: 0.9797403014066609.\n",
            "[I 2024-07-21 14:50:12,744] Trial 23 finished with value: 0.9790747041003685 and parameters: {'model_type': 'LGBM', 'boosting_type': 'gbdt', 'lambda_l1': 1.2604342004840171e-08, 'lambda_l2': 3.179465463076919e-07, 'num_leaves': 141, 'feature_fraction': 0.7969611296497748, 'bagging_fraction': 0.901462652977147, 'bagging_freq': 5, 'min_child_samples': 81}. Best is trial 6 with value: 0.9797403014066609.\n",
            "[I 2024-07-21 14:50:14,408] Trial 24 finished with value: 0.9798277513266209 and parameters: {'model_type': 'LGBM', 'boosting_type': 'gbdt', 'lambda_l1': 2.5788476362145e-07, 'lambda_l2': 8.110963837235767e-06, 'num_leaves': 73, 'feature_fraction': 0.9176614072300775, 'bagging_fraction': 0.7632481060022601, 'bagging_freq': 2, 'min_child_samples': 35}. Best is trial 24 with value: 0.9798277513266209.\n",
            "[I 2024-07-21 14:50:15,019] Trial 25 finished with value: 0.9798134179596834 and parameters: {'model_type': 'LGBM', 'boosting_type': 'gbdt', 'lambda_l1': 1.839222807143542e-05, 'lambda_l2': 1.1480317307873965e-05, 'num_leaves': 51, 'feature_fraction': 0.9847664459283836, 'bagging_fraction': 0.785519893420675, 'bagging_freq': 1, 'min_child_samples': 27}. Best is trial 24 with value: 0.9798277513266209.\n",
            "[I 2024-07-21 14:50:17,539] Trial 26 finished with value: 0.9547653399894365 and parameters: {'model_type': 'LGBM', 'boosting_type': 'dart', 'lambda_l1': 2.629155042751422e-05, 'lambda_l2': 9.124079765165901e-05, 'num_leaves': 49, 'feature_fraction': 0.672299512629077, 'bagging_fraction': 0.7781673443330908, 'bagging_freq': 2, 'min_child_samples': 22}. Best is trial 24 with value: 0.9798277513266209.\n",
            "[I 2024-07-21 14:50:18,026] Trial 27 finished with value: 0.9339520196606446 and parameters: {'model_type': 'LGBM', 'boosting_type': 'gbdt', 'lambda_l1': 3.2779006353988164e-06, 'lambda_l2': 0.0032480927520024423, 'num_leaves': 3, 'feature_fraction': 0.9304946859112987, 'bagging_fraction': 0.6327325772068927, 'bagging_freq': 2, 'min_child_samples': 31}. Best is trial 24 with value: 0.9798277513266209.\n",
            "[I 2024-07-21 14:50:18,235] Trial 28 finished with value: 0.9475163767324435 and parameters: {'model_type': 'DT', 'max_depth': 8, 'min_samples_leaf': 5}. Best is trial 24 with value: 0.9798277513266209.\n",
            "[I 2024-07-21 14:50:18,358] Trial 29 finished with value: 0.9197154378234808 and parameters: {'model_type': 'LinReg'}. Best is trial 24 with value: 0.9798277513266209.\n",
            "[I 2024-07-21 14:50:18,520] Trial 30 finished with value: 0.9197154378234808 and parameters: {'model_type': 'LinReg'}. Best is trial 24 with value: 0.9798277513266209.\n",
            "[I 2024-07-21 14:50:20,069] Trial 31 finished with value: 0.979924468854426 and parameters: {'model_type': 'LGBM', 'boosting_type': 'gbdt', 'lambda_l1': 1.3720218566768923e-07, 'lambda_l2': 2.597284430267645e-06, 'num_leaves': 64, 'feature_fraction': 0.997835112602578, 'bagging_fraction': 0.9434159721708638, 'bagging_freq': 1, 'min_child_samples': 33}. Best is trial 31 with value: 0.979924468854426.\n",
            "[I 2024-07-21 14:50:21,578] Trial 32 finished with value: 0.9799593838552922 and parameters: {'model_type': 'LGBM', 'boosting_type': 'gbdt', 'lambda_l1': 6.202925107164465e-07, 'lambda_l2': 1.1389195879556555e-05, 'num_leaves': 60, 'feature_fraction': 0.9948458395431865, 'bagging_fraction': 0.9157114145791604, 'bagging_freq': 1, 'min_child_samples': 34}. Best is trial 32 with value: 0.9799593838552922.\n",
            "[I 2024-07-21 14:50:23,229] Trial 33 finished with value: 0.9805683157069743 and parameters: {'model_type': 'LGBM', 'boosting_type': 'gbdt', 'lambda_l1': 0.00010858263098136484, 'lambda_l2': 7.771141979526745e-06, 'num_leaves': 58, 'feature_fraction': 0.9948155032946184, 'bagging_fraction': 0.918004343169322, 'bagging_freq': 1, 'min_child_samples': 17}. Best is trial 33 with value: 0.9805683157069743.\n",
            "[I 2024-07-21 14:50:25,799] Trial 34 finished with value: 0.9805678664440496 and parameters: {'model_type': 'LGBM', 'boosting_type': 'gbdt', 'lambda_l1': 0.008251375616423966, 'lambda_l2': 3.2228144591833758e-06, 'num_leaves': 73, 'feature_fraction': 0.911466874688702, 'bagging_fraction': 0.9094955780815512, 'bagging_freq': 1, 'min_child_samples': 12}. Best is trial 33 with value: 0.9805683157069743.\n",
            "[I 2024-07-21 14:50:27,641] Trial 35 finished with value: 0.9801991602354144 and parameters: {'model_type': 'LGBM', 'boosting_type': 'gbdt', 'lambda_l1': 0.006774971700083032, 'lambda_l2': 1.9423711108910145e-06, 'num_leaves': 36, 'feature_fraction': 0.9925865766895475, 'bagging_fraction': 0.9259572015423785, 'bagging_freq': 1, 'min_child_samples': 10}. Best is trial 33 with value: 0.9805683157069743.\n",
            "[I 2024-07-21 14:50:28,628] Trial 36 finished with value: 0.9795891597703191 and parameters: {'model_type': 'LGBM', 'boosting_type': 'gbdt', 'lambda_l1': 0.009171187061536468, 'lambda_l2': 1.6098761783553034e-07, 'num_leaves': 27, 'feature_fraction': 0.9299471571044238, 'bagging_fraction': 0.9042286718809284, 'bagging_freq': 1, 'min_child_samples': 7}. Best is trial 33 with value: 0.9805683157069743.\n",
            "[I 2024-07-21 14:50:30,186] Trial 37 finished with value: 0.9807510268016119 and parameters: {'model_type': 'LGBM', 'boosting_type': 'gbdt', 'lambda_l1': 0.004389851956664653, 'lambda_l2': 8.982786145479023e-05, 'num_leaves': 95, 'feature_fraction': 0.9340283450566134, 'bagging_fraction': 0.8499901360859095, 'bagging_freq': 1, 'min_child_samples': 15}. Best is trial 37 with value: 0.9807510268016119.\n",
            "[I 2024-07-21 14:50:30,357] Trial 38 finished with value: 0.9195372136008678 and parameters: {'model_type': 'DT', 'max_depth': 6, 'min_samples_leaf': 64}. Best is trial 37 with value: 0.9807510268016119.\n",
            "[I 2024-07-21 14:50:34,328] Trial 39 finished with value: 0.958933339569795 and parameters: {'model_type': 'LGBM', 'boosting_type': 'dart', 'lambda_l1': 3.3266761437852144, 'lambda_l2': 5.172821949979855e-05, 'num_leaves': 90, 'feature_fraction': 0.9273303710212731, 'bagging_fraction': 0.8381210013704956, 'bagging_freq': 2, 'min_child_samples': 14}. Best is trial 37 with value: 0.9807510268016119.\n",
            "[I 2024-07-21 14:50:34,403] Trial 40 finished with value: 0.9197154378234808 and parameters: {'model_type': 'LinReg'}. Best is trial 37 with value: 0.9807510268016119.\n",
            "[I 2024-07-21 14:50:35,355] Trial 41 finished with value: 0.9804533781704191 and parameters: {'model_type': 'LGBM', 'boosting_type': 'gbdt', 'lambda_l1': 0.00596002022675486, 'lambda_l2': 0.00012618465103625268, 'num_leaves': 50, 'feature_fraction': 0.9454007857511492, 'bagging_fraction': 0.9162855419459729, 'bagging_freq': 1, 'min_child_samples': 15}. Best is trial 37 with value: 0.9807510268016119.\n",
            "[I 2024-07-21 14:50:36,159] Trial 42 finished with value: 0.9798188839410163 and parameters: {'model_type': 'LGBM', 'boosting_type': 'gbdt', 'lambda_l1': 0.003323743944745112, 'lambda_l2': 9.203642592106342e-05, 'num_leaves': 35, 'feature_fraction': 0.8842062956933171, 'bagging_fraction': 0.8660726686734015, 'bagging_freq': 1, 'min_child_samples': 16}. Best is trial 37 with value: 0.9807510268016119.\n",
            "[I 2024-07-21 14:50:37,637] Trial 43 finished with value: 0.9806873939655665 and parameters: {'model_type': 'LGBM', 'boosting_type': 'gbdt', 'lambda_l1': 0.07392448547458622, 'lambda_l2': 0.0008243380859892428, 'num_leaves': 100, 'feature_fraction': 0.9397767050461767, 'bagging_fraction': 0.9339800862474928, 'bagging_freq': 1, 'min_child_samples': 13}. Best is trial 37 with value: 0.9807510268016119.\n",
            "[I 2024-07-21 14:50:39,716] Trial 44 finished with value: 0.9806823649783557 and parameters: {'model_type': 'LGBM', 'boosting_type': 'gbdt', 'lambda_l1': 0.0579230571419768, 'lambda_l2': 0.0008789453377176131, 'num_leaves': 102, 'feature_fraction': 0.9344087500554494, 'bagging_fraction': 0.9526736787757872, 'bagging_freq': 1, 'min_child_samples': 19}. Best is trial 37 with value: 0.9807510268016119.\n",
            "[I 2024-07-21 14:50:42,119] Trial 45 finished with value: 0.9800946741319123 and parameters: {'model_type': 'LGBM', 'boosting_type': 'gbdt', 'lambda_l1': 0.09426704670771294, 'lambda_l2': 0.0015677059962708338, 'num_leaves': 108, 'feature_fraction': 0.8463597782064385, 'bagging_fraction': 0.961727009140012, 'bagging_freq': 2, 'min_child_samples': 22}. Best is trial 37 with value: 0.9807510268016119.\n",
            "[I 2024-07-21 14:50:43,237] Trial 46 finished with value: 0.9805796645164807 and parameters: {'model_type': 'LGBM', 'boosting_type': 'gbdt', 'lambda_l1': 0.9350750649496329, 'lambda_l2': 0.0009357738452803894, 'num_leaves': 94, 'feature_fraction': 0.8939350697995483, 'bagging_fraction': 0.8322883760091571, 'bagging_freq': 1, 'min_child_samples': 12}. Best is trial 37 with value: 0.9807510268016119.\n",
            "[I 2024-07-21 14:50:44,431] Trial 47 finished with value: 0.9803800678140867 and parameters: {'model_type': 'LGBM', 'boosting_type': 'gbdt', 'lambda_l1': 4.117789904964852, 'lambda_l2': 0.000783083400797246, 'num_leaves': 127, 'feature_fraction': 0.9571694296908919, 'bagging_fraction': 0.8319746363301309, 'bagging_freq': 2, 'min_child_samples': 19}. Best is trial 37 with value: 0.9807510268016119.\n",
            "[I 2024-07-21 14:50:45,203] Trial 48 finished with value: 0.9798960049380762 and parameters: {'model_type': 'LGBM', 'boosting_type': 'gbdt', 'lambda_l1': 0.7224754522218721, 'lambda_l2': 0.010917719084132856, 'num_leaves': 97, 'feature_fraction': 0.8138726118844448, 'bagging_fraction': 0.8659794649224004, 'bagging_freq': 1, 'min_child_samples': 26}. Best is trial 37 with value: 0.9807510268016119.\n",
            "[I 2024-07-21 14:50:45,321] Trial 49 finished with value: 0.9298982988372956 and parameters: {'model_type': 'DT', 'max_depth': 7, 'min_samples_leaf': 64}. Best is trial 37 with value: 0.9807510268016119.\n",
            "[I 2024-07-21 14:50:46,398] Trial 50 finished with value: 0.9810467730255881 and parameters: {'model_type': 'LGBM', 'boosting_type': 'gbdt', 'lambda_l1': 0.04300343102423522, 'lambda_l2': 0.00025479186432190065, 'num_leaves': 125, 'feature_fraction': 0.8705173612835202, 'bagging_fraction': 0.958701858449979, 'bagging_freq': 2, 'min_child_samples': 5}. Best is trial 50 with value: 0.9810467730255881.\n",
            "[I 2024-07-21 14:50:47,215] Trial 51 finished with value: 0.9806385345154155 and parameters: {'model_type': 'LGBM', 'boosting_type': 'gbdt', 'lambda_l1': 0.044810604042247924, 'lambda_l2': 0.0003394912824791532, 'num_leaves': 126, 'feature_fraction': 0.8722393261646098, 'bagging_fraction': 0.9699259110345417, 'bagging_freq': 1, 'min_child_samples': 5}. Best is trial 50 with value: 0.9810467730255881.\n",
            "[I 2024-07-21 14:50:48,297] Trial 52 finished with value: 0.9808687659393444 and parameters: {'model_type': 'LGBM', 'boosting_type': 'gbdt', 'lambda_l1': 0.040574974483483156, 'lambda_l2': 0.0004080918056240198, 'num_leaves': 124, 'feature_fraction': 0.8688544919528458, 'bagging_fraction': 0.9652740103385994, 'bagging_freq': 2, 'min_child_samples': 6}. Best is trial 50 with value: 0.9810467730255881.\n",
            "[I 2024-07-21 14:50:49,378] Trial 53 finished with value: 0.98082962739563 and parameters: {'model_type': 'LGBM', 'boosting_type': 'gbdt', 'lambda_l1': 0.04626386705443862, 'lambda_l2': 0.0003231041246592303, 'num_leaves': 126, 'feature_fraction': 0.8637902125433422, 'bagging_fraction': 0.9659239246433684, 'bagging_freq': 2, 'min_child_samples': 8}. Best is trial 50 with value: 0.9810467730255881.\n",
            "[I 2024-07-21 14:50:50,557] Trial 54 finished with value: 0.9809549984124176 and parameters: {'model_type': 'LGBM', 'boosting_type': 'gbdt', 'lambda_l1': 0.21104677184828766, 'lambda_l2': 0.00017345365290568577, 'num_leaves': 153, 'feature_fraction': 0.8579354212736654, 'bagging_fraction': 0.9988648637163984, 'bagging_freq': 2, 'min_child_samples': 5}. Best is trial 50 with value: 0.9810467730255881.\n",
            "[I 2024-07-21 14:50:51,972] Trial 55 finished with value: 0.9807988302507246 and parameters: {'model_type': 'LGBM', 'boosting_type': 'gbdt', 'lambda_l1': 0.3200615023918407, 'lambda_l2': 0.00012991740537498825, 'num_leaves': 149, 'feature_fraction': 0.7773407787140604, 'bagging_fraction': 0.9909895679349989, 'bagging_freq': 3, 'min_child_samples': 6}. Best is trial 50 with value: 0.9810467730255881.\n",
            "[I 2024-07-21 14:50:53,714] Trial 56 finished with value: 0.9810872137348172 and parameters: {'model_type': 'LGBM', 'boosting_type': 'gbdt', 'lambda_l1': 0.28585418339017427, 'lambda_l2': 0.00021532730169661097, 'num_leaves': 154, 'feature_fraction': 0.7567093390470007, 'bagging_fraction': 0.9983124133299196, 'bagging_freq': 3, 'min_child_samples': 5}. Best is trial 56 with value: 0.9810872137348172.\n",
            "[I 2024-07-21 14:50:53,789] Trial 57 finished with value: 0.9197154378234808 and parameters: {'model_type': 'LinReg'}. Best is trial 56 with value: 0.9810872137348172.\n",
            "[I 2024-07-21 14:50:56,768] Trial 58 finished with value: 0.9600818685918237 and parameters: {'model_type': 'LGBM', 'boosting_type': 'dart', 'lambda_l1': 0.32295129007133033, 'lambda_l2': 0.00021260221426264123, 'num_leaves': 149, 'feature_fraction': 0.7583641009042018, 'bagging_fraction': 0.998055583578458, 'bagging_freq': 3, 'min_child_samples': 5}. Best is trial 56 with value: 0.9810872137348172.\n",
            "[I 2024-07-21 14:50:57,835] Trial 59 finished with value: 0.9787111553083004 and parameters: {'model_type': 'LGBM', 'boosting_type': 'gbdt', 'lambda_l1': 0.02143811343863778, 'lambda_l2': 3.278037758303568e-05, 'num_leaves': 158, 'feature_fraction': 0.7191735736644006, 'bagging_fraction': 0.4518339686946222, 'bagging_freq': 4, 'min_child_samples': 9}. Best is trial 56 with value: 0.9810872137348172.\n",
            "[I 2024-07-21 14:50:59,073] Trial 60 finished with value: 0.9805966002195952 and parameters: {'model_type': 'LGBM', 'boosting_type': 'gbdt', 'lambda_l1': 0.3645556113259525, 'lambda_l2': 0.0024284020282901203, 'num_leaves': 184, 'feature_fraction': 0.7751725394496479, 'bagging_fraction': 0.9777332115687815, 'bagging_freq': 3, 'min_child_samples': 5}. Best is trial 56 with value: 0.9810872137348172.\n",
            "[I 2024-07-21 14:51:00,265] Trial 61 finished with value: 0.9808589315669528 and parameters: {'model_type': 'LGBM', 'boosting_type': 'gbdt', 'lambda_l1': 0.025195741315904935, 'lambda_l2': 0.00020368711947926177, 'num_leaves': 136, 'feature_fraction': 0.8228174088350259, 'bagging_fraction': 0.9994573536528181, 'bagging_freq': 3, 'min_child_samples': 9}. Best is trial 56 with value: 0.9810872137348172.\n",
            "[I 2024-07-21 14:51:01,424] Trial 62 finished with value: 0.9809122039833027 and parameters: {'model_type': 'LGBM', 'boosting_type': 'gbdt', 'lambda_l1': 0.18613133586425196, 'lambda_l2': 0.00022064759301861035, 'num_leaves': 137, 'feature_fraction': 0.8252358536025123, 'bagging_fraction': 0.9845484111626472, 'bagging_freq': 3, 'min_child_samples': 9}. Best is trial 56 with value: 0.9810872137348172.\n",
            "[I 2024-07-21 14:51:02,519] Trial 63 finished with value: 0.9807732168179506 and parameters: {'model_type': 'LGBM', 'boosting_type': 'gbdt', 'lambda_l1': 0.14686673110807702, 'lambda_l2': 0.007926195167762471, 'num_leaves': 120, 'feature_fraction': 0.8215617932076011, 'bagging_fraction': 0.962610250254155, 'bagging_freq': 3, 'min_child_samples': 10}. Best is trial 56 with value: 0.9810872137348172.\n",
            "[I 2024-07-21 14:51:03,687] Trial 64 finished with value: 0.9809474432697799 and parameters: {'model_type': 'LGBM', 'boosting_type': 'gbdt', 'lambda_l1': 1.4213630214813187, 'lambda_l2': 0.028372598199131585, 'num_leaves': 138, 'feature_fraction': 0.85717829110315, 'bagging_fraction': 0.9990353353413317, 'bagging_freq': 4, 'min_child_samples': 9}. Best is trial 56 with value: 0.9810872137348172.\n",
            "[I 2024-07-21 14:51:03,838] Trial 65 finished with value: 0.9533717296412844 and parameters: {'model_type': 'DT', 'max_depth': 9, 'min_samples_leaf': 43}. Best is trial 56 with value: 0.9810872137348172.\n",
            "[I 2024-07-21 14:51:05,072] Trial 66 finished with value: 0.9804611649722575 and parameters: {'model_type': 'LGBM', 'boosting_type': 'gbdt', 'lambda_l1': 1.6202728167915994, 'lambda_l2': 1.352736629421339, 'num_leaves': 138, 'feature_fraction': 0.8105296738716982, 'bagging_fraction': 0.9992356472898773, 'bagging_freq': 4, 'min_child_samples': 10}. Best is trial 56 with value: 0.9810872137348172.\n",
            "[I 2024-07-21 14:51:07,183] Trial 67 finished with value: 0.9798691807132781 and parameters: {'model_type': 'LGBM', 'boosting_type': 'gbdt', 'lambda_l1': 0.026206081232291147, 'lambda_l2': 0.030585928945550143, 'num_leaves': 162, 'feature_fraction': 0.8512187272001058, 'bagging_fraction': 0.9526069765230766, 'bagging_freq': 5, 'min_child_samples': 24}. Best is trial 56 with value: 0.9810872137348172.\n",
            "[I 2024-07-21 14:51:10,796] Trial 68 finished with value: 0.9546935412333226 and parameters: {'model_type': 'LGBM', 'boosting_type': 'dart', 'lambda_l1': 8.652466250727148, 'lambda_l2': 0.10710775130666912, 'num_leaves': 179, 'feature_fraction': 0.6767412399365781, 'bagging_fraction': 0.9746633891934319, 'bagging_freq': 4, 'min_child_samples': 65}. Best is trial 56 with value: 0.9810872137348172.\n",
            "[I 2024-07-21 14:51:10,849] Trial 69 finished with value: 0.9197154378234808 and parameters: {'model_type': 'LinReg'}. Best is trial 56 with value: 0.9810872137348172.\n",
            "[I 2024-07-21 14:51:11,979] Trial 70 finished with value: 0.980520335265654 and parameters: {'model_type': 'LGBM', 'boosting_type': 'gbdt', 'lambda_l1': 0.1720342288729421, 'lambda_l2': 0.031233864517723697, 'num_leaves': 118, 'feature_fraction': 0.8333887059164522, 'bagging_fraction': 0.8796904768717798, 'bagging_freq': 3, 'min_child_samples': 10}. Best is trial 56 with value: 0.9810872137348172.\n",
            "[I 2024-07-21 14:51:13,177] Trial 71 finished with value: 0.9809077502263854 and parameters: {'model_type': 'LGBM', 'boosting_type': 'gbdt', 'lambda_l1': 0.023648313855915044, 'lambda_l2': 0.0003399986361387462, 'num_leaves': 146, 'feature_fraction': 0.8625859808029961, 'bagging_fraction': 0.9986271466763403, 'bagging_freq': 2, 'min_child_samples': 8}. Best is trial 56 with value: 0.9810872137348172.\n",
            "[I 2024-07-21 14:51:14,298] Trial 72 finished with value: 0.9810400118168655 and parameters: {'model_type': 'LGBM', 'boosting_type': 'gbdt', 'lambda_l1': 0.7607514171638136, 'lambda_l2': 3.276506898357057e-05, 'num_leaves': 147, 'feature_fraction': 0.7977478111642617, 'bagging_fraction': 0.9836704005058092, 'bagging_freq': 2, 'min_child_samples': 5}. Best is trial 56 with value: 0.9810872137348172.\n",
            "[I 2024-07-21 14:51:15,395] Trial 73 finished with value: 0.980540142857911 and parameters: {'model_type': 'LGBM', 'boosting_type': 'gbdt', 'lambda_l1': 0.7338637990781586, 'lambda_l2': 2.562746751456891e-05, 'num_leaves': 151, 'feature_fraction': 0.7482364826873669, 'bagging_fraction': 0.9429089773841541, 'bagging_freq': 2, 'min_child_samples': 5}. Best is trial 56 with value: 0.9810872137348172.\n",
            "[I 2024-07-21 14:51:16,782] Trial 74 finished with value: 0.9802695252558271 and parameters: {'model_type': 'LGBM', 'boosting_type': 'gbdt', 'lambda_l1': 1.9023044102292, 'lambda_l2': 4.343323689520064e-05, 'num_leaves': 169, 'feature_fraction': 0.7909560911455673, 'bagging_fraction': 0.978048050928225, 'bagging_freq': 2, 'min_child_samples': 18}. Best is trial 56 with value: 0.9810872137348172.\n",
            "[I 2024-07-21 14:51:17,940] Trial 75 finished with value: 0.9806942548831412 and parameters: {'model_type': 'LGBM', 'boosting_type': 'gbdt', 'lambda_l1': 0.4612696423877584, 'lambda_l2': 0.00045783633474775673, 'num_leaves': 140, 'feature_fraction': 0.8563572159149586, 'bagging_fraction': 0.9364875609728553, 'bagging_freq': 2, 'min_child_samples': 13}. Best is trial 56 with value: 0.9810872137348172.\n",
            "[I 2024-07-21 14:51:19,512] Trial 76 finished with value: 0.9806147969016935 and parameters: {'model_type': 'LGBM', 'boosting_type': 'gbdt', 'lambda_l1': 0.000931302626348771, 'lambda_l2': 0.0037919539311359472, 'num_leaves': 156, 'feature_fraction': 0.794642646908064, 'bagging_fraction': 0.9825566880676714, 'bagging_freq': 6, 'min_child_samples': 9}. Best is trial 56 with value: 0.9810872137348172.\n",
            "[I 2024-07-21 14:51:21,514] Trial 77 finished with value: 0.9789365239881114 and parameters: {'model_type': 'LGBM', 'boosting_type': 'gbdt', 'lambda_l1': 1.5260553571795366, 'lambda_l2': 2.3187894970847018e-05, 'num_leaves': 116, 'feature_fraction': 0.8838569624103589, 'bagging_fraction': 0.8904641182785217, 'bagging_freq': 4, 'min_child_samples': 94}. Best is trial 56 with value: 0.9810872137348172.\n",
            "[I 2024-07-21 14:51:23,061] Trial 78 finished with value: 0.9798552953529781 and parameters: {'model_type': 'LGBM', 'boosting_type': 'gbdt', 'lambda_l1': 0.11610427796484425, 'lambda_l2': 1.0353033432438865, 'num_leaves': 188, 'feature_fraction': 0.8988131658062103, 'bagging_fraction': 0.6745589594343927, 'bagging_freq': 2, 'min_child_samples': 12}. Best is trial 56 with value: 0.9810872137348172.\n",
            "[I 2024-07-21 14:51:23,159] Trial 79 finished with value: 0.9083748545551814 and parameters: {'model_type': 'DT', 'max_depth': 5, 'min_samples_leaf': 78}. Best is trial 56 with value: 0.9810872137348172.\n",
            "[I 2024-07-21 14:51:25,424] Trial 80 finished with value: 0.9508007915865396 and parameters: {'model_type': 'LGBM', 'boosting_type': 'dart', 'lambda_l1': 0.014382242808419167, 'lambda_l2': 0.0021296769844676515, 'num_leaves': 143, 'feature_fraction': 0.46074522704606685, 'bagging_fraction': 0.5785325910588869, 'bagging_freq': 3, 'min_child_samples': 5}. Best is trial 56 with value: 0.9810872137348172.\n",
            "[I 2024-07-21 14:51:26,549] Trial 81 finished with value: 0.9809241680814761 and parameters: {'model_type': 'LGBM', 'boosting_type': 'gbdt', 'lambda_l1': 0.2633813872406165, 'lambda_l2': 0.00019263875041571212, 'num_leaves': 134, 'feature_fraction': 0.8381879961980286, 'bagging_fraction': 0.9963775771610409, 'bagging_freq': 3, 'min_child_samples': 8}. Best is trial 56 with value: 0.9810872137348172.\n",
            "[I 2024-07-21 14:51:27,686] Trial 82 finished with value: 0.9807123298011147 and parameters: {'model_type': 'LGBM', 'boosting_type': 'gbdt', 'lambda_l1': 0.15173598240043057, 'lambda_l2': 6.225654996619641e-05, 'num_leaves': 135, 'feature_fraction': 0.8399975990703106, 'bagging_fraction': 0.954317503364611, 'bagging_freq': 2, 'min_child_samples': 9}. Best is trial 56 with value: 0.9810872137348172.\n",
            "[I 2024-07-21 14:51:29,045] Trial 83 finished with value: 0.9804054836447367 and parameters: {'model_type': 'LGBM', 'boosting_type': 'gbdt', 'lambda_l1': 0.33138831793851276, 'lambda_l2': 0.00020369551784916605, 'num_leaves': 162, 'feature_fraction': 0.8681061167405856, 'bagging_fraction': 0.983528643516719, 'bagging_freq': 3, 'min_child_samples': 16}. Best is trial 56 with value: 0.9810872137348172.\n",
            "[I 2024-07-21 14:51:30,270] Trial 84 finished with value: 0.980651546641778 and parameters: {'model_type': 'LGBM', 'boosting_type': 'gbdt', 'lambda_l1': 4.320983191409844, 'lambda_l2': 0.0004947993073715285, 'num_leaves': 145, 'feature_fraction': 0.8116781552715557, 'bagging_fraction': 0.9331723031607134, 'bagging_freq': 2, 'min_child_samples': 12}. Best is trial 56 with value: 0.9810872137348172.\n",
            "[I 2024-07-21 14:51:31,422] Trial 85 finished with value: 0.9808030618832511 and parameters: {'model_type': 'LGBM', 'boosting_type': 'gbdt', 'lambda_l1': 0.20745148503299193, 'lambda_l2': 1.8988536345461356e-05, 'num_leaves': 132, 'feature_fraction': 0.9074820577139537, 'bagging_fraction': 0.998841895129839, 'bagging_freq': 2, 'min_child_samples': 7}. Best is trial 56 with value: 0.9810872137348172.\n",
            "[I 2024-07-21 14:51:33,042] Trial 86 finished with value: 0.9801824200177278 and parameters: {'model_type': 'LGBM', 'boosting_type': 'gbdt', 'lambda_l1': 1.0066775207074, 'lambda_l2': 5.038180992169023e-06, 'num_leaves': 175, 'feature_fraction': 0.7235096462240341, 'bagging_fraction': 0.9675452672942014, 'bagging_freq': 3, 'min_child_samples': 15}. Best is trial 56 with value: 0.9810872137348172.\n",
            "[I 2024-07-21 14:51:33,117] Trial 87 finished with value: 0.9197154378234808 and parameters: {'model_type': 'LinReg'}. Best is trial 56 with value: 0.9810872137348172.\n",
            "[I 2024-07-21 14:51:34,822] Trial 88 finished with value: 0.9803736774466952 and parameters: {'model_type': 'LGBM', 'boosting_type': 'gbdt', 'lambda_l1': 0.08320779337702808, 'lambda_l2': 0.0012885288248851423, 'num_leaves': 111, 'feature_fraction': 0.8352011515356347, 'bagging_fraction': 0.9466146002102521, 'bagging_freq': 3, 'min_child_samples': 20}. Best is trial 56 with value: 0.9810872137348172.\n",
            "[I 2024-07-21 14:51:36,984] Trial 89 finished with value: 0.979569408834206 and parameters: {'model_type': 'LGBM', 'boosting_type': 'gbdt', 'lambda_l1': 0.002783007398687621, 'lambda_l2': 0.00015554532127002224, 'num_leaves': 207, 'feature_fraction': 0.7643976581254516, 'bagging_fraction': 0.9783044264298512, 'bagging_freq': 4, 'min_child_samples': 54}. Best is trial 56 with value: 0.9810872137348172.\n",
            "[I 2024-07-21 14:51:38,446] Trial 90 finished with value: 0.9796395698991719 and parameters: {'model_type': 'LGBM', 'boosting_type': 'gbdt', 'lambda_l1': 0.5415836113252034, 'lambda_l2': 7.194119574959517e-05, 'num_leaves': 154, 'feature_fraction': 0.7973849111645113, 'bagging_fraction': 0.9253896173060561, 'bagging_freq': 2, 'min_child_samples': 38}. Best is trial 56 with value: 0.9810872137348172.\n",
            "[I 2024-07-21 14:51:39,563] Trial 91 finished with value: 0.9808264334152745 and parameters: {'model_type': 'LGBM', 'boosting_type': 'gbdt', 'lambda_l1': 0.016435529445901015, 'lambda_l2': 0.00022761625440855917, 'num_leaves': 134, 'feature_fraction': 0.8239714882932364, 'bagging_fraction': 0.9996450442413689, 'bagging_freq': 3, 'min_child_samples': 8}. Best is trial 56 with value: 0.9810872137348172.\n",
            "[I 2024-07-21 14:51:40,715] Trial 92 finished with value: 0.9805607410210007 and parameters: {'model_type': 'LGBM', 'boosting_type': 'gbdt', 'lambda_l1': 0.03399402756450717, 'lambda_l2': 0.0004979259331571424, 'num_leaves': 130, 'feature_fraction': 0.8707320315502377, 'bagging_fraction': 0.983633974043477, 'bagging_freq': 5, 'min_child_samples': 12}. Best is trial 56 with value: 0.9810872137348172.\n",
            "[I 2024-07-21 14:51:41,886] Trial 93 finished with value: 0.9805740884159434 and parameters: {'model_type': 'LGBM', 'boosting_type': 'gbdt', 'lambda_l1': 0.06732350292915726, 'lambda_l2': 0.00013687842953807096, 'num_leaves': 143, 'feature_fraction': 0.8834035829639484, 'bagging_fraction': 0.9600000778642763, 'bagging_freq': 3, 'min_child_samples': 8}. Best is trial 56 with value: 0.9810872137348172.\n",
            "[I 2024-07-21 14:51:43,323] Trial 94 finished with value: 0.9792576319967203 and parameters: {'model_type': 'LGBM', 'boosting_type': 'gbdt', 'lambda_l1': 0.2171534082995529, 'lambda_l2': 5.756596554096389e-05, 'num_leaves': 122, 'feature_fraction': 0.84965649604104, 'bagging_fraction': 0.999521414161953, 'bagging_freq': 2, 'min_child_samples': 82}. Best is trial 56 with value: 0.9810872137348172.\n",
            "[I 2024-07-21 14:51:44,465] Trial 95 finished with value: 0.9804945298142171 and parameters: {'model_type': 'LGBM', 'boosting_type': 'gbdt', 'lambda_l1': 0.013151349610547597, 'lambda_l2': 0.0005400676617763865, 'num_leaves': 165, 'feature_fraction': 0.8287466064936364, 'bagging_fraction': 0.7346290473025423, 'bagging_freq': 2, 'min_child_samples': 7}. Best is trial 56 with value: 0.9810872137348172.\n",
            "[I 2024-07-21 14:51:45,640] Trial 96 finished with value: 0.9808670869109057 and parameters: {'model_type': 'LGBM', 'boosting_type': 'gbdt', 'lambda_l1': 0.037069143910583906, 'lambda_l2': 1.6021984225361603e-05, 'num_leaves': 137, 'feature_fraction': 0.7822359796522619, 'bagging_fraction': 0.9688330848653297, 'bagging_freq': 3, 'min_child_samples': 11}. Best is trial 56 with value: 0.9810872137348172.\n",
            "[I 2024-07-21 14:51:47,081] Trial 97 finished with value: 0.9805322392780459 and parameters: {'model_type': 'LGBM', 'boosting_type': 'gbdt', 'lambda_l1': 2.973618466434546, 'lambda_l2': 1.9113098266017324e-05, 'num_leaves': 114, 'feature_fraction': 0.7428501313307566, 'bagging_fraction': 0.9451048249230823, 'bagging_freq': 4, 'min_child_samples': 14}. Best is trial 56 with value: 0.9810872137348172.\n",
            "[I 2024-07-21 14:51:47,200] Trial 98 finished with value: 0.8941339455688748 and parameters: {'model_type': 'DT', 'max_depth': 4, 'min_samples_leaf': 30}. Best is trial 56 with value: 0.9810872137348172.\n",
            "[I 2024-07-21 14:51:49,073] Trial 99 finished with value: 0.9806491560389206 and parameters: {'model_type': 'LGBM', 'boosting_type': 'gbdt', 'lambda_l1': 0.11020317601989753, 'lambda_l2': 8.275042343693924e-07, 'num_leaves': 148, 'feature_fraction': 0.7843297385060729, 'bagging_fraction': 0.9680988425284265, 'bagging_freq': 3, 'min_child_samples': 17}. Best is trial 56 with value: 0.9810872137348172.\n"
          ]
        }
      ]
    },
    {
      "cell_type": "code",
      "source": [
        "study.best_value"
      ],
      "metadata": {
        "colab": {
          "base_uri": "https://localhost:8080/"
        },
        "id": "-TSu44uBlyzg",
        "outputId": "84242fc7-3c01-45da-b81b-1569f7049bb4"
      },
      "execution_count": 100,
      "outputs": [
        {
          "output_type": "execute_result",
          "data": {
            "text/plain": [
              "0.9810872137348172"
            ]
          },
          "metadata": {},
          "execution_count": 100
        }
      ]
    },
    {
      "cell_type": "code",
      "source": [
        "study.best_params"
      ],
      "metadata": {
        "colab": {
          "base_uri": "https://localhost:8080/"
        },
        "id": "nxXhax4kl72G",
        "outputId": "0ac253a7-7dfa-4535-caa6-e31d54983325"
      },
      "execution_count": 101,
      "outputs": [
        {
          "output_type": "execute_result",
          "data": {
            "text/plain": [
              "{'model_type': 'LGBM',\n",
              " 'boosting_type': 'gbdt',\n",
              " 'lambda_l1': 0.28585418339017427,\n",
              " 'lambda_l2': 0.00021532730169661097,\n",
              " 'num_leaves': 154,\n",
              " 'feature_fraction': 0.7567093390470007,\n",
              " 'bagging_fraction': 0.9983124133299196,\n",
              " 'bagging_freq': 3,\n",
              " 'min_child_samples': 5}"
            ]
          },
          "metadata": {},
          "execution_count": 101
        }
      ]
    }
  ]
}